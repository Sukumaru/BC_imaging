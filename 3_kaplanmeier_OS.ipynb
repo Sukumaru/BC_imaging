{
 "cells": [
  {
   "cell_type": "code",
   "execution_count": 15,
   "metadata": {},
   "outputs": [],
   "source": [
    "grade_1 = [3, 9, 12, 15, 17, 48, 50, 62, 65, 69, 82, 92, 101, 109, 112, 121, 122, 153, 167, 179, 180, 183, 185, 188, 198, 203, 213, 218, 222, 225, 231, 235, 247, 255]\n",
    "grade_2 = [0, 1, 4, 10, 16, 20, 23, 24, 26, 29, 32, 33, 35, 37, 39, 40, 41, 42, 46, 51, 52, 53, 54, 55, 58, 59, 67, 70, 73, 74, 77, 79, 80, 85, 86, 89, 95, 98, 104, 105, 107, 110, 118, 119, 120, 123, 126, 129, 131, 134, 140, 141, 143, 145, 146, 154, 155, 157, 158, 161, 164, 165, 170, 173, 176, 178, 184, 186, 187, 189, 190, 192, 193, 194, 197, 199, 200, 202, 204, 205, 207, 210, 211, 214, 215, 216, 217, 219, 221, 223, 224, 226, 227, 229, 232, 234, 237, 238, 239, 240, 241, 244, 249, 250, 251, 252, 256, 257, 258]\n",
    "grade_3 = [2, 5, 6, 7, 8, 11, 13, 14, 18, 19, 21, 22, 25, 27, 28, 30, 31, 34, 36, 38, 43, 44, 45, 47, 49, 56, 57, 60, 61, 63, 64, 66, 68, 71, 72, 75, 76, 78, 81, 83, 84, 87, 88, 90, 91, 93, 94, 96, 97, 99, 100, 102, 103, 106, 108, 111, 113, 114, 115, 116, 117, 124, 125, 127, 128, 130, 132, 133, 135, 136, 137, 138, 139, 142, 144, 147, 148, 149, 150, 151, 152, 156, 159, 160, 162, 163, 166, 168, 169, 171, 172, 174, 175, 177, 181, 182, 191, 195, 196, 201, 206, 208, 209, 212, 220, 228, 230, 233, 236, 242, 243, 245, 246, 248, 253, 254]"
   ]
  },
  {
   "cell_type": "code",
   "execution_count": 2,
   "metadata": {},
   "outputs": [],
   "source": [
    "ER_pos = [0, 1, 2, 3, 4, 5, 6, 8, 9, 10, 12, 15, 16, 17, 18, 20, 22, 23, 24, 26, 27, 28, 29, 31, 32, 34, 35, 37, 38, 39, 40, 41, 42, 45, 46, 47, 48, 50, 51, 52, 53, 54, 55, 57, 58, 59, 62, 63, 64, 66, 67, 68, 69, 70, 72, 73, 74, 77, 79, 80, 82, 85, 86, 87, 88, 89, 90, 91, 92, 93, 94, 95, 96, 98, 100, 101, 104, 105, 109, 110, 111, 112, 114, 115, 116, 117, 119, 121, 122, 123, 125, 127, 129, 130, 131, 132, 133, 134, 136, 137, 138, 141, 143, 144, 145, 146, 147, 150, 153, 154, 155, 157, 158, 161, 162, 164, 165, 166, 167, 169, 170, 171, 173, 176, 177, 178, 179, 182, 183, 184, 185, 186, 187, 188, 189, 190, 191, 192, 193, 194, 195, 197, 198, 199, 200, 202, 203, 204, 205, 206, 212, 213, 214, 217, 218, 219, 221, 222, 223, 224, 225, 226, 227, 228, 229, 231, 232, 234, 235, 236, 237, 238, 239, 240, 241, 242, 243, 244, 246, 247, 248, 249, 250, 251, 252, 253, 254, 255, 256, 257, 258]\n",
    "ER_neg = [7, 11, 13, 14, 19, 21, 25, 30, 33, 36, 43, 44, 49, 56, 60, 61, 65, 71, 75, 76, 78, 81, 83, 84, 97, 99, 102, 103, 106, 107, 108, 113, 118, 120, 124, 126, 128, 135, 139, 140, 142, 148, 149, 151, 152, 156, 159, 160, 163, 168, 172, 174, 175, 180, 181, 196, 201, 207, 208, 209, 210, 211, 215, 216, 220, 230, 233, 245]"
   ]
  },
  {
   "cell_type": "code",
   "execution_count": 3,
   "metadata": {},
   "outputs": [],
   "source": [
    "PR_pos = [0, 1, 2, 3, 4, 5, 6, 8, 9, 15, 17, 18, 20, 24, 26, 27, 28, 31, 32, 35, 37, 39, 41, 45, 46, 48, 50, 52, 53, 57, 58, 59, 62, 63, 67, 68, 69, 70, 74, 77, 80, 82, 85, 87, 89, 91, 93, 94, 95, 96, 100, 101, 105, 109, 110, 111, 112, 114, 115, 116, 119, 121, 122, 123, 129, 130, 132, 134, 136, 137, 138, 143, 144, 145, 146, 147, 150, 153, 155, 157, 158, 161, 162, 164, 165, 166, 167, 169, 170, 171, 176, 177, 178, 179, 182, 183, 184, 185, 186, 188, 189, 190, 193, 194, 197, 199, 202, 203, 205, 212, 213, 215, 218, 221, 222, 223, 224, 225, 226, 227, 228, 229, 231, 232, 234, 235, 237, 238, 240, 241, 243, 244, 247, 248, 249, 250, 251, 252, 253, 254, 255, 256, 258]\n",
    "PR_neg = [7, 10, 11, 12, 13, 14, 16, 19, 21, 22, 23, 25, 29, 30, 33, 34, 36, 38, 40, 42, 43, 44, 47, 49, 51, 54, 55, 56, 60, 61, 64, 65, 66, 71, 72, 73, 75, 76, 78, 79, 81, 83, 84, 86, 88, 90, 92, 97, 98, 99, 102, 103, 104, 106, 107, 108, 113, 117, 118, 120, 124, 125, 126, 127, 128, 131, 133, 135, 139, 140, 141, 142, 148, 149, 151, 152, 154, 156, 159, 160, 163, 168, 172, 173, 174, 175, 180, 181, 187, 191, 192, 195, 196, 198, 200, 201, 204, 206, 207, 208, 209, 210, 211, 214, 216, 217, 219, 220, 230, 233, 236, 239, 242, 245, 246, 257]"
   ]
  },
  {
   "cell_type": "code",
   "execution_count": 4,
   "metadata": {},
   "outputs": [],
   "source": [
    "HER2_pos = [11, 13, 24, 25, 26, 34, 36, 42, 43, 44, 46, 57, 65, 69, 72, 76, 81, 93, 113, 115, 118, 124, 125, 131, 133, 139, 140, 147, 149, 155, 162, 168, 169, 173, 175, 180, 191, 195, 197, 201, 204, 207, 210, 211, 212, 223, 230, 248, 253]\n",
    "HER2_neg = [0, 1, 2, 3, 4, 5, 6, 7, 8, 9, 10, 12, 14, 15, 16, 17, 18, 19, 20, 21, 22, 23, 27, 28, 29, 30, 31, 32, 33, 35, 37, 38, 39, 40, 41, 45, 47, 48, 49, 50, 51, 52, 53, 54, 55, 56, 58, 59, 60, 61, 62, 63, 64, 66, 67, 68, 70, 71, 73, 74, 75, 77, 78, 79, 80, 82, 83, 84, 85, 86, 87, 88, 89, 90, 91, 92, 94, 95, 96, 97, 98, 99, 100, 101, 102, 103, 104, 105, 106, 107, 108, 109, 110, 111, 112, 114, 116, 117, 119, 120, 121, 122, 123, 126, 127, 128, 129, 130, 132, 134, 135, 136, 137, 138, 141, 142, 143, 144, 145, 146, 148, 150, 151, 152, 153, 154, 156, 157, 158, 159, 160, 161, 163, 164, 165, 166, 167, 170, 171, 172, 174, 176, 177, 178, 179, 181, 182, 183, 184, 185, 186, 187, 188, 189, 190, 192, 193, 194, 196, 198, 199, 200, 202, 203, 205, 206, 208, 209, 213, 214, 215, 216, 217, 218, 219, 220, 221, 222, 224, 225, 226, 227, 228, 229, 231, 232, 233, 234, 235, 236, 237, 238, 239, 240, 241, 242, 243, 244, 245, 246, 247, 249, 250, 251, 252, 254, 255, 256, 257, 258]"
   ]
  },
  {
   "cell_type": "code",
   "execution_count": 76,
   "metadata": {},
   "outputs": [],
   "source": []
  },
  {
   "cell_type": "code",
   "execution_count": null,
   "metadata": {},
   "outputs": [],
   "source": [
    "# #patient indexes lee_NMF\n",
    "# clus_1 = [3, 73, 97, 110, 122, 154, 164, 238]\n",
    "# clus_2 = [20, 24, 33, 41, 46, 57, 62, 81, 91, 216]\n",
    "# clus_3 = [9, 16, 34, 35, 45, 47, 94, 114, 162, 169, 170, 176, 195, 201, 206, 214, 224, 242]\n",
    "# clus_4 = [12, 36, 58, 65, 70, 140, 156, 175, 180, 185, 203, 207, 229, 236, 241, 258]\n",
    "# clus_5 = [0, 38, 55, 59, 85, 89, 92, 109, 134, 146, 183, 184, 197, 198, 212, 226, 231, 244, 255]\n",
    "# clus_6 = [1, 2, 4, 7, 8, 10, 11, 13, 14, 15, 17, 18, 19, 21, 22, 25, 26, 27, 28, 30, 31, 32, 37, 39, 40, 42, 43, 44, 48, 49, 50, 51, 52, 53, 54, 56, 60, 61, 63, 64, 66, 67, 69, 71, 72, 75, 76, 77, 78, 79, 80, 82, 83, 84, 86, 87, 90, 93, 96, 98, 99, 100, 102, 103, 104, 105, 106, 107, 108, 111, 113, 115, 116, 117, 118, 120, 121, 124, 125, 127, 128, 129, 130, 131, 132, 135, 136, 137, 138, 139, 141, 142, 143, 144, 145, 147, 148, 149, 150, 151, 152, 153, 155, 159, 160, 161, 163, 166, 167, 168, 172, 173, 174, 177, 178, 179, 181, 182, 186, 187, 189, 190, 191, 192, 193, 194, 196, 199, 200, 204, 205, 208, 209, 210, 211, 213, 215, 217, 220, 222, 223, 225, 227, 228, 230, 232, 233, 234, 237, 239, 240, 243, 245, 246, 247, 248, 249, 250, 252, 253, 254, 257]\n",
    "# clus_7 = [5, 6, 23, 29, 68, 74, 88, 95, 101, 112, 119, 123, 126, 133, 157, 158, 165, 171, 188, 202, 218, 219, 221, 235, 251, 256]"
   ]
  },
  {
   "cell_type": "code",
   "execution_count": 57,
   "metadata": {},
   "outputs": [],
   "source": [
    "# #patient indexes brunet_NMF\n",
    "# clus_1 = [4, 11, 13, 19, 25, 30, 40, 49, 54, 63, 75, 76, 77, 78, 79, 83, 84, 86, 90, 93, 98, 102, 103, 104, 113, 124, 125, 128, 135, 136, 139, 142, 143, 144, 148, 159, 161, 168, 199, 228, 233, 248]\n",
    "# clus_2 = [5, 6, 22, 23, 27, 29, 31, 48, 50, 68, 74, 88, 95, 101, 112, 119, 123, 126, 132, 133, 145, 147, 157, 158, 165, 167, 171, 177, 178, 179, 188, 190, 193, 202, 215, 218, 219, 221, 235, 251, 256]\n",
    "# clus_3 = [2, 3, 20, 24, 26, 33, 41, 46, 57, 62, 67, 72, 73, 81, 91, 97, 110, 122, 131, 154, 164, 187, 189, 213, 216, 222, 238, 246, 247, 254, 257]\n",
    "# clus_4 = [8, 14, 21, 56, 60, 61, 69, 82, 99, 100, 106, 107, 108, 115, 117, 149, 152, 155, 160, 163, 172, 174, 181, 208, 209, 220, 230, 243, 245]\n",
    "# clus_5 = [0, 1, 7, 15, 18, 32, 38, 39, 52, 55, 59, 85, 87, 89, 92, 105, 109, 116, 120, 134, 137, 138, 146, 150, 166, 173, 182, 183, 184, 186, 197, 198, 212, 225, 226, 231, 237, 244, 249, 255]\n",
    "# clus_6 = [12, 17, 28, 36, 37, 42, 43, 53, 58, 64, 65, 70, 71, 80, 96, 111, 118, 121, 130, 140, 141, 151, 153, 156, 175, 180, 185, 192, 194, 196, 200, 203, 207, 210, 211, 227, 229, 232, 234, 236, 240, 241, 253, 258]\n",
    "# clus_7 = [9, 10, 16, 34, 35, 44, 45, 47, 51, 66, 94, 114, 127, 129, 162, 169, 170, 176, 191, 195, 201, 204, 205, 206, 214, 217, 223, 224, 239, 242, 250, 252]"
   ]
  },
  {
   "cell_type": "code",
   "execution_count": 15,
   "metadata": {},
   "outputs": [],
   "source": [
    "# ## new patient indexes\n",
    "# #patient indexes lee_NMF\n",
    "# clus_1 = [12, 36, 58, 65, 70, 140, 156, 175, 180, 185, 192, 203, 207, 229, 236, 241, 258]\n",
    "# clus_2 = [3, 73, 97, 110, 122, 154, 164, 238]\n",
    "# clus_3 = [5, 6, 23, 29, 68, 74, 88, 95, 101, 112, 119, 123, 126, 133, 157, 158, 165, 188, 202, 218, 219, 221, 235, 251, 256]\n",
    "# clus_4 = [9, 16, 34, 35, 45, 47, 94, 114, 162, 169, 170, 176, 195, 201, 206, 214, 224, 242]\n",
    "# clus_5 = [1, 2, 4, 7, 8, 10, 11, 13, 14, 15, 17, 18, 19, 21, 22, 25, 26, 27, 28, 30, 31, 32, 37, 39, 40, 42, 43, 44, 48, 49, 50, 51, 52, 53, 54, 56, 60, 61, 63, 64, 66, 67, 69, 71, 72, 75, 76, 77, 78, 79, 80, 82, 83, 84, 86, 87, 90, 93, 96, 98, 99, 100, 102, 103, 104, 105, 106, 107, 108, 111, 113, 115, 116, 117, 118, 120, 121, 124, 125, 127, 128, 129, 130, 131, 132, 135, 136, 137, 138, 139, 141, 142, 143, 144, 145, 147, 148, 149, 150, 151, 152, 153, 155, 159, 160, 161, 163, 166, 167, 168, 171, 172, 173, 174, 177, 178, 179, 181, 182, 186, 187, 189, 190, 191, 193, 194, 196, 199, 200, 204, 205, 208, 209, 210, 211, 213, 215, 217, 220, 222, 223, 225, 227, 228, 230, 232, 233, 234, 237, 239, 240, 243, 245, 246, 247, 248, 249, 250, 252, 253, 254, 257]\n",
    "# clus_6 = [20, 24, 33, 41, 46, 57, 62, 81, 91, 216]\n",
    "# clus_7 = [0, 38, 55, 59, 85, 89, 92, 109, 134, 146, 183, 184, 197, 198, 212, 226, 231, 244, 255]"
   ]
  },
  {
   "cell_type": "code",
   "execution_count": 62,
   "metadata": {},
   "outputs": [],
   "source": [
    "# #### NMF analysis sub-grouping 12th Apr\n",
    "# #12th April 2021 ; do not use\n",
    "# clus_1 = [12, 28, 36, 53, 65, 70, 111, 114, 140, 153, 156, 175, 180, 185, 203, 207, 211, 229, 232, 233, 234, 236, 241]\n",
    "# clus_2 = [0, 1, 6, 8, 16, 18, 20, 24, 26, 32, 33, 34, 37, 38, 39, 41, 45, 46, 48, 50, 52, 55, 57, 58, 61, 62, 68, 73, 81, 82, 85, 87, 89, 91, 98, 99, 120, 127, 131, 138, 144, 145, 146, 155, 157, 166, 170, 176, 182, 184, 187, 189, 195, 198, 201, 204, 206, 223, 225, 231, 237, 242, 248, 249, 258]\n",
    "# clus_3 = [10, 27, 42, 64, 71, 80, 96, 118, 130, 151, 168, 200, 240]\n",
    "# clus_4 = [56, 60, 100, 106, 108, 160, 174]\n",
    "# clus_5 = [4, 5, 7, 11, 13, 14, 17, 19, 21, 30, 43, 47, 54, 63, 67, 69, 75, 78, 79, 83, 84, 86, 93, 94, 102, 103, 107, 110, 113, 125, 128, 133, 135, 136, 139, 142, 143, 148, 159, 161, 164, 169, 179, 194, 210, 213, 216, 239, 246, 252, 253]\n",
    "# clus_6 = [2, 9, 15, 29, 31, 35, 40, 44, 49, 51, 59, 66, 72, 74, 77, 88, 90, 92, 95, 101, 104, 105, 109, 112, 116, 119, 121, 122, 123, 126, 129, 134, 137, 141, 147, 150, 158, 162, 165, 167, 171, 173, 177, 178, 183, 186, 188, 190, 191, 192, 193, 197, 199, 202, 205, 209, 212, 214, 215, 217, 218, 219, 221, 222, 224, 226, 227, 228, 235, 244, 247, 250, 251, 255, 256, 257]\n",
    "# clus_7 = [3, 22, 23, 25, 76, 97, 115, 117, 124, 132, 149, 152, 154, 163, 172, 181, 196, 208, 220, 230, 238, 243, 245, 254]"
   ]
  },
  {
   "cell_type": "code",
   "execution_count": 13,
   "metadata": {},
   "outputs": [],
   "source": [
    "# #### NMF analysis sub-grouping 12th Apr\n",
    "# #12th April 2021 use this for good result; rechecked done; another rechek done; ekdm final\n",
    "# clus_1 = [12, 28, 36, 53, 65, 70, 111, 114, 140, 153, 156, 175, 180, 185, 203, 207, 211, 229, 232, 233, 234, 236, 241]\n",
    "# clus_2 = [0, 1, 6, 8, 16, 18, 20, 24, 26, 32, 33, 34, 37, 38, 39, 41, 45, 46, 48, 50, 52, 55, 57, 58, 61, 62, 68, 73, 81, 82, 85, 87, 89, 91, 98, 99, 120, 127, 131, 138, 144, 145, 146, 155, 157, 166, 170, 176, 182, 184, 187, 189, 195, 198, 201, 204, 206, 223, 225, 231, 237, 242, 248, 249, 258]\n",
    "# clus_3 = [10, 27, 42, 64, 71, 80, 96, 118, 130, 151, 168, 200, 240]\n",
    "# clus_4 = [3, 56, 60, 100, 106, 108, 160, 174]\n",
    "# clus_5 = [4, 5, 7, 11, 13, 14, 17, 19, 21, 30, 43, 47, 54, 63, 67, 69, 75, 78, 79, 83, 84, 86, 93, 94, 102, 103, 107, 110, 113, 125, 128, 133, 135, 136, 139, 142, 143, 148, 159, 161, 164, 169, 179, 194, 210, 213, 216, 239, 246, 252, 253]\n",
    "# clus_6 = [2, 9, 15, 29, 31, 35, 40, 44, 49, 51, 59, 66, 72, 74, 77, 88, 90, 92, 95, 101, 104, 105, 109, 112, 116, 119, 121, 122, 123, 126, 129, 134, 137, 141, 147, 150, 158, 162, 165, 167, 171, 173, 177, 178, 183, 186, 188, 190, 191, 192, 193, 197, 199, 202, 205, 209, 212, 214, 215, 217, 218, 219, 221, 222, 224, 226, 227, 228, 235, 244, 247, 250, 251, 255, 256, 257]\n",
    "# clus_7 = [22, 23, 25, 76, 97, 115, 117, 124, 132, 149, 152, 154, 163, 172, 181, 196, 208, 220, 230, 238, 243, 245, 254]"
   ]
  },
  {
   "cell_type": "code",
   "execution_count": 15,
   "metadata": {},
   "outputs": [],
   "source": [
    "#### NMF analysis sub-grouping 27 June 2021\n",
    "#27 June 2021 use this for good result; rechecked done; another rechek done; ekdm final\n",
    "\n",
    "####new cluster assignments 0-indexed\n",
    "clus_1 = [12, 28, 36, 53, 65, 70, 111, 114, 140, 153, 156, 175, 180, 185, 203, 207, 211, 229, 232, 233, 234, 236, 241]\n",
    "clus_2 = [0, 1, 6, 8, 16, 18, 20, 24, 26, 32, 33, 34, 37, 38, 39, 41, 45, 46, 48, 50, 52, 55, 57, 58, 61, 62, 68, 73, 81, 82, 85, 87, 89, 91, 98, 99, 120, 127, 131, 138, 144, 145, 146, 155, 157, 166, 170, 176, 182, 184, 187, 189, 195, 198, 201, 204, 206, 223, 225, 231, 237, 242, 248, 249, 258]\n",
    "clus_3 = [4, 5, 7, 11, 13, 14, 17, 19, 21, 30, 43, 47, 54, 63, 67, 69, 75, 78, 79, 83, 84, 86, 93, 94, 102, 103, 107, 110, 113, 125, 128, 133, 135, 136, 139, 142, 143, 148, 159, 161, 164, 169, 179, 194, 210, 213, 216, 239, 246, 252, 253]\n",
    "clus_4 = [2, 9, 15, 29, 31, 35, 40, 44, 49, 51, 59, 66, 72, 74, 77, 88, 90, 92, 95, 101, 104, 105, 109, 112, 116, 119, 121, 122, 123, 126, 129, 134, 137, 141, 147, 150, 158, 162, 165, 167, 171, 173, 177, 178, 183, 186, 188, 190, 191, 192, 193, 197, 199, 202, 205, 209, 212, 214, 215, 217, 218, 219, 221, 222, 224, 226, 227, 228, 235, 244, 247, 250, 251, 255, 256, 257]\n",
    "clus_5 = [22, 23, 25, 76, 97, 115, 117, 124, 132, 149, 152, 154, 163, 172, 181, 196, 208, 220, 230, 238, 243, 245, 254]\n",
    "clus_6 = [10, 27, 42, 64, 71, 80, 96, 118, 130, 151, 168, 200, 240]\n",
    "clus_7 = [3, 56, 60, 100, 106, 108, 160, 174]\n",
    "\n",
    "\n"
   ]
  },
  {
   "cell_type": "code",
   "execution_count": 130,
   "metadata": {},
   "outputs": [
    {
     "name": "stdout",
     "output_type": "stream",
     "text": [
      "[4, 57, 61, 101, 107, 109, 161, 175]\n"
     ]
    }
   ],
   "source": [
    "print([1+item for item in clus_7])"
   ]
  },
  {
   "cell_type": "code",
   "execution_count": 131,
   "metadata": {},
   "outputs": [],
   "source": [
    "####new cluster assignments 1-indexed for getting the images\n",
    "oi_clus_1 = [13, 29, 37, 54, 66, 71, 112, 115, 141, 154, 157, 176, 181, 186, 204, 208, 212, 230, 233, 234, 235, 237, 242]\n",
    "oi_clus_2 = [1, 2, 7, 9, 17, 19, 21, 25, 27, 33, 34, 35, 38, 39, 40, 42, 46, 47, 49, 51, 53, 56, 58, 59, 62, 63, 69, 74, 82, 83, 86, 88, 90, 92, 99, 100, 121, 128, 132, 139, 145, 146, 147, 156, 158, 167, 171, 177, 183, 185, 188, 190, 196, 199, 202, 205, 207, 224, 226, 232, 238, 243, 249, 250, 259]\n",
    "oi_clus_3 = [5, 6, 8, 12, 14, 15, 18, 20, 22, 31, 44, 48, 55, 64, 68, 70, 76, 79, 80, 84, 85, 87, 94, 95, 103, 104, 108, 111, 114, 126, 129, 134, 136, 137, 140, 143, 144, 149, 160, 162, 165, 170, 180, 195, 211, 214, 217, 240, 247, 253, 254]\n",
    "oi_clus_4 = [3, 10, 16, 30, 32, 36, 41, 45, 50, 52, 60, 67, 73, 75, 78, 89, 91, 93, 96, 102, 105, 106, 110, 113, 117, 120, 122, 123, 124, 127, 130, 135, 138, 142, 148, 151, 159, 163, 166, 168, 172, 174, 178, 179, 184, 187, 189, 191, 192, 193, 194, 198, 200, 203, 206, 210, 213, 215, 216, 218, 219, 220, 222, 223, 225, 227, 228, 229, 236, 245, 248, 251, 252, 256, 257, 258]\n",
    "oi_clus_5 = [23, 24, 26, 77, 98, 116, 118, 125, 133, 150, 153, 155, 164, 173, 182, 197, 209, 221, 231, 239, 244, 246, 255]\n",
    "oi_clus_6 = [11, 28, 43, 65, 72, 81, 97, 119, 131, 152, 169, 201, 241]\n",
    "oi_clus_7 = [4, 57, 61, 101, 107, 109, 161, 175]"
   ]
  },
  {
   "cell_type": "code",
   "execution_count": 31,
   "metadata": {},
   "outputs": [],
   "source": [
    "overall = clus_1+clus_2+clus_3+clus_4+clus_5+clus_6+clus_7"
   ]
  },
  {
   "cell_type": "code",
   "execution_count": 33,
   "metadata": {},
   "outputs": [],
   "source": [
    "overall = [item +1 for item in overall]"
   ]
  },
  {
   "cell_type": "code",
   "execution_count": 34,
   "metadata": {},
   "outputs": [
    {
     "name": "stdout",
     "output_type": "stream",
     "text": [
      "[13, 29, 37, 54, 66, 71, 112, 115, 141, 154, 157, 176, 181, 186, 204, 208, 212, 230, 233, 234, 235, 237, 242, 1, 2, 7, 9, 17, 19, 21, 25, 27, 33, 34, 35, 38, 39, 40, 42, 46, 47, 49, 51, 53, 56, 58, 59, 62, 63, 69, 74, 82, 83, 86, 88, 90, 92, 99, 100, 121, 128, 132, 139, 145, 146, 147, 156, 158, 167, 171, 177, 183, 185, 188, 190, 196, 199, 202, 205, 207, 224, 226, 232, 238, 243, 249, 250, 259, 11, 28, 43, 65, 72, 81, 97, 119, 131, 152, 169, 201, 241, 4, 57, 61, 101, 107, 109, 161, 175, 5, 6, 8, 12, 14, 15, 18, 20, 22, 31, 44, 48, 55, 64, 68, 70, 76, 79, 80, 84, 85, 87, 94, 95, 103, 104, 108, 111, 114, 126, 129, 134, 136, 137, 140, 143, 144, 149, 160, 162, 165, 170, 180, 195, 211, 214, 217, 240, 247, 253, 254, 3, 10, 16, 30, 32, 36, 41, 45, 50, 52, 60, 67, 73, 75, 78, 89, 91, 93, 96, 102, 105, 106, 110, 113, 117, 120, 122, 123, 124, 127, 130, 135, 138, 142, 148, 151, 159, 163, 166, 168, 172, 174, 178, 179, 184, 187, 189, 191, 192, 193, 194, 198, 200, 203, 206, 210, 213, 215, 216, 218, 219, 220, 222, 223, 225, 227, 228, 229, 236, 245, 248, 251, 252, 256, 257, 258, 23, 24, 26, 77, 98, 116, 118, 125, 133, 150, 153, 155, 164, 173, 182, 197, 209, 221, 231, 239, 244, 246, 255]\n"
     ]
    }
   ],
   "source": [
    "print(overall) ## this works but can be better"
   ]
  },
  {
   "cell_type": "code",
   "execution_count": 2,
   "metadata": {},
   "outputs": [
    {
     "name": "stdout",
     "output_type": "stream",
     "text": [
      "clus_1 23\n",
      "clus_2 65\n",
      "clus_3 51\n",
      "clus_4 76\n",
      "clus_5 23\n",
      "clus_6 13\n",
      "clus_7 8\n"
     ]
    }
   ],
   "source": [
    "#sub population in different clusters on updated cluster assignments\n",
    "print(\"clus_1\",len(clus_1))\n",
    "print(\"clus_2\",len(clus_2))\n",
    "print(\"clus_3\",len(clus_3))\n",
    "print(\"clus_4\",len(clus_4))\n",
    "print(\"clus_5\",len(clus_5))\n",
    "print(\"clus_6\",len(clus_6))\n",
    "print(\"clus_7\",len(clus_7))"
   ]
  },
  {
   "cell_type": "code",
   "execution_count": 26,
   "metadata": {},
   "outputs": [],
   "source": [
    "#### some analysis for clusters\n",
    "#temp_clus_average = [109,175,161,107,101,57,61,201,28,241,169,152,131,119,97,81,72,65,11,43,76,4,77,9,120,209,221,164,155,255,246,244,239,231,197,182,173,153,150,133,125,118,98,23,26,24,116,142,193,233,235,59,259,212,154,115,242,208,204,186,181,176,157,141,71,66,13,29,237,54,230,37,112,137,234,44,211,94,8,240,70,217,20,165,48,111,140,214,114,6,55,95,129,180,85,22,170,249,62,224,104,254,253,195,162,160,149,143,134,87,5,12,136,126,103,84,80,79,64,31,15,18,144,14,108,132,68,247,2,19,34,47,63,188,58,190,92,25,42,27,82,33,130,124,206,3,178,135,229,228,41,220,210,248,258,251,215,36,187,60,73,105,32,122,252,256,245,227,223,222,218,213,198,194,191,189,179,174,172,138,123,110,106,93,16,52,67,159,30,96,257,236,219,216,203,166,148,127,113,102,75,89,50,225,192,184,151,10,117,45,91,78,200,163,168,49,158,83,100,177,74,46,99,7,21,121,171,156,196,205,250,243,88,183,128,145,38,232,226,199,167,147,90,40,1,35,207,202,146,17,53,51,238,185,139,56,86,39,69]\n",
    "#temp_clus_complete = [109,175,161,107,101,57,61,142,193,233,59,259,235,212,154,115,242,208,204,186,181,176,157,141,71,66,13,29,237,54,230,37,112,130,201,28,241,169,152,131,119,97,81,72,65,11,43,163,168,78,200,49,158,74,46,99,177,83,100,137,234,44,211,70,217,20,165,95,214,114,6,55,249,62,224,85,22,170,129,180,104,254,253,195,162,160,149,143,134,87,5,12,136,126,103,84,80,79,64,31,15,18,144,14,108,94,8,240,140,48,111,76,4,77,9,120,209,221,164,155,255,246,244,239,231,197,182,173,153,150,133,125,118,98,23,26,24,116,7,21,121,171,156,196,205,250,243,88,183,128,145,38,232,226,199,167,147,90,40,1,35,207,202,146,17,53,69,39,51,238,185,139,56,86,248,258,251,215,36,187,60,50,225,192,184,151,10,117,45,91,122,252,32,256,245,227,223,222,218,213,198,194,191,189,179,174,172,138,123,110,106,93,16,52,67,159,30,96,257,236,219,216,203,166,148,127,113,102,75,89,124,206,3,178,135,229,228,41,220,210,73,105,132,68,247,33,2,190,92,25,42,27,82,188,58,19,34,47,63]"
   ]
  },
  {
   "cell_type": "code",
   "execution_count": 27,
   "metadata": {},
   "outputs": [],
   "source": [
    "temp_clus = temp_clus_complete"
   ]
  },
  {
   "cell_type": "code",
   "execution_count": 28,
   "metadata": {},
   "outputs": [],
   "source": [
    "temp_clus = [item -1 for item in temp_clus]"
   ]
  },
  {
   "cell_type": "code",
   "execution_count": 29,
   "metadata": {},
   "outputs": [],
   "source": [
    "naming = []\n",
    "for item in temp_clus:\n",
    "    if item in clus_1:\n",
    "        naming.append(1)\n",
    "    elif item in clus_2:\n",
    "        naming.append(2)\n",
    "    elif item in clus_3:\n",
    "        naming.append(3)\n",
    "    elif item in clus_4:\n",
    "        naming.append(4)\n",
    "    elif item in clus_5:\n",
    "        naming.append(5)\n",
    "    elif item in clus_6:\n",
    "        naming.append(6)\n",
    "    else:\n",
    "        naming.append(7)"
   ]
  },
  {
   "cell_type": "code",
   "execution_count": 30,
   "metadata": {},
   "outputs": [
    {
     "name": "stdout",
     "output_type": "stream",
     "text": [
      "[4, 4, 4, 4, 4, 4, 4, 6, 6, 1, 2, 2, 1, 1, 1, 1, 1, 1, 1, 1, 1, 1, 1, 1, 1, 1, 1, 1, 1, 1, 1, 1, 1, 6, 3, 3, 3, 3, 3, 3, 3, 3, 3, 3, 3, 3, 3, 6, 6, 6, 6, 2, 2, 2, 2, 2, 2, 2, 2, 5, 1, 5, 5, 5, 5, 5, 5, 5, 5, 5, 5, 5, 2, 2, 2, 5, 5, 5, 5, 5, 5, 5, 5, 5, 5, 5, 5, 5, 5, 5, 5, 5, 5, 5, 5, 5, 5, 5, 5, 5, 5, 5, 5, 5, 5, 5, 5, 5, 5, 5, 5, 5, 4, 7, 2, 6, 7, 7, 7, 7, 7, 7, 7, 7, 7, 7, 7, 7, 7, 7, 7, 7, 7, 7, 7, 7, 7, 7, 2, 2, 2, 2, 2, 2, 2, 2, 2, 2, 2, 2, 2, 2, 2, 2, 2, 2, 2, 2, 2, 2, 2, 2, 2, 2, 2, 2, 2, 2, 2, 2, 2, 2, 2, 2, 6, 6, 6, 6, 6, 6, 6, 6, 6, 6, 6, 6, 6, 6, 6, 6, 6, 6, 6, 6, 6, 6, 6, 6, 6, 6, 6, 6, 6, 6, 6, 6, 6, 6, 6, 6, 6, 6, 6, 6, 6, 6, 6, 6, 6, 6, 6, 6, 6, 6, 6, 6, 6, 6, 6, 6, 6, 6, 6, 6, 6, 6, 6, 6, 6, 6, 6, 6, 2, 5, 5, 2, 2, 2, 2, 2, 2, 2, 2, 2, 2, 2, 2, 2, 2]\n"
     ]
    }
   ],
   "source": [
    "print(naming)"
   ]
  },
  {
   "cell_type": "code",
   "execution_count": null,
   "metadata": {},
   "outputs": [],
   "source": []
  },
  {
   "cell_type": "code",
   "execution_count": null,
   "metadata": {},
   "outputs": [],
   "source": [
    "m = [109,175,161,107,101,57,61,142,193,233,59,259,235,212,154,115,242,208,204,186,181,176,157,141,71,66,13,29,237,54,230,37,112,130,201,28,241,169,152,131,119,97,81,72,65,11,43,163,168,78,200,49,158,74,46,99,177,83,100,137,234,44,211,70,217,20,165,95,214,114,6,55,249,62,224,85,22,170,129,180,104,254,253,195,162,160,149,143,134,87,5,12,136,126,103,84,80,79,64,31,15,18,144,14,108,94,8,240,140,48,111,76,4,77,9,120,209,221,164,155,255,246,244,239,231,197,182,173,153,150,133,125,118,98,23,26,24,116,7,21,121,171,156,196,205,250,243,88,183,128,145,38,232,226,199,167,147,90,40,1,35,207,202,146,17,53,69,39,51,238,185,139,56,86,248,258,251,215,36,187,60,50,225,192,184,151,10,117,45,91,122,252,32,256,245,227,223,222,218,213,198,194,191,189,179,174,172,138,123,110,106,93,16,52,67,159,30,96,257,236,219,216,203,166,148,127,113,102,75,89,124,206,3,178,135,229,228,41,220,210,73,105,132,68,247,33,2,190,92,25,42,27,82,188,58,19,34,47,63]\n",
    "n = [4, 4, 4, 4, 4, 4, 4, 6, 6, 1, 2, 2, 1, 1, 1, 1, 1, 1, 1, 1, 1, 1, 1, 1, 1, 1, 1, 1, 1, 1, 1, 1, 1, 6, 3, 3, 3, 3, 3, 3, 3, 3, 3, 3, 3, 3, 3, 6, 6, 6, 6, 2, 2, 2, 2, 2, 2, 2, 2, 5, 1, 5, 5, 5, 5, 5, 5, 5, 5, 5, 5, 5, 2, 2, 2, 5, 5, 5, 5, 5, 5, 5, 5, 5, 5, 5, 5, 5, 5, 5, 5, 5, 5, 5, 5, 5, 5, 5, 5, 5, 5, 5, 5, 5, 5, 5, 5, 5, 5, 5, 5, 5, 4, 7, 2, 6, 7, 7, 7, 7, 7, 7, 7, 7, 7, 7, 7, 7, 7, 7, 7, 7, 7, 7, 7, 7, 7, 7, 2, 2, 2, 2, 2, 2, 2, 2, 2, 2, 2, 2, 2, 2, 2, 2, 2, 2, 2, 2, 2, 2, 2, 2, 2, 2, 2, 2, 2, 2, 2, 2, 2, 2, 2, 2, 6, 6, 6, 6, 6, 6, 6, 6, 6, 6, 6, 6, 6, 6, 6, 6, 6, 6, 6, 6, 6, 6, 6, 6, 6, 6, 6, 6, 6, 6, 6, 6, 6, 6, 6, 6, 6, 6, 6, 6, 6, 6, 6, 6, 6, 6, 6, 6, 6, 6, 6, 6, 6, 6, 6, 6, 6, 6, 6, 6, 6, 6, 6, 6, 6, 6, 6, 6, 2, 5, 5, 2, 2, 2, 2, 2, 2, 2, 2, 2, 2, 2, 2, 2, 2]"
   ]
  },
  {
   "cell_type": "code",
   "execution_count": null,
   "metadata": {},
   "outputs": [],
   "source": []
  },
  {
   "cell_type": "code",
   "execution_count": null,
   "metadata": {},
   "outputs": [],
   "source": []
  },
  {
   "cell_type": "code",
   "execution_count": 3,
   "metadata": {},
   "outputs": [],
   "source": [
    "import pandas as pd\n",
    "import numpy as np"
   ]
  },
  {
   "cell_type": "code",
   "execution_count": 4,
   "metadata": {},
   "outputs": [],
   "source": [
    "time = pd.read_csv('ssBRCA/ytime.csv',header=None)\n",
    "event= pd.read_csv('ssBRCA/ystatus.csv',header=None)"
   ]
  },
  {
   "cell_type": "code",
   "execution_count": 5,
   "metadata": {},
   "outputs": [],
   "source": [
    "#times\n",
    "time = time.to_numpy().squeeze()\n",
    "event= event.to_numpy().squeeze()"
   ]
  },
  {
   "cell_type": "code",
   "execution_count": 6,
   "metadata": {},
   "outputs": [],
   "source": [
    "import matplotlib.pyplot as plt\n",
    "from lifelines import KaplanMeierFitter\n",
    "from lifelines.statistics import logrank_test,multivariate_logrank_test,pairwise_logrank_test"
   ]
  },
  {
   "cell_type": "code",
   "execution_count": null,
   "metadata": {},
   "outputs": [],
   "source": []
  },
  {
   "cell_type": "code",
   "execution_count": 25,
   "metadata": {},
   "outputs": [],
   "source": [
    "#12thapril subset analysis\n",
    "#new_ind_subset = [2,2,6,7,5,5,2,5,2,6,3,5,1,5,5,6,2,5,2,5,2,5,7,7,2,7,2,3,1,6,5,6,2,2,2,6,1,2,2,2,6,2,3,5,6,2,2,5,2,6,2,6,2,1,5,2,4,2,2,6,4,2,2,5,3,1,6,5,2,5,1,3,6,2,6,5,7,6,5,5,3,2,2,5,5,2,5,2,6,2,6,2,6,5,5,6,3,7,2,2,4,6,5,5,6,6,4,5,4,6,5,1,6,5,1,7,6,7,3,6,2,6,6,6,7,5,6,2,5,6,3,2,7,5,6,5,5,6,2,5,1,6,5,5,2,2,2,6,5,7,6,3,7,1,7,2,1,2,6,5,4,5,6,7,5,6,2,6,3,5,2,6,7,6,4,1,2,6,6,5,1,7,2,6,2,1,6,2,6,2,6,6,6,6,5,2,7,6,2,6,3,2,6,1,2,6,2,1,7,6,5,1,6,5,6,6,5,6,6,6,7,6,6,2,6,2,6,6,6,1,7,2,1,1,1,6,1,2,7,5,3,1,2,7,6,7,5,6,2,2,6,6,5,5,7,6,6,6,2]\n",
    "#new_ind_subset = [2,2,6,4,5,5,2,5,2,6,3,5,1,5,5,6,2,5,2,5,2,5,7,7,2,7,2,3,1,6,5,6,2,2,2,6,1,2,2,2,6,2,3,5,6,2,2,5,2,6,2,6,2,1,5,2,4,2,2,6,4,2,2,5,3,1,6,5,2,5,1,3,6,2,6,5,7,6,5,5,3,2,2,5,5,2,5,2,6,2,6,2,6,5,5,6,3,7,2,2,4,6,5,5,6,6,4,5,4,6,5,1,6,5,1,7,6,7,3,6,2,6,6,6,7,5,6,2,5,6,3,2,7,5,6,5,5,6,2,5,1,6,5,5,2,2,2,6,5,7,6,3,7,1,7,2,1,2,6,5,4,5,6,7,5,6,2,6,3,5,2,6,7,6,4,1,2,6,6,5,1,7,2,6,2,1,6,2,6,2,6,6,6,6,5,2,7,6,2,6,3,2,6,1,2,6,2,1,7,6,5,1,6,5,6,6,5,6,6,6,7,6,6,2,6,2,6,6,6,1,7,2,1,1,1,6,1,2,7,5,3,1,2,7,6,7,5,6,2,2,6,6,5,5,7,6,6,6,2]"
   ]
  },
  {
   "cell_type": "code",
   "execution_count": 55,
   "metadata": {},
   "outputs": [],
   "source": [
    "###27june subset analysis\n",
    "new_ind_subset=[2, 2, 4, 7, 3, 3, 2, 3, 2, 4, 6, 3, 1, 3, 3, 4, 2, 3, 2, 3, 2, 3, 5, 5, 2, 5, 2, 6, 1, 4, 3, 4, 2, 2, 2, 4, 1, 2, 2, 2, 4, 2, 6, 3, 4, 2, 2, 3, 2, 4, 2, 4, 2, 1, 3, 2, 7, 2, 2, 4, 7, 2, 2, 3, 6, 1, 4, 3, 2, 3, 1, 6, 4, 2, 4, 3, 5, 4, 3, 3, 6, 2, 2, 3, 3, 2, 3, 2, 4, 2, 4, 2, 4, 3, 3, 4, 6, 5, 2, 2, 7, 4, 3, 3, 4, 4, 7, 3, 7, 4, 3, 1, 4, 3, 1, 5, 4, 5, 6, 4, 2, 4, 4, 4, 5, 3, 4, 2, 3, 4, 6, 2, 5, 3, 4, 3, 3, 4, 2, 3, 1, 4, 3, 3, 2, 2, 2, 4, 3, 5, 4, 6, 5, 1, 5, 2, 1, 2, 4, 3, 7, 3, 4, 5, 3, 4, 2, 4, 6, 3, 2, 4, 5, 4, 7, 1, 2, 4, 4, 3, 1, 5, 2, 4, 2, 1, 4, 2, 4, 2, 4, 4, 4, 4, 3, 2, 5, 4, 2, 4, 6, 2, 4, 1, 2, 4, 2, 1, 5, 4, 3, 1, 4, 3, 4, 4, 3, 4, 4, 4, 5, 4, 4, 2, 4, 2, 4, 4, 4, 1, 5, 2, 1, 1, 1, 4, 1, 2, 5, 3, 6, 1, 2, 5, 4, 5, 3, 4, 2, 2, 4, 4, 3, 3, 5, 4, 4, 4, 2]"
   ]
  },
  {
   "cell_type": "code",
   "execution_count": 4,
   "metadata": {},
   "outputs": [],
   "source": [
    "clus_names = ['Cluster_'+str(item) for item in new_ind_subset]"
   ]
  },
  {
   "cell_type": "code",
   "execution_count": 132,
   "metadata": {},
   "outputs": [],
   "source": [
    "\n",
    "# print(clus_names) "
   ]
  },
  {
   "cell_type": "code",
   "execution_count": 57,
   "metadata": {},
   "outputs": [],
   "source": [
    "result = multivariate_logrank_test(time, new_ind_subset, event)\n",
    "#result = pairwise_logrank_test(time, new_ind_subset, event)\n",
    "#####\n",
    "#1-4-5-6-7     #3-4\n",
    "#2-5-6-7\n"
   ]
  },
  {
   "cell_type": "code",
   "execution_count": 58,
   "metadata": {},
   "outputs": [
    {
     "data": {
      "text/html": [
       "<div>\n",
       "<style scoped>\n",
       "    .dataframe tbody tr th:only-of-type {\n",
       "        vertical-align: middle;\n",
       "    }\n",
       "\n",
       "    .dataframe tbody tr th {\n",
       "        vertical-align: top;\n",
       "    }\n",
       "\n",
       "    .dataframe thead th {\n",
       "        text-align: right;\n",
       "    }\n",
       "</style>\n",
       "<table border=\"1\" class=\"dataframe\">\n",
       "  <tbody>\n",
       "    <tr>\n",
       "      <th>t_0</th>\n",
       "      <td>-1</td>\n",
       "    </tr>\n",
       "    <tr>\n",
       "      <th>null_distribution</th>\n",
       "      <td>chi squared</td>\n",
       "    </tr>\n",
       "    <tr>\n",
       "      <th>degrees_of_freedom</th>\n",
       "      <td>6</td>\n",
       "    </tr>\n",
       "    <tr>\n",
       "      <th>test_name</th>\n",
       "      <td>multivariate_logrank_test</td>\n",
       "    </tr>\n",
       "  </tbody>\n",
       "</table>\n",
       "</div><table border=\"1\" class=\"dataframe\">\n",
       "  <thead>\n",
       "    <tr style=\"text-align: right;\">\n",
       "      <th></th>\n",
       "      <th>test_statistic</th>\n",
       "      <th>p</th>\n",
       "    </tr>\n",
       "  </thead>\n",
       "  <tbody>\n",
       "    <tr>\n",
       "      <th>0</th>\n",
       "      <td>13.26</td>\n",
       "      <td>0.04</td>\n",
       "    </tr>\n",
       "  </tbody>\n",
       "</table>"
      ],
      "text/plain": [
       "<IPython.core.display.HTML object>"
      ]
     },
     "metadata": {},
     "output_type": "display_data"
    }
   ],
   "source": [
    "result.p_value\n",
    "result.print_summary()"
   ]
  },
  {
   "cell_type": "code",
   "execution_count": 59,
   "metadata": {},
   "outputs": [
    {
     "data": {
      "image/png": "[encoded data removed]",
      "text/plain": [
       "<Figure size 720x720 with 1 Axes>"
      ]
     },
     "metadata": {
      "needs_background": "light"
     },
     "output_type": "display_data"
    }
   ],
   "source": [
    "fig, ax = plt.subplots(ncols=1, figsize=(10,10))\n",
    "\n",
    "kmf = KaplanMeierFitter()\n",
    "for i in range(1,8):\n",
    "    if i==1:\n",
    "        kmf.fit(time[clus_1],event_observed=event[clus_1],label='Cluster 1 '+'(n='+str(len(clus_1))+')')\n",
    "    elif i==2:\n",
    "        kmf.fit(time[clus_2],event_observed=event[clus_2],label='Cluster 2 '+'(n='+str(len(clus_2))+')')\n",
    "    elif i==3:\n",
    "        kmf.fit(time[clus_3],event_observed=event[clus_3],label='Cluster 3 '+'(n='+str(len(clus_3))+')')\n",
    "    elif i==4:\n",
    "        kmf.fit(time[clus_4],event_observed=event[clus_4],label='Cluster 4 '+'(n='+str(len(clus_4))+')')\n",
    "    elif i==5:\n",
    "        kmf.fit(time[clus_5],event_observed=event[clus_5],label='Cluster 5 '+'(n='+str(len(clus_5))+')')\n",
    "    elif i==6:\n",
    "        kmf.fit(time[clus_6],event_observed=event[clus_6],label='Cluster 6 '+'(n='+str(len(clus_6))+')')\n",
    "    elif i==7:\n",
    "        kmf.fit(time[clus_7],event_observed=event[clus_7],label='Cluster 7 '+'(n='+str(len(clus_7))+')')\n",
    "    #kmf.plot(show_censors=False,ci_show=False)\n",
    "    kmf.plot(show_censors=True,ci_show=False)\n",
    "    \n",
    "\n",
    "\n",
    "ax.set_xlabel('Overall Survival (months)', fontsize = 14)\n",
    "ax.set_ylabel('Probability of survival', fontsize = 14)\n",
    "ax.set_title('Kaplan-Meier Analysis | NMF-derived Subpopulations | Overall Survival', fontweight = 'bold', fontsize = 14)\n",
    "ax.text(172, 0.84, 'logrank p-value = ' +str('%.3g'%(result.p_value)), bbox=dict(facecolor='red', alpha=0.3), fontsize=11)\n",
    "###plt.savefig('KMplots/KMPlot_NMF_based_clustering_OS_27june2021.png', dpi=600, bbox_inches='tight')"
   ]
  },
  {
   "cell_type": "code",
   "execution_count": null,
   "metadata": {},
   "outputs": [],
   "source": [
    "############## MERGING subpopulations with insignificant difference\n"
   ]
  },
  {
   "cell_type": "code",
   "execution_count": 60,
   "metadata": {},
   "outputs": [],
   "source": [
    "metaclus_1 = clus_1 + clus_2 + clus_5\n",
    "metaclus_2 = clus_6\n",
    "metaclus_3 = clus_3 + clus_4 + clus_7"
   ]
  },
  {
   "cell_type": "code",
   "execution_count": 62,
   "metadata": {},
   "outputs": [],
   "source": [
    "metacluster_in = [0]*259\n",
    "for i in range(0,259):\n",
    "    if i in metaclus_1:\n",
    "        metacluster_in[i] = 1\n",
    "    elif i in metaclus_2:\n",
    "        metacluster_in[i] = 2\n",
    "    else:\n",
    "        metacluster_in[i] = 3"
   ]
  },
  {
   "cell_type": "code",
   "execution_count": 64,
   "metadata": {},
   "outputs": [
    {
     "name": "stdout",
     "output_type": "stream",
     "text": [
      "[1, 1, 2, 3, 1, 1, 1, 1, 1, 2, 3, 1, 1, 1, 1, 2, 1, 1, 1, 1, 1, 1, 3, 3, 1, 3, 1, 3, 1, 2, 1, 2, 1, 1, 1, 2, 1, 1, 1, 1, 2, 1, 3, 1, 2, 1, 1, 1, 1, 2, 1, 2, 1, 1, 1, 1, 3, 1, 1, 2, 3, 1, 1, 1, 3, 1, 2, 1, 1, 1, 1, 3, 2, 1, 2, 1, 3, 2, 1, 1, 3, 1, 1, 1, 1, 1, 1, 1, 2, 1, 2, 1, 2, 1, 1, 2, 3, 3, 1, 1, 3, 2, 1, 1, 2, 2, 3, 1, 3, 2, 1, 1, 2, 1, 1, 3, 2, 3, 3, 2, 1, 2, 2, 2, 3, 1, 2, 1, 1, 2, 3, 1, 3, 1, 2, 1, 1, 2, 1, 1, 1, 2, 1, 1, 1, 1, 1, 2, 1, 3, 2, 3, 3, 1, 3, 1, 1, 1, 2, 1, 3, 1, 2, 3, 1, 2, 1, 2, 3, 1, 1, 2, 3, 2, 3, 1, 1, 2, 2, 1, 1, 3, 1, 2, 1, 1, 2, 1, 2, 1, 2, 2, 2, 2, 1, 1, 3, 2, 1, 2, 3, 1, 2, 1, 1, 2, 1, 1, 3, 2, 1, 1, 2, 1, 2, 2, 1, 2, 2, 2, 3, 2, 2, 1, 2, 1, 2, 2, 2, 1, 3, 1, 1, 1, 1, 2, 1, 1, 3, 1, 3, 1, 1, 3, 2, 3, 1, 2, 1, 1, 2, 2, 1, 1, 3, 2, 2, 2, 1]\n"
     ]
    }
   ],
   "source": [
    "print(metacluster_in)"
   ]
  },
  {
   "cell_type": "code",
   "execution_count": 68,
   "metadata": {},
   "outputs": [],
   "source": [
    "#stat testing\n",
    "result = multivariate_logrank_test(time, metacluster_in, event)\n",
    "#stat testing\n",
    "#result = pairwise_logrank_test(time, metacluster_in, event)"
   ]
  },
  {
   "cell_type": "code",
   "execution_count": 70,
   "metadata": {},
   "outputs": [
    {
     "name": "stdout",
     "output_type": "stream",
     "text": [
      "0.006290913722232541\n"
     ]
    },
    {
     "data": {
      "text/html": [
       "<div>\n",
       "<style scoped>\n",
       "    .dataframe tbody tr th:only-of-type {\n",
       "        vertical-align: middle;\n",
       "    }\n",
       "\n",
       "    .dataframe tbody tr th {\n",
       "        vertical-align: top;\n",
       "    }\n",
       "\n",
       "    .dataframe thead th {\n",
       "        text-align: right;\n",
       "    }\n",
       "</style>\n",
       "<table border=\"1\" class=\"dataframe\">\n",
       "  <tbody>\n",
       "    <tr>\n",
       "      <th>t_0</th>\n",
       "      <td>-1</td>\n",
       "    </tr>\n",
       "    <tr>\n",
       "      <th>null_distribution</th>\n",
       "      <td>chi squared</td>\n",
       "    </tr>\n",
       "    <tr>\n",
       "      <th>degrees_of_freedom</th>\n",
       "      <td>2</td>\n",
       "    </tr>\n",
       "    <tr>\n",
       "      <th>test_name</th>\n",
       "      <td>multivariate_logrank_test</td>\n",
       "    </tr>\n",
       "  </tbody>\n",
       "</table>\n",
       "</div><table border=\"1\" class=\"dataframe\">\n",
       "  <thead>\n",
       "    <tr style=\"text-align: right;\">\n",
       "      <th></th>\n",
       "      <th>test_statistic</th>\n",
       "      <th>p</th>\n",
       "    </tr>\n",
       "  </thead>\n",
       "  <tbody>\n",
       "    <tr>\n",
       "      <th>0</th>\n",
       "      <td>10.14</td>\n",
       "      <td>0.01</td>\n",
       "    </tr>\n",
       "  </tbody>\n",
       "</table>"
      ],
      "text/plain": [
       "<IPython.core.display.HTML object>"
      ]
     },
     "metadata": {},
     "output_type": "display_data"
    }
   ],
   "source": [
    "print(result.p_value)\n",
    "result.print_summary()"
   ]
  },
  {
   "cell_type": "code",
   "execution_count": 77,
   "metadata": {},
   "outputs": [
    {
     "data": {
      "image/png": "[encoded data removed]",
      "text/plain": [
       "<Figure size 720x720 with 1 Axes>"
      ]
     },
     "metadata": {
      "needs_background": "light"
     },
     "output_type": "display_data"
    }
   ],
   "source": [
    "##### some random tests\n",
    "fig, ax = plt.subplots(ncols=1, figsize=(10,10))\n",
    "\n",
    "kmf = KaplanMeierFitter()\n",
    "for i in range(1,4):\n",
    "    if i==1:\n",
    "        kmf.fit(time[metaclus_1],event[metaclus_1],label='MetaCluster_1 '+'(n='+str(len(metaclus_1))+')')\n",
    "    elif i==2:\n",
    "        kmf.fit(time[metaclus_2],event[metaclus_2],label='MetaCluster_2 '+'(n='+str(len(metaclus_2))+')')\n",
    "    elif i==3:\n",
    "        kmf.fit(time[metaclus_3],event[metaclus_3],label='MetaCluster_3 '+'(n='+str(len(metaclus_3))+')')\n",
    "    #kmf.plot(show_censors=False,ci_show=False)\n",
    "    kmf.plot(show_censors=True,ci_show=False) \n",
    "\n",
    "\n",
    "ax.set_xlabel('Overall Survival (months)', fontsize = 14)\n",
    "ax.set_ylabel('Probability of survival', fontsize = 14)\n",
    "ax.set_title('Kaplan-Meier analysis | NMF Clustering Regrouped | Overall Survival', fontweight = 'bold', fontsize = 14)\n",
    "ax.text(168, 0.93, 'logrank p-value = ' +str('%.3g'%(result.p_value)), bbox=dict(facecolor='red', alpha=0.3), fontsize=11)\n",
    "plt.savefig('KMplots/KMPlot_NMF_based_clustering_regrouped_OS.png', dpi=600, bbox_inches='tight')"
   ]
  },
  {
   "cell_type": "code",
   "execution_count": null,
   "metadata": {},
   "outputs": [],
   "source": []
  },
  {
   "cell_type": "code",
   "execution_count": null,
   "metadata": {},
   "outputs": [],
   "source": []
  },
  {
   "cell_type": "code",
   "execution_count": 48,
   "metadata": {},
   "outputs": [],
   "source": [
    "#grouping for logrank test\n",
    "#brunet_nmf = [4,4,2,2,0,1,1,4,3,6,6,0,5,0,3,4,6,5,4,0,2,3,1,1,2,0,2,1,5,1,0,1,4,2,6,6,5,5,4,4,0,2,5,5,6,6,2,6,1,0,1,6,4,5,0,4,3,2,5,4,3,3,2,0,5,5,6,2,1,3,5,5,2,2,1,0,0,0,0,0,5,2,3,0,0,4,0,4,1,4,0,2,4,0,6,1,5,2,0,3,3,1,0,0,0,4,3,3,3,4,2,5,1,0,6,3,4,3,5,1,4,5,2,1,0,0,1,6,0,6,5,2,1,1,4,0,0,4,4,0,5,5,0,0,0,1,4,1,0,3,4,5,3,5,2,3,5,1,1,0,3,0,6,3,2,1,4,1,0,6,6,1,3,4,3,5,6,1,1,1,5,3,4,4,4,5,4,2,1,2,1,6,5,1,5,6,5,4,4,0,5,6,1,5,6,6,6,5,3,3,5,5,4,2,6,1,2,6,1,1,3,1,2,6,6,4,4,5,0,5,3,4,5,0,5,1,5,4,2,6,5,5,6,3,4,3,2,2,0,4,6,1,6,5,2,4,1,2,5]\n",
    "#lee_nmf = [5,6,6,1,6,7,7,6,6,3,6,6,4,6,6,6,3,6,6,6,2,6,6,7,2,6,6,6,6,7,6,6,6,2,3,3,4,6,5,6,6,2,6,6,6,3,2,3,6,6,6,6,6,6,6,5,6,2,4,5,6,6,2,6,6,4,6,6,7,6,4,6,6,1,7,6,6,6,6,6,6,2,6,6,6,5,6,6,7,5,6,2,5,6,3,7,6,1,6,6,6,7,6,6,6,6,6,6,6,5,1,6,7,6,3,6,6,6,6,7,6,6,1,7,6,6,7,6,6,6,6,6,6,7,5,6,6,6,6,6,4,6,6,6,6,6,5,6,6,6,6,6,6,6,1,6,4,7,7,6,6,6,3,6,1,7,6,6,6,3,3,7,6,6,6,4,3,6,6,6,4,6,6,5,5,4,6,6,7,6,6,6,6,6,6,3,6,5,5,6,6,3,7,4,6,6,3,4,6,6,6,6,5,6,3,6,2,6,7,7,6,7,6,6,3,6,5,6,6,4,6,5,6,6,6,7,4,6,1,6,6,4,3,6,5,6,6,6,6,6,6,7,6,6,6,5,7,6,4]"
   ]
  },
  {
   "cell_type": "code",
   "execution_count": 87,
   "metadata": {},
   "outputs": [],
   "source": [
    "###result = pairwise_logrank_test(time, new_ind_subset, event)\n",
    "#result = pairwise_logrank_test(time, grade_in, event)\n"
   ]
  },
  {
   "cell_type": "code",
   "execution_count": 120,
   "metadata": {},
   "outputs": [],
   "source": [
    "#result.test_statistic\n",
    "#result.p_value\n",
    "#result.print_summary()"
   ]
  },
  {
   "cell_type": "code",
   "execution_count": 213,
   "metadata": {},
   "outputs": [],
   "source": [
    "#12thapril subset analysis\n",
    "#new_ind_subset = [2,2,6,7,5,5,2,5,2,6,3,5,1,5,5,6,2,5,2,5,2,5,7,7,2,7,2,3,1,6,5,6,2,2,2,6,1,2,2,2,6,2,3,5,6,2,2,5,2,6,2,6,2,1,5,2,4,2,2,6,4,2,2,5,3,1,6,5,2,5,1,3,6,2,6,5,7,6,5,5,3,2,2,5,5,2,5,2,6,2,6,2,6,5,5,6,3,7,2,2,4,6,5,5,6,6,4,5,4,6,5,1,6,5,1,7,6,7,3,6,2,6,6,6,7,5,6,2,5,6,3,2,7,5,6,5,5,6,2,5,1,6,5,5,2,2,2,6,5,7,6,3,7,1,7,2,1,2,6,5,4,5,6,7,5,6,2,6,3,5,2,6,7,6,4,1,2,6,6,5,1,7,2,6,2,1,6,2,6,2,6,6,6,6,5,2,7,6,2,6,3,2,6,1,2,6,2,1,7,6,5,1,6,5,6,6,5,6,6,6,7,6,6,2,6,2,6,6,6,1,7,2,1,1,1,6,1,2,7,5,3,1,2,7,6,7,5,6,2,2,6,6,5,5,7,6,6,6,2]\n",
    "#new_ind_subset = [2,2,6,4,5,5,2,5,2,6,3,5,1,5,5,6,2,5,2,5,2,5,7,7,2,7,2,3,1,6,5,6,2,2,2,6,1,2,2,2,6,2,3,5,6,2,2,5,2,6,2,6,2,1,5,2,4,2,2,6,4,2,2,5,3,1,6,5,2,5,1,3,6,2,6,5,7,6,5,5,3,2,2,5,5,2,5,2,6,2,6,2,6,5,5,6,3,7,2,2,4,6,5,5,6,6,4,5,4,6,5,1,6,5,1,7,6,7,3,6,2,6,6,6,7,5,6,2,5,6,3,2,7,5,6,5,5,6,2,5,1,6,5,5,2,2,2,6,5,7,6,3,7,1,7,2,1,2,6,5,4,5,6,7,5,6,2,6,3,5,2,6,7,6,4,1,2,6,6,5,1,7,2,6,2,1,6,2,6,2,6,6,6,6,5,2,7,6,2,6,3,2,6,1,2,6,2,1,7,6,5,1,6,5,6,6,5,6,6,6,7,6,6,2,6,2,6,6,6,1,7,2,1,1,1,6,1,2,7,5,3,1,2,7,6,7,5,6,2,2,6,6,5,5,7,6,6,6,2]"
   ]
  },
  {
   "cell_type": "code",
   "execution_count": 22,
   "metadata": {},
   "outputs": [],
   "source": [
    "######################### cluster of each patient; reversal code\n",
    "nmf_in = [0]*259\n",
    "for i in range(0,259):\n",
    "    if i in clus_1:\n",
    "        nmf_in[i] = 1\n",
    "    elif i in clus_2:\n",
    "        nmf_in[i] = 2\n",
    "    elif i in clus_3:\n",
    "        nmf_in[i] = 3\n",
    "    elif i in clus_4:\n",
    "        nmf_in[i] = 4\n",
    "    elif i in clus_5:\n",
    "        nmf_in[i] = 5\n",
    "    elif i in clus_6:\n",
    "        nmf_in[i] = 6\n",
    "    else:\n",
    "        nmf_in[i] = 7\n",
    "############################################"
   ]
  },
  {
   "cell_type": "code",
   "execution_count": 24,
   "metadata": {},
   "outputs": [
    {
     "name": "stdout",
     "output_type": "stream",
     "text": [
      "[2, 2, 4, 7, 3, 3, 2, 3, 2, 4, 6, 3, 1, 3, 3, 4, 2, 3, 2, 3, 2, 3, 5, 5, 2, 5, 2, 6, 1, 4, 3, 4, 2, 2, 2, 4, 1, 2, 2, 2, 4, 2, 6, 3, 4, 2, 2, 3, 2, 4, 2, 4, 2, 1, 3, 2, 7, 2, 2, 4, 7, 2, 2, 3, 6, 1, 4, 3, 2, 3, 1, 6, 4, 2, 4, 3, 5, 4, 3, 3, 6, 2, 2, 3, 3, 2, 3, 2, 4, 2, 4, 2, 4, 3, 3, 4, 6, 5, 2, 2, 7, 4, 3, 3, 4, 4, 7, 3, 7, 4, 3, 1, 4, 3, 1, 5, 4, 5, 6, 4, 2, 4, 4, 4, 5, 3, 4, 2, 3, 4, 6, 2, 5, 3, 4, 3, 3, 4, 2, 3, 1, 4, 3, 3, 2, 2, 2, 4, 3, 5, 4, 6, 5, 1, 5, 2, 1, 2, 4, 3, 7, 3, 4, 5, 3, 4, 2, 4, 6, 3, 2, 4, 5, 4, 7, 1, 2, 4, 4, 3, 1, 5, 2, 4, 2, 1, 4, 2, 4, 2, 4, 4, 4, 4, 3, 2, 5, 4, 2, 4, 6, 2, 4, 1, 2, 4, 2, 1, 5, 4, 3, 1, 4, 3, 4, 4, 3, 4, 4, 4, 5, 4, 4, 2, 4, 2, 4, 4, 4, 1, 5, 2, 1, 1, 1, 4, 1, 2, 5, 3, 6, 1, 2, 5, 4, 5, 3, 4, 2, 2, 4, 4, 3, 3, 5, 4, 4, 4, 2]\n"
     ]
    }
   ],
   "source": [
    "print(nmf_in)"
   ]
  },
  {
   "cell_type": "code",
   "execution_count": 124,
   "metadata": {},
   "outputs": [],
   "source": [
    "# indices = [i for i, x in enumerate(new_ind_subset) if x == 7]\n",
    "# print(indices, len(indices))"
   ]
  },
  {
   "cell_type": "code",
   "execution_count": 215,
   "metadata": {},
   "outputs": [],
   "source": [
    "# #12th april data recheck   correct\n",
    "# clus_1 = [12, 28, 36, 53, 65, 70, 111, 114, 140, 153, 156, 175, 180, 185, 203, 207, 211, 229, 232, 233, 234, 236, 241]\n",
    "# clus_2 = [0, 1, 6, 8, 16, 18, 20, 24, 26, 32, 33, 34, 37, 38, 39, 41, 45, 46, 48, 50, 52, 55, 57, 58, 61, 62, 68, 73, 81, 82, 85, 87, 89, 91, 98, 99, 120, 127, 131, 138, 144, 145, 146, 155, 157, 166, 170, 176, 182, 184, 187, 189, 195, 198, 201, 204, 206, 223, 225, 231, 237, 242, 248, 249, 258]\n",
    "# clus_3 = [10, 27, 42, 64, 71, 80, 96, 118, 130, 151, 168, 200, 240]\n",
    "# clus_4 = [3, 56, 60, 100, 106, 108, 160, 174]\n",
    "# clus_5 = [4, 5, 7, 11, 13, 14, 17, 19, 21, 30, 43, 47, 54, 63, 67, 69, 75, 78, 79, 83, 84, 86, 93, 94, 102, 103, 107, 110, 113, 125, 128, 133, 135, 136, 139, 142, 143, 148, 159, 161, 164, 169, 179, 194, 210, 213, 216, 239, 246, 252, 253]\n",
    "# clus_6 = [2, 9, 15, 29, 31, 35, 40, 44, 49, 51, 59, 66, 72, 74, 77, 88, 90, 92, 95, 101, 104, 105, 109, 112, 116, 119, 121, 122, 123, 126, 129, 134, 137, 141, 147, 150, 158, 162, 165, 167, 171, 173, 177, 178, 183, 186, 188, 190, 191, 192, 193, 197, 199, 202, 205, 209, 212, 214, 215, 217, 218, 219, 221, 222, 224, 226, 227, 228, 235, 244, 247, 250, 251, 255, 256, 257]\n",
    "# clus_7 = [22, 23, 25, 76, 97, 115, 117, 124, 132, 149, 152, 154, 163, 172, 181, 196, 208, 220, 230, 238, 243, 245, 254]"
   ]
  },
  {
   "cell_type": "code",
   "execution_count": 216,
   "metadata": {},
   "outputs": [],
   "source": [
    "# print(\"clus_1\",len(clus_1))\n",
    "# print(\"clus_2\",len(clus_2))\n",
    "# print(\"clus_3\",len(clus_3))\n",
    "# print(\"clus_4\",len(clus_4))\n",
    "# print(\"clus_5\",len(clus_5))\n",
    "# print(\"clus_6\",len(clus_6))\n",
    "# print(\"clus_7\",len(clus_7))\n",
    "# #correct"
   ]
  },
  {
   "cell_type": "code",
   "execution_count": 16,
   "metadata": {},
   "outputs": [],
   "source": [
    "################## CLINICAL VARIABLES\n",
    "######################## grade of each patient\n",
    "grade_in = [0]*259\n",
    "for i in range(0,259):\n",
    "    if i in grade_1:\n",
    "        grade_in[i] = 1\n",
    "    elif i in grade_2:\n",
    "        grade_in[i] = 2\n",
    "    else:\n",
    "        grade_in[i] = 3\n",
    "############################################"
   ]
  },
  {
   "cell_type": "code",
   "execution_count": null,
   "metadata": {},
   "outputs": [],
   "source": []
  },
  {
   "cell_type": "code",
   "execution_count": 17,
   "metadata": {},
   "outputs": [],
   "source": [
    "grade_naming = ['Grade_'+str(item) for item in grade_in]"
   ]
  },
  {
   "cell_type": "code",
   "execution_count": 19,
   "metadata": {},
   "outputs": [
    {
     "name": "stdout",
     "output_type": "stream",
     "text": [
      "['Grade_2', 'Grade_2', 'Grade_3', 'Grade_1', 'Grade_2', 'Grade_3', 'Grade_3', 'Grade_3', 'Grade_3', 'Grade_1', 'Grade_2', 'Grade_3', 'Grade_1', 'Grade_3', 'Grade_3', 'Grade_1', 'Grade_2', 'Grade_1', 'Grade_3', 'Grade_3', 'Grade_2', 'Grade_3', 'Grade_3', 'Grade_2', 'Grade_2', 'Grade_3', 'Grade_2', 'Grade_3', 'Grade_3', 'Grade_2', 'Grade_3', 'Grade_3', 'Grade_2', 'Grade_2', 'Grade_3', 'Grade_2', 'Grade_3', 'Grade_2', 'Grade_3', 'Grade_2', 'Grade_2', 'Grade_2', 'Grade_2', 'Grade_3', 'Grade_3', 'Grade_3', 'Grade_2', 'Grade_3', 'Grade_1', 'Grade_3', 'Grade_1', 'Grade_2', 'Grade_2', 'Grade_2', 'Grade_2', 'Grade_2', 'Grade_3', 'Grade_3', 'Grade_2', 'Grade_2', 'Grade_3', 'Grade_3', 'Grade_1', 'Grade_3', 'Grade_3', 'Grade_1', 'Grade_3', 'Grade_2', 'Grade_3', 'Grade_1', 'Grade_2', 'Grade_3', 'Grade_3', 'Grade_2', 'Grade_2', 'Grade_3', 'Grade_3', 'Grade_2', 'Grade_3', 'Grade_2', 'Grade_2', 'Grade_3', 'Grade_1', 'Grade_3', 'Grade_3', 'Grade_2', 'Grade_2', 'Grade_3', 'Grade_3', 'Grade_2', 'Grade_3', 'Grade_3', 'Grade_1', 'Grade_3', 'Grade_3', 'Grade_2', 'Grade_3', 'Grade_3', 'Grade_2', 'Grade_3', 'Grade_3', 'Grade_1', 'Grade_3', 'Grade_3', 'Grade_2', 'Grade_2', 'Grade_3', 'Grade_2', 'Grade_3', 'Grade_1', 'Grade_2', 'Grade_3', 'Grade_1', 'Grade_3', 'Grade_3', 'Grade_3', 'Grade_3', 'Grade_3', 'Grade_2', 'Grade_2', 'Grade_2', 'Grade_1', 'Grade_1', 'Grade_2', 'Grade_3', 'Grade_3', 'Grade_2', 'Grade_3', 'Grade_3', 'Grade_2', 'Grade_3', 'Grade_2', 'Grade_3', 'Grade_3', 'Grade_2', 'Grade_3', 'Grade_3', 'Grade_3', 'Grade_3', 'Grade_3', 'Grade_2', 'Grade_2', 'Grade_3', 'Grade_2', 'Grade_3', 'Grade_2', 'Grade_2', 'Grade_3', 'Grade_3', 'Grade_3', 'Grade_3', 'Grade_3', 'Grade_3', 'Grade_1', 'Grade_2', 'Grade_2', 'Grade_3', 'Grade_2', 'Grade_2', 'Grade_3', 'Grade_3', 'Grade_2', 'Grade_3', 'Grade_3', 'Grade_2', 'Grade_2', 'Grade_3', 'Grade_1', 'Grade_3', 'Grade_3', 'Grade_2', 'Grade_3', 'Grade_3', 'Grade_2', 'Grade_3', 'Grade_3', 'Grade_2', 'Grade_3', 'Grade_2', 'Grade_1', 'Grade_1', 'Grade_3', 'Grade_3', 'Grade_1', 'Grade_2', 'Grade_1', 'Grade_2', 'Grade_2', 'Grade_1', 'Grade_2', 'Grade_2', 'Grade_3', 'Grade_2', 'Grade_2', 'Grade_2', 'Grade_3', 'Grade_3', 'Grade_2', 'Grade_1', 'Grade_2', 'Grade_2', 'Grade_3', 'Grade_2', 'Grade_1', 'Grade_2', 'Grade_2', 'Grade_3', 'Grade_2', 'Grade_3', 'Grade_3', 'Grade_2', 'Grade_2', 'Grade_3', 'Grade_1', 'Grade_2', 'Grade_2', 'Grade_2', 'Grade_2', 'Grade_1', 'Grade_2', 'Grade_3', 'Grade_2', 'Grade_1', 'Grade_2', 'Grade_2', 'Grade_1', 'Grade_2', 'Grade_2', 'Grade_3', 'Grade_2', 'Grade_3', 'Grade_1', 'Grade_2', 'Grade_3', 'Grade_2', 'Grade_1', 'Grade_3', 'Grade_2', 'Grade_2', 'Grade_2', 'Grade_2', 'Grade_2', 'Grade_3', 'Grade_3', 'Grade_2', 'Grade_3', 'Grade_3', 'Grade_1', 'Grade_3', 'Grade_2', 'Grade_2', 'Grade_2', 'Grade_2', 'Grade_3', 'Grade_3', 'Grade_1', 'Grade_2', 'Grade_2', 'Grade_2']\n"
     ]
    }
   ],
   "source": [
    "print(grade_naming)"
   ]
  },
  {
   "cell_type": "code",
   "execution_count": null,
   "metadata": {},
   "outputs": [],
   "source": []
  },
  {
   "cell_type": "code",
   "execution_count": null,
   "metadata": {},
   "outputs": [],
   "source": []
  },
  {
   "cell_type": "code",
   "execution_count": 51,
   "metadata": {},
   "outputs": [],
   "source": [
    "# ##### do statistical testing\n",
    "# result = multivariate_logrank_test(time, grade_in, event)\n",
    "\n",
    "# ############## plotting\n",
    "\n",
    "\n",
    "\n",
    "# fig, ax = plt.subplots(ncols=1, figsize=(8,8))\n",
    "\n",
    "# kmf = KaplanMeierFitter()\n",
    "# for i in range(1,4):\n",
    "#     if i==1:\n",
    "#         kmf.fit(time[grade_1], event_observed = event[grade_1], label='Grade 1 '+'(n='+str(len(grade_1))+')')\n",
    "#     elif i==2:\n",
    "#         kmf.fit(time[grade_2], event_observed = event[grade_2], label='Grade 2 '+'(n='+str(len(grade_2))+')')\n",
    "#     elif i==3:\n",
    "#         kmf.fit(time[grade_3], event_observed = event[grade_3], label='Grade 3 '+'(n='+str(len(grade_3))+')')\n",
    "#     #kmf.plot(show_censors=False,ci_show=False)\n",
    "#     kmf.plot(show_censors=True,ci_show=False) \n",
    "\n",
    "\n",
    "# ax.set_xlabel('Overall Survival (months)', fontsize = 14)\n",
    "# ax.set_ylabel('Probability of Survival', fontsize = 14)\n",
    "# ax.set_title('Kaplan-Meier Plot Tumor Grade | Overall Survival', fontweight = 'bold', fontsize = 14)\n",
    "# ax.text(151, 0.93, 'logrank p-value = ' +str('%.3g'%(result.p_value)), bbox=dict(facecolor='red', alpha=0.3), fontsize=11)\n",
    "# plt.savefig('KMplots/KMPlot_TumorGrade_OS.png', dpi=600, bbox_inches='tight')"
   ]
  },
  {
   "cell_type": "code",
   "execution_count": 30,
   "metadata": {},
   "outputs": [],
   "source": [
    "######################## grade of each patient\n",
    "ER_in = [0]*259\n",
    "for i in range(0,259):\n",
    "    if i in ER_pos:\n",
    "        ER_in[i] = 1\n",
    "    else:\n",
    "        ER_in[i] = 0\n",
    "###########################################"
   ]
  },
  {
   "cell_type": "code",
   "execution_count": 31,
   "metadata": {},
   "outputs": [
    {
     "data": {
      "text/plain": [
       "array([0.0191839])"
      ]
     },
     "execution_count": 31,
     "metadata": {},
     "output_type": "execute_result"
    }
   ],
   "source": [
    "# print(ER_in)\n",
    "\n",
    "##### do statistical testing\n",
    "#result = multivariate_logrank_test(time, ER_in, event)\n",
    "result = pairwise_logrank_test(time, ER_in, event)\n",
    "#result = logrank_test(time[np.asarray(ER_in) ==1], time[np.asarray(ER_in) ==0], event[np.asarray(ER_in) ==1], event[np.asarray(ER_in) ==0])\n",
    "result.p_value"
   ]
  },
  {
   "cell_type": "code",
   "execution_count": 50,
   "metadata": {},
   "outputs": [],
   "source": [
    "# # ##### do statistical testing\n",
    "# result = logrank_test(time[np.asarray(ER_in) ==1], time[np.asarray(ER_in) ==0], event[np.asarray(ER_in) ==1], event[np.asarray(ER_in) ==0])\n",
    "# result.p_value\n",
    "\n",
    "# ############## plotting\n",
    "\n",
    "\n",
    "# fig, ax = plt.subplots(ncols=1, figsize=(8,8))\n",
    "\n",
    "# kmf = KaplanMeierFitter()\n",
    "# for i in range(1,3):\n",
    "#     if i==1:\n",
    "#         kmf.fit(time[ER_pos], event_observed = event[ER_pos], label='ER positive '+'(n='+str(len(ER_pos))+')')\n",
    "#     elif i==2:\n",
    "#         kmf.fit(time[ER_neg], event_observed = event[ER_neg], label='ER negative '+'(n='+str(len(ER_neg))+')')\n",
    "#     #kmf.plot(show_censors=True,ci_show=True)\n",
    "#     kmf.plot(show_censors=True,ci_show=False) \n",
    "\n",
    "\n",
    "# ax.set_xlabel('Overall Survival (months)', fontsize = 14)\n",
    "# ax.set_ylabel('Probability of survival', fontsize = 14)\n",
    "# ax.set_title('Kaplan-Meier analysis ER Status | Overall Survival', fontweight = 'bold', fontsize = 14)\n",
    "# ax.text(155, 0.9, 'logrank p-value = ' +str('%.3g'%(result.p_value)), bbox=dict(facecolor='red', alpha=0.3), fontsize=11)\n",
    "# plt.savefig('KMplots/KMPlot_ER_Status_OS.png', dpi=600, bbox_inches='tight')"
   ]
  },
  {
   "cell_type": "code",
   "execution_count": 35,
   "metadata": {},
   "outputs": [],
   "source": [
    "######################## grade of each patient\n",
    "PR_in = [0]*259\n",
    "for i in range(0,259):\n",
    "    if i in PR_pos:\n",
    "        PR_in[i] = 1\n",
    "    else:\n",
    "        PR_in[i] = 0\n",
    "        \n",
    "############################################"
   ]
  },
  {
   "cell_type": "code",
   "execution_count": 192,
   "metadata": {},
   "outputs": [],
   "source": [
    "#print(PR_in)"
   ]
  },
  {
   "cell_type": "code",
   "execution_count": 49,
   "metadata": {},
   "outputs": [],
   "source": [
    "# # ##### do statistical testing\n",
    "# result = logrank_test(time[np.asarray(PR_in) ==1], time[np.asarray(PR_in) ==0], event[np.asarray(PR_in) ==1], event[np.asarray(PR_in) ==0])\n",
    "# result.p_value\n",
    "\n",
    "\n",
    "\n",
    "# fig, ax = plt.subplots(ncols=1, figsize=(8,8))\n",
    "\n",
    "# kmf = KaplanMeierFitter()\n",
    "# for i in range(1,3):\n",
    "#     if i==1:\n",
    "#         kmf.fit(time[PR_pos], event_observed = event[PR_pos], label='PR positive '+'(n='+str(len(PR_pos))+')')\n",
    "#     elif i==2:\n",
    "#         kmf.fit(time[PR_neg], event_observed = event[PR_neg], label='PR negative '+'(n='+str(len(PR_neg))+')')\n",
    "#     #kmf.plot(show_censors=False,ci_show=False)\n",
    "#     kmf.plot(show_censors=True,ci_show=False) \n",
    "\n",
    "\n",
    "# ax.set_xlabel('Overall Survival (months)', fontsize = 14)\n",
    "# ax.set_ylabel('Probability of survival', fontsize = 14)\n",
    "# ax.set_title('Kaplan-Meier analysis PR Status | Overall Survival', fontweight = 'bold', fontsize = 14)\n",
    "# ax.text(157, 0.95, 'logrank p-value = ' +str('%.3g'%(result.p_value)), bbox=dict(facecolor='red', alpha=0.3), fontsize=11)\n",
    "# plt.savefig('KMplots/KMPlot_PR_Status_OS.png', dpi=600, bbox_inches='tight')"
   ]
  },
  {
   "cell_type": "code",
   "execution_count": 40,
   "metadata": {},
   "outputs": [],
   "source": [
    "######################## grade of each patient\n",
    "HER2_in = [0]*259\n",
    "for i in range(0,259):\n",
    "    if i in HER2_pos:\n",
    "        HER2_in[i] = 1\n",
    "    else:\n",
    "        HER2_in[i] = 0\n",
    "        \n",
    "############################################"
   ]
  },
  {
   "cell_type": "code",
   "execution_count": 196,
   "metadata": {},
   "outputs": [],
   "source": [
    "# print(HER2_in)"
   ]
  },
  {
   "cell_type": "code",
   "execution_count": 41,
   "metadata": {},
   "outputs": [
    {
     "data": {
      "text/plain": [
       "0.7577566337762165"
      ]
     },
     "execution_count": 41,
     "metadata": {},
     "output_type": "execute_result"
    }
   ],
   "source": [
    "# # ##### do statistical testing\n",
    "result = logrank_test(time[np.asarray(HER2_in) ==1], time[np.asarray(HER2_in) ==0], event[np.asarray(HER2_in) ==1], event[np.asarray(HER2_in) ==0])\n",
    "result.p_value\n",
    "\n"
   ]
  },
  {
   "cell_type": "code",
   "execution_count": 48,
   "metadata": {},
   "outputs": [],
   "source": [
    "# fig, ax = plt.subplots(ncols=1, figsize=(8,8))\n",
    "\n",
    "# kmf = KaplanMeierFitter()\n",
    "# for i in range(1,3):\n",
    "#     if i==1:\n",
    "#         kmf.fit(time[HER2_pos], event_observed = event[HER2_pos], label='HER2 positive '+'(n='+str(len(HER2_pos))+')')\n",
    "#     elif i==2:\n",
    "#         kmf.fit(time[HER2_neg], event_observed = event[HER2_neg], label='HER2 negative '+'(n='+str(len(HER2_neg))+')')\n",
    "#     #kmf.plot(show_censors=False,ci_show=False)\n",
    "#     kmf.plot(show_censors=True,ci_show=False) \n",
    "\n",
    "\n",
    "# ax.set_xlabel('Overall Survival (months)', fontsize = 14)\n",
    "# ax.set_ylabel('Probability of survival', fontsize = 14)\n",
    "# ax.set_title('Kaplan-Meier analysis HER2 Status | Overall Survival', fontweight = 'bold', fontsize = 14)\n",
    "# ax.text(155, 0.95, 'logrank p-value = ' +str('%.3g'%(result.p_value)), bbox=dict(facecolor='red', alpha=0.3), fontsize=11)\n",
    "# plt.savefig('KMplots/KMPlot_HER2_Status.png', dpi=600, bbox_inches='tight')"
   ]
  },
  {
   "cell_type": "code",
   "execution_count": null,
   "metadata": {},
   "outputs": [],
   "source": []
  },
  {
   "cell_type": "code",
   "execution_count": 168,
   "metadata": {},
   "outputs": [],
   "source": [
    "####MOLECULAR SUBTYPES"
   ]
  },
  {
   "cell_type": "code",
   "execution_count": 9,
   "metadata": {},
   "outputs": [],
   "source": [
    "#################### calculate the 8 subtypes (3 in fact)\n",
    "##1\tER+\tPR+\tHER2+\tLuminal B\n",
    "##2\tER+\tPR+\tHER2-\tLuminal A\n",
    "##3\tER+\tPR-\tHER2+\tLuminal B\n",
    "##4\tER+\tPR-\tHER2-\tLuminal A\n",
    "##5\tER-\tPR+\tHER2+\tLuminal B\n",
    "##6\tER-\tPR+\tHER2-\tLuminal A\n",
    "##7\tER-\tPR-\tHER2+\tHER2-enriched\n",
    "##8\tER-\tPR-\tHER2-\tTNBC"
   ]
  },
  {
   "cell_type": "code",
   "execution_count": 10,
   "metadata": {},
   "outputs": [],
   "source": [
    "### Luminal_A     = set_2 + set_4 + set_6\n",
    "### Luminal_B     = set_1 + set_3 + set_5\n",
    "### TNBC          = set_8\n",
    "### HER2-enriched = set_7"
   ]
  },
  {
   "cell_type": "code",
   "execution_count": 198,
   "metadata": {},
   "outputs": [],
   "source": [
    "# set_1 = list(set(ER_pos) & set(PR_pos) & set(HER2_pos))\n",
    "# set_2 = list(set(ER_pos) & set(PR_pos) & set(HER2_neg))\n",
    "# set_3 = list(set(ER_pos) & set(PR_neg) & set(HER2_pos))\n",
    "# set_4 = list(set(ER_pos) & set(PR_neg) & set(HER2_neg))\n",
    "# set_5 = list(set(ER_neg) & set(PR_pos) & set(HER2_pos))\n",
    "# set_6 = list(set(ER_neg) & set(PR_pos) & set(HER2_neg))\n",
    "# set_7 = list(set(ER_neg) & set(PR_neg) & set(HER2_pos))\n",
    "# set_8 = list(set(ER_neg) & set(PR_neg) & set(HER2_neg))"
   ]
  },
  {
   "cell_type": "code",
   "execution_count": 199,
   "metadata": {},
   "outputs": [],
   "source": [
    "# print('set_1',len(set_1))\n",
    "# print('set_2',len(set_2))\n",
    "# print('set_3',len(set_3))\n",
    "# print('set_4',len(set_4))\n",
    "# print('set_5',len(set_5))\n",
    "# print('set_6',len(set_6))\n",
    "# print('set_7',len(set_7))\n",
    "# print('set_8',len(set_8))"
   ]
  },
  {
   "cell_type": "code",
   "execution_count": 200,
   "metadata": {},
   "outputs": [],
   "source": [
    "# luminal_A = sorted(set_2 + set_4 + set_6)\n",
    "# luminal_B = sorted(set_1 + set_3 + set_5)\n",
    "# tnbc = sorted(set_8)\n",
    "# her2_enrich = sorted(set_7)"
   ]
  },
  {
   "cell_type": "code",
   "execution_count": 201,
   "metadata": {},
   "outputs": [],
   "source": [
    "# print('Luminal_A',len(luminal_A))\n",
    "# print('Luminal_B',len(luminal_B))\n",
    "# print('TNBC', len(tnbc))\n",
    "# print('HER2_enrich', len(her2_enrich))"
   ]
  },
  {
   "cell_type": "code",
   "execution_count": 60,
   "metadata": {},
   "outputs": [],
   "source": [
    "luminal_A = [0, 1, 2, 3, 4, 5, 6, 8, 9, 10, 12, 15, 16, 17, 18, 20, 22, 23, 27, 28, 29, 31, 32, 35, 37, 38, 39, 40, 41, 45, 47, 48, 50, 51, 52, 53, 54, 55, 58, 59, 62, 63, 64, 66, 67, 68, 70, 73, 74, 77, 79, 80, 82, 85, 86, 87, 88, 89, 90, 91, 92, 94, 95, 96, 98, 100, 101, 104, 105, 109, 110, 111, 112, 114, 116, 117, 119, 121, 122, 123, 127, 129, 130, 132, 134, 136, 137, 138, 141, 143, 144, 145, 146, 150, 153, 154, 157, 158, 161, 164, 165, 166, 167, 170, 171, 176, 177, 178, 179, 182, 183, 184, 185, 186, 187, 188, 189, 190, 192, 193, 194, 198, 199, 200, 202, 203, 205, 206, 213, 214, 215, 217, 218, 219, 221, 222, 224, 225, 226, 227, 228, 229, 231, 232, 234, 235, 236, 237, 238, 239, 240, 241, 242, 243, 244, 246, 247, 249, 250, 251, 252, 254, 255, 256, 257, 258]\n",
    "luminal_B = [24, 26, 34, 42, 46, 57, 69, 72, 93, 115, 125, 131, 133, 147, 155, 162, 169, 173, 191, 195, 197, 204, 212, 223, 248, 253]\n",
    "tnbc = [7, 14, 19, 21, 30, 33, 49, 56, 60, 61, 71, 75, 78, 83, 84, 97, 99, 102, 103, 106, 107, 108, 120, 126, 128, 135, 142, 148, 151, 152, 156, 159, 160, 163, 172, 174, 181, 196, 208, 209, 216, 220, 233, 245]\n",
    "her2_enrich = [11, 13, 25, 36, 43, 44, 65, 76, 81, 113, 118, 124, 139, 140, 149, 168, 175, 180, 201, 207, 210, 211, 230]"
   ]
  },
  {
   "cell_type": "code",
   "execution_count": 73,
   "metadata": {},
   "outputs": [],
   "source": [
    "####someorder\n",
    "#nmforder = [233,235,212,154,115,242,208,204,186,181,176,157,141,71,66,13,29,237,54,230,37,112,234,59,259,49,158,74,46,99,177,83,100,249,62,224,9,7,21,121,171,156,196,205,250,243,88,183,128,145,38,232,226,199,167,147,90,40,1,35,207,202,146,17,53,69,39,51,238,185,139,56,86,132,33,2,190,92,25,42,27,82,188,58,19,34,47,63,201,28,241,169,152,131,119,97,81,72,65,11,43,109,175,161,107,101,57,61,4,137,44,211,70,217,20,165,95,214,114,6,55,85,22,170,129,180,104,254,253,195,162,160,149,143,134,87,5,12,136,126,103,84,80,79,64,31,15,18,144,14,108,94,8,240,140,48,111,76,68,247,142,193,130,163,168,78,200,120,248,258,251,215,36,187,60,50,225,192,184,151,10,117,45,91,122,252,32,256,245,227,223,222,218,213,198,194,191,189,179,174,172,138,123,110,106,93,16,52,67,159,30,96,257,236,219,216,203,166,148,127,113,102,75,89,124,206,3,178,135,229,228,41,220,210,73,105,77,209,221,164,155,255,246,244,239,231,197,182,173,153,150,133,125,118,98,23,26,24,116]\n",
    "nmforder_0 = [232, 234, 211, 153, 114, 241, 207, 203, 185, 180, 175, 156, 140, 70, 65, 12, 28, 236, 53, 229, 36, 111, 233, 58, 258, 48, 157, 73, 45, 98, 176, 82, 99, 248, 61, 223, 8, 6, 20, 120, 170, 155, 195, 204, 249, 242, 87, 182, 127, 144, 37, 231, 225, 198, 166, 146, 89, 39, 0, 34, 206, 201, 145, 16, 52, 68, 38, 50, 237, 184, 138, 55, 85, 131, 32, 1, 189, 91, 24, 41, 26, 81, 187, 57, 18, 33, 46, 62, 200, 27, 240, 168, 151, 130, 118, 96, 80, 71, 64, 10, 42, 108, 174, 160, 106, 100, 56, 60, 3, 136, 43, 210, 69, 216, 19, 164, 94, 213, 113, 5, 54, 84, 21, 169, 128, 179, 103, 253, 252, 194, 161, 159, 148, 142, 133, 86, 4, 11, 135, 125, 102, 83, 79, 78, 63, 30, 14, 17, 143, 13, 107, 93, 7, 239, 139, 47, 110, 75, 67, 246, 141, 192, 129, 162, 167, 77, 199, 119, 247, 257, 250, 214, 35, 186, 59, 49, 224, 191, 183, 150, 9, 116, 44, 90, 121, 251, 31, 255, 244, 226, 222, 221, 217, 212, 197, 193, 190, 188, 178, 173, 171, 137, 122, 109, 105, 92, 15, 51, 66, 158, 29, 95, 256, 235, 218, 215, 202, 165, 147, 126, 112, 101, 74, 88, 123, 205, 2, 177, 134, 228, 227, 40, 219, 209, 72, 104, 76, 208, 220, 163, 154, 254, 245, 243, 238, 230, 196, 181, 172, 152, 149, 132, 124, 117, 97, 22, 25, 23, 115]"
   ]
  },
  {
   "cell_type": "code",
   "execution_count": 83,
   "metadata": {},
   "outputs": [],
   "source": [
    "temp = []\n",
    "for item in nmforder_0:\n",
    "    if item in her2_enrich:\n",
    "        temp.append(item)"
   ]
  },
  {
   "cell_type": "code",
   "execution_count": 85,
   "metadata": {},
   "outputs": [],
   "source": [
    "lumA_order = [232, 234, 153, 114, 241, 203, 185, 70, 12, 28, 236, 53, 229, 111, 58, 258, 48, 157, 73, 45, 98, 176, 82, 8, 6, 20, 170, 249, 242, 87, 182, 127, 144, 37, 231, 225, 198, 166, 146, 89, 39, 0, 206, 145, 16, 52, 68, 38, 50, 237, 184, 138, 55, 85, 32, 1, 189, 91, 41, 187, 18, 62, 200, 27, 240, 130, 96, 80, 64, 10, 100, 3, 136, 164, 94, 213, 5, 54, 179, 252, 194, 161, 86, 4, 79, 63, 17, 143, 239, 47, 110, 67, 246, 141, 192, 129, 167, 77, 199, 119, 247, 257, 250, 214, 35, 186, 59, 224, 183, 150, 9, 116, 90, 121, 251, 31, 255, 244, 226, 222, 221, 217, 193, 190, 188, 178, 171, 137, 122, 109, 105, 92, 15, 51, 66, 158, 29, 95, 256, 235, 218, 215, 202, 165, 112, 101, 74, 88, 123, 205, 2, 177, 134, 228, 227, 40, 219, 104, 154, 254, 243, 238, 132, 117, 22, 23]\n",
    "lumB_order = [248, 223, 155, 195, 204, 34, 131, 24, 26, 57, 46, 42, 69, 169, 253, 133, 125, 93, 162, 191, 212, 197, 173, 147, 72, 115]\n",
    "tnbc_order = [156, 233, 99, 61, 120, 33, 151, 71, 108, 174, 160, 106, 56, 60, 216, 19, 84, 21, 128, 103, 159, 148, 142, 135, 102, 83, 78, 30, 14, 107, 7, 75, 49, 126, 209, 208, 220, 163, 245, 196, 181, 172, 152, 97]\n",
    "her2_order = [211, 207, 180, 175, 140, 65, 36, 201, 81, 168, 118, 43, 210, 113, 11, 13, 139, 44, 76, 230, 149, 124, 25]\n",
    "\n",
    "\n"
   ]
  },
  {
   "cell_type": "code",
   "execution_count": 113,
   "metadata": {},
   "outputs": [
    {
     "name": "stdout",
     "output_type": "stream",
     "text": [
      "[212, 208, 181, 176, 141, 66, 37, 202, 82, 169, 119, 44, 211, 114, 12, 14, 140, 45, 77, 231, 150, 125, 26]\n"
     ]
    }
   ],
   "source": [
    "print([1+item for item in her2_order])"
   ]
  },
  {
   "cell_type": "code",
   "execution_count": 104,
   "metadata": {},
   "outputs": [
    {
     "name": "stdout",
     "output_type": "stream",
     "text": [
      "[211, 207, 180, 175, 140, 65, 36, 201, 81, 168, 118, 43, 210, 113, 11, 13, 139, 44, 76, 230, 149, 124, 25] 23\n"
     ]
    }
   ],
   "source": [
    "print(temp, len(temp))"
   ]
  },
  {
   "cell_type": "code",
   "execution_count": 114,
   "metadata": {},
   "outputs": [],
   "source": [
    "##lumA_index = [71,67,65,64,68,66,164,8,2,9,85,74,90,88,84,91,81,82,79,87,83,73,63,70,69,58,31,30,39,28,110,55,104,106,105,24,100,161,159,160,165,162,166,10,7,5,14,13,95,94,16,15,1,11,3,12,6,4,148,48,26,43,36,38,132,135,116,136,124,123,133,127,128,163,75,72,29,19,35,109,113,112,102,23,27,45,46,57,96,119,141,145,139,126,61,54,37,131,49,52,42,59,60,40,41,17,22,21,33,62,142,56,50,89,86,77,150,80,76,78,97,99,93,98,154,151,155,122,103,111,146,101,144,125,34,114,115,137,130,107,140,118,117,53,51,44,18,152,20,32,134,153,156,92,121,157,149,47,25,158,108,129,138,120,143,147]\n",
    "##lumB_index = [12,14,17,15,16,26,8,22,21,1,4,10,24,23,20,6,3,11,9,7,2,5,25,13,19,18]\n",
    "##tnbc_index = 10,13,7,6,14,11,12,1,35,34,5,8,39,41,43,44,42,40,26,3,27,19,25,28,17,9,18,32,37,38,29,24,23,22,15,20,31,33,2,36,4,30,21,16\n",
    "her2_index = [23,21,11,10,22,20,9,18,8,5,1,15,7,6,12,13,4,2,3,19,17,14,16]"
   ]
  },
  {
   "cell_type": "code",
   "execution_count": 116,
   "metadata": {},
   "outputs": [
    {
     "data": {
      "text/plain": [
       "23"
      ]
     },
     "execution_count": 116,
     "metadata": {},
     "output_type": "execute_result"
    }
   ],
   "source": [
    "len(her2_index)"
   ]
  },
  {
   "cell_type": "code",
   "execution_count": 117,
   "metadata": {},
   "outputs": [],
   "source": [
    "#lumA_actual = []\n",
    "#lumB_actual = []\n",
    "##tnbc_actual = []\n",
    "her2_actual = []\n",
    "for item in her2_index:\n",
    "    her2_actual.append(her2_order[item-1])"
   ]
  },
  {
   "cell_type": "code",
   "execution_count": 119,
   "metadata": {},
   "outputs": [],
   "source": [
    "lumA_actual = [100, 96, 240, 27, 80, 130, 117, 70, 234, 12, 79, 164, 47, 143, 4, 110, 194, 161, 179, 17, 86, 136, 200, 10, 64, 91, 182, 87, 146, 249, 150, 32, 214, 186, 35, 8, 119, 243, 154, 254, 22, 238, 23, 28, 185, 241, 111, 229, 192, 141, 258, 58, 232, 236, 153, 53, 203, 114, 88, 38, 20, 206, 225, 166, 92, 66, 31, 158, 190, 193, 15, 171, 137, 132, 94, 3, 242, 73, 231, 183, 90, 116, 257, 82, 170, 16, 52, 189, 129, 226, 218, 112, 256, 178, 18, 85, 198, 105, 50, 138, 0, 41, 187, 89, 39, 48, 176, 98, 144, 62, 215, 1, 237, 239, 63, 5, 205, 252, 213, 54, 167, 199, 246, 77, 228, 2, 227, 217, 250, 9, 101, 247, 165, 188, 37, 121, 251, 29, 109, 59, 235, 244, 255, 55, 184, 145, 157, 177, 45, 127, 51, 134, 40, 67, 221, 219, 123, 68, 6, 104, 224, 122, 95, 222, 202, 74]\n",
    "lumB_actual = [42, 169, 125, 253, 133, 115, 24, 197, 212, 248, 195, 57, 147, 173, 191, 34, 155, 46, 26, 131, 223, 204, 72, 69, 162, 93]\n",
    "tnbc_actual = [174, 56, 151, 33, 60, 160, 106, 156, 209, 126, 120, 71, 245, 181, 152, 97, 172, 196, 83, 99, 78, 128, 102, 30, 84, 108, 21, 75, 220, 163, 14, 135, 142, 148, 216, 103, 7, 49, 233, 208, 61, 107, 159, 19]\n",
    "her2_actual = [25, 149, 118, 168, 124, 230, 81, 44, 201, 140, 211, 11, 36, 65, 43, 210, 175, 207, 180, 76, 139, 113, 13]\n"
   ]
  },
  {
   "cell_type": "code",
   "execution_count": 133,
   "metadata": {},
   "outputs": [],
   "source": [
    "##order for luma, lumb, tnbcm her2 in images\n",
    "\n",
    "###100-74, 42-93, 174-19, 25-13"
   ]
  },
  {
   "cell_type": "code",
   "execution_count": null,
   "metadata": {},
   "outputs": [],
   "source": []
  },
  {
   "cell_type": "code",
   "execution_count": null,
   "metadata": {},
   "outputs": [],
   "source": []
  },
  {
   "cell_type": "code",
   "execution_count": 120,
   "metadata": {},
   "outputs": [],
   "source": [
    "clinico_order = lumA_actual + lumB_actual + tnbc_actual + her2_actual"
   ]
  },
  {
   "cell_type": "code",
   "execution_count": 122,
   "metadata": {},
   "outputs": [
    {
     "name": "stdout",
     "output_type": "stream",
     "text": [
      "[100, 96, 240, 27, 80, 130, 117, 70, 234, 12, 79, 164, 47, 143, 4, 110, 194, 161, 179, 17, 86, 136, 200, 10, 64, 91, 182, 87, 146, 249, 150, 32, 214, 186, 35, 8, 119, 243, 154, 254, 22, 238, 23, 28, 185, 241, 111, 229, 192, 141, 258, 58, 232, 236, 153, 53, 203, 114, 88, 38, 20, 206, 225, 166, 92, 66, 31, 158, 190, 193, 15, 171, 137, 132, 94, 3, 242, 73, 231, 183, 90, 116, 257, 82, 170, 16, 52, 189, 129, 226, 218, 112, 256, 178, 18, 85, 198, 105, 50, 138, 0, 41, 187, 89, 39, 48, 176, 98, 144, 62, 215, 1, 237, 239, 63, 5, 205, 252, 213, 54, 167, 199, 246, 77, 228, 2, 227, 217, 250, 9, 101, 247, 165, 188, 37, 121, 251, 29, 109, 59, 235, 244, 255, 55, 184, 145, 157, 177, 45, 127, 51, 134, 40, 67, 221, 219, 123, 68, 6, 104, 224, 122, 95, 222, 202, 74, 42, 169, 125, 253, 133, 115, 24, 197, 212, 248, 195, 57, 147, 173, 191, 34, 155, 46, 26, 131, 223, 204, 72, 69, 162, 93, 174, 56, 151, 33, 60, 160, 106, 156, 209, 126, 120, 71, 245, 181, 152, 97, 172, 196, 83, 99, 78, 128, 102, 30, 84, 108, 21, 75, 220, 163, 14, 135, 142, 148, 216, 103, 7, 49, 233, 208, 61, 107, 159, 19, 25, 149, 118, 168, 124, 230, 81, 44, 201, 140, 211, 11, 36, 65, 43, 210, 175, 207, 180, 76, 139, 113, 13]\n"
     ]
    },
    {
     "data": {
      "text/plain": [
       "(None, 259)"
      ]
     },
     "execution_count": 122,
     "metadata": {},
     "output_type": "execute_result"
    }
   ],
   "source": [
    "print(clinico_order), len(clinico_order)"
   ]
  },
  {
   "cell_type": "code",
   "execution_count": 64,
   "metadata": {},
   "outputs": [
    {
     "data": {
      "text/plain": [
       "(166, 26, 44, 23)"
      ]
     },
     "execution_count": 64,
     "metadata": {},
     "output_type": "execute_result"
    }
   ],
   "source": [
    "len(luminal_A),len(luminal_B),len(tnbc),len(her2_enrich)"
   ]
  },
  {
   "cell_type": "code",
   "execution_count": 61,
   "metadata": {},
   "outputs": [],
   "source": [
    "#######clinico-order\n",
    "clinico_order = luminal_A+luminal_B+tnbc+her2_enrich\n"
   ]
  },
  {
   "cell_type": "code",
   "execution_count": 63,
   "metadata": {},
   "outputs": [
    {
     "name": "stdout",
     "output_type": "stream",
     "text": [
      "[0, 1, 2, 3, 4, 5, 6, 8, 9, 10, 12, 15, 16, 17, 18, 20, 22, 23, 27, 28, 29, 31, 32, 35, 37, 38, 39, 40, 41, 45, 47, 48, 50, 51, 52, 53, 54, 55, 58, 59, 62, 63, 64, 66, 67, 68, 70, 73, 74, 77, 79, 80, 82, 85, 86, 87, 88, 89, 90, 91, 92, 94, 95, 96, 98, 100, 101, 104, 105, 109, 110, 111, 112, 114, 116, 117, 119, 121, 122, 123, 127, 129, 130, 132, 134, 136, 137, 138, 141, 143, 144, 145, 146, 150, 153, 154, 157, 158, 161, 164, 165, 166, 167, 170, 171, 176, 177, 178, 179, 182, 183, 184, 185, 186, 187, 188, 189, 190, 192, 193, 194, 198, 199, 200, 202, 203, 205, 206, 213, 214, 215, 217, 218, 219, 221, 222, 224, 225, 226, 227, 228, 229, 231, 232, 234, 235, 236, 237, 238, 239, 240, 241, 242, 243, 244, 246, 247, 249, 250, 251, 252, 254, 255, 256, 257, 258, 24, 26, 34, 42, 46, 57, 69, 72, 93, 115, 125, 131, 133, 147, 155, 162, 169, 173, 191, 195, 197, 204, 212, 223, 248, 253, 7, 14, 19, 21, 30, 33, 49, 56, 60, 61, 71, 75, 78, 83, 84, 97, 99, 102, 103, 106, 107, 108, 120, 126, 128, 135, 142, 148, 151, 152, 156, 159, 160, 163, 172, 174, 181, 196, 208, 209, 216, 220, 233, 245, 11, 13, 25, 36, 43, 44, 65, 76, 81, 113, 118, 124, 139, 140, 149, 168, 175, 180, 201, 207, 210, 211, 230]\n"
     ]
    }
   ],
   "source": [
    "print(clinico_order)"
   ]
  },
  {
   "cell_type": "code",
   "execution_count": 33,
   "metadata": {},
   "outputs": [],
   "source": [
    "######################## grade of each patient\n",
    "subtype_in = [0]*259\n",
    "for i in range(0,259):\n",
    "    if i in luminal_A:\n",
    "        subtype_in[i] = 1\n",
    "    elif i in luminal_B:\n",
    "        subtype_in[i] = 2\n",
    "    elif i in tnbc:\n",
    "        subtype_in[i] = 3\n",
    "    else:\n",
    "        subtype_in[i] = 4\n",
    "###########################################"
   ]
  },
  {
   "cell_type": "code",
   "execution_count": null,
   "metadata": {},
   "outputs": [],
   "source": []
  },
  {
   "cell_type": "code",
   "execution_count": 34,
   "metadata": {},
   "outputs": [],
   "source": [
    "#print(subtype_in)\n",
    "subtype_in = [1, 1, 1, 1, 1, 1, 1, 3, 1, 1, 1, 4, 1, 4, 3, 1, 1, 1, 1, 3, 1, 3, 1, 1, 2, 4, 2, 1, 1, 1, 3, 1, 1, 3, 2, 1, 4, 1, 1, 1, 1, 1, 2, 4, 4, 1, 2, 1, 1, 3, 1, 1, 1, 1, 1, 1, 3, 2, 1, 1, 3, 3, 1, 1, 1, 4, 1, 1, 1, 2, 1, 3, 2, 1, 1, 3, 4, 1, 3, 1, 1, 4, 1, 3, 3, 1, 1, 1, 1, 1, 1, 1, 1, 2, 1, 1, 1, 3, 1, 3, 1, 1, 3, 3, 1, 1, 3, 3, 3, 1, 1, 1, 1, 4, 1, 2, 1, 1, 4, 1, 3, 1, 1, 1, 4, 2, 3, 1, 3, 1, 1, 2, 1, 2, 1, 3, 1, 1, 1, 4, 4, 1, 3, 1, 1, 1, 1, 2, 3, 4, 1, 3, 3, 1, 1, 2, 3, 1, 1, 3, 3, 1, 2, 3, 1, 1, 1, 1, 4, 2, 1, 1, 3, 2, 3, 4, 1, 1, 1, 1, 4, 3, 1, 1, 1, 1, 1, 1, 1, 1, 1, 2, 1, 1, 1, 2, 3, 2, 1, 1, 1, 4, 1, 1, 2, 1, 1, 4, 3, 3, 4, 4, 2, 1, 1, 1, 3, 1, 1, 1, 3, 1, 1, 2, 1, 1, 1, 1, 1, 1, 4, 1, 1, 3, 1, 1, 1, 1, 1, 1, 1, 1, 1, 1, 1, 3, 1, 1, 2, 1, 1, 1, 1, 2, 1, 1, 1, 1, 1]"
   ]
  },
  {
   "cell_type": "code",
   "execution_count": 35,
   "metadata": {},
   "outputs": [],
   "source": [
    "naming = []\n",
    "for item in subtype_in:\n",
    "    if item==1:\n",
    "        naming.append('Luminal A')\n",
    "    elif item==2:\n",
    "        naming.append('Luminal B')\n",
    "    elif item==3:\n",
    "        naming.append('TNBC')\n",
    "    else:\n",
    "        naming.append('HER2 Enriched')"
   ]
  },
  {
   "cell_type": "code",
   "execution_count": 36,
   "metadata": {},
   "outputs": [],
   "source": [
    "#print(naming)"
   ]
  },
  {
   "cell_type": "code",
   "execution_count": 37,
   "metadata": {},
   "outputs": [
    {
     "data": {
      "text/html": [
       "<div>\n",
       "<style scoped>\n",
       "    .dataframe tbody tr th:only-of-type {\n",
       "        vertical-align: middle;\n",
       "    }\n",
       "\n",
       "    .dataframe tbody tr th {\n",
       "        vertical-align: top;\n",
       "    }\n",
       "\n",
       "    .dataframe thead th {\n",
       "        text-align: right;\n",
       "    }\n",
       "</style>\n",
       "<table border=\"1\" class=\"dataframe\">\n",
       "  <tbody>\n",
       "    <tr>\n",
       "      <th>t_0</th>\n",
       "      <td>-1</td>\n",
       "    </tr>\n",
       "    <tr>\n",
       "      <th>null_distribution</th>\n",
       "      <td>chi squared</td>\n",
       "    </tr>\n",
       "    <tr>\n",
       "      <th>degrees_of_freedom</th>\n",
       "      <td>1</td>\n",
       "    </tr>\n",
       "    <tr>\n",
       "      <th>test_name</th>\n",
       "      <td>logrank_test</td>\n",
       "    </tr>\n",
       "  </tbody>\n",
       "</table>\n",
       "</div><table border=\"1\" class=\"dataframe\">\n",
       "  <thead>\n",
       "    <tr style=\"text-align: right;\">\n",
       "      <th></th>\n",
       "      <th></th>\n",
       "      <th>test_statistic</th>\n",
       "      <th>p</th>\n",
       "    </tr>\n",
       "  </thead>\n",
       "  <tbody>\n",
       "    <tr>\n",
       "      <th rowspan=\"3\" valign=\"top\">1</th>\n",
       "      <th>2</th>\n",
       "      <td>0.66</td>\n",
       "      <td>0.42</td>\n",
       "    </tr>\n",
       "    <tr>\n",
       "      <th>3</th>\n",
       "      <td>9.00</td>\n",
       "      <td>&lt;0.005</td>\n",
       "    </tr>\n",
       "    <tr>\n",
       "      <th>4</th>\n",
       "      <td>0.17</td>\n",
       "      <td>0.68</td>\n",
       "    </tr>\n",
       "    <tr>\n",
       "      <th rowspan=\"2\" valign=\"top\">2</th>\n",
       "      <th>3</th>\n",
       "      <td>2.00</td>\n",
       "      <td>0.16</td>\n",
       "    </tr>\n",
       "    <tr>\n",
       "      <th>4</th>\n",
       "      <td>0.02</td>\n",
       "      <td>0.90</td>\n",
       "    </tr>\n",
       "    <tr>\n",
       "      <th>3</th>\n",
       "      <th>4</th>\n",
       "      <td>1.44</td>\n",
       "      <td>0.23</td>\n",
       "    </tr>\n",
       "  </tbody>\n",
       "</table>"
      ],
      "text/plain": [
       "<IPython.core.display.HTML object>"
      ]
     },
     "metadata": {},
     "output_type": "display_data"
    }
   ],
   "source": [
    "##### do statistical testing\n",
    "result_pairwise = pairwise_logrank_test(time, subtype_in, event)\n",
    "result_pairwise.print_summary()"
   ]
  },
  {
   "cell_type": "code",
   "execution_count": 38,
   "metadata": {},
   "outputs": [],
   "source": [
    "##### do statistical testing\n",
    "result = multivariate_logrank_test(time, subtype_in, event)"
   ]
  },
  {
   "cell_type": "code",
   "execution_count": 47,
   "metadata": {},
   "outputs": [],
   "source": [
    "# fig, ax = plt.subplots(ncols=1, figsize=(10,10))\n",
    "\n",
    "# kmf = KaplanMeierFitter()\n",
    "# for i in range(1,5):\n",
    "#     if i==1:\n",
    "#         kmf.fit(time[luminal_A],event_observed=event[luminal_A],label='Luminal A '+'(n='+str(len(luminal_A))+')')\n",
    "#     elif i==2:\n",
    "#         kmf.fit(time[luminal_B],event_observed=event[luminal_B],label='Luminal B '+'(n='+str(len(luminal_B))+')')\n",
    "#     elif i==3:\n",
    "#         kmf.fit(time[tnbc],event_observed=event[tnbc],label='TNBC '+'(n='+str(len(tnbc))+')')\n",
    "#     elif i==4:\n",
    "#         kmf.fit(time[her2_enrich],event_observed=event[her2_enrich],label='HER2 Enriched '+'(n='+str(len(her2_enrich))+')')\n",
    "#     #kmf.plot(show_censors=False,ci_show=False)\n",
    "#     kmf.plot(show_censors=True,ci_show=False) \n",
    "\n",
    "\n",
    "    \n",
    "# ax.set_xlabel('Overall Survival (months)', fontsize = 14)\n",
    "# ax.set_ylabel('Probability of survival', fontsize = 14)\n",
    "# ax.set_ylim(0.2, 1.05)\n",
    "# ax.set_title('Kaplan-Meier Analysis | Clinicopathological Subtypes | Overall Survival', fontweight = 'bold', fontsize = 14)\n",
    "# ax.text(170, 0.91, 'logrank p-value = ' +str('%.3g'%(result.p_value)), bbox=dict(facecolor='red', alpha=0.3), fontsize=11)\n",
    "# ####plt.savefig('KMplots/KMPlot_Molecular_Subtype_Status_OS_27june2021.png', dpi=800, bbox_inches='tight')"
   ]
  },
  {
   "cell_type": "code",
   "execution_count": 56,
   "metadata": {},
   "outputs": [],
   "source": []
  },
  {
   "cell_type": "code",
   "execution_count": null,
   "metadata": {},
   "outputs": [],
   "source": []
  }
 ],
 "metadata": {
  "kernelspec": {
   "display_name": "Python 3",
   "language": "python",
   "name": "python3"
  },
  "language_info": {
   "codemirror_mode": {
    "name": "ipython",
    "version": 3
   },
   "file_extension": ".py",
   "mimetype": "text/x-python",
   "name": "python",
   "nbconvert_exporter": "python",
   "pygments_lexer": "ipython3",
   "version": "3.7.3"
  }
 },
 "nbformat": 4,
 "nbformat_minor": 4
}
