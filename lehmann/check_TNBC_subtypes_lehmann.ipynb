{
 "cells": [
  {
   "cell_type": "code",
   "execution_count": 24,
   "metadata": {},
   "outputs": [],
   "source": [
    "import cv2"
   ]
  },
  {
   "cell_type": "code",
   "execution_count": 25,
   "metadata": {},
   "outputs": [],
   "source": [
    "import sys\n",
    "import os"
   ]
  },
  {
   "cell_type": "code",
   "execution_count": 26,
   "metadata": {},
   "outputs": [],
   "source": [
    "import numpy as np\n",
    "import pandas as pd"
   ]
  },
  {
   "cell_type": "code",
   "execution_count": 27,
   "metadata": {},
   "outputs": [],
   "source": [
    "os.chdir('/home/shuzh/TidyBC/7_AtypicalMatching/lehmann')"
   ]
  },
  {
   "cell_type": "code",
   "execution_count": 28,
   "metadata": {},
   "outputs": [],
   "source": [
    "UNS = cv2.imread(\"UNS.png\")"
   ]
  },
  {
   "cell_type": "code",
   "execution_count": 29,
   "metadata": {},
   "outputs": [],
   "source": [
    "labels = cv2.imread('labels.png')\n",
    "EGFR = cv2.imread('EGFR.png')\n",
    "MKI67 = cv2.imread('MKI67.png')\n",
    "MYC = cv2.imread('MYC.png')\n",
    "SNAI2 = cv2.imread('SNAI2.png')\n",
    "CDH1 = cv2.imread('CDH1.png')\n",
    "TWIST1 = cv2.imread('TWIST1.png')"
   ]
  },
  {
   "cell_type": "code",
   "execution_count": 98,
   "metadata": {},
   "outputs": [
    {
     "data": {
      "text/plain": [
       "(18, 1090, 3)"
      ]
     },
     "execution_count": 98,
     "metadata": {},
     "output_type": "execute_result"
    }
   ],
   "source": [
    "labels.shape"
   ]
  },
  {
   "cell_type": "code",
   "execution_count": 30,
   "metadata": {},
   "outputs": [],
   "source": [
    "cut0 = 0 # UNS\n",
    "cut1 = 138 # BL1\n",
    "cut2 = 328 # BL2\n",
    "cut3 = 483 # IM\n",
    "cut4 = 687 # M\n",
    "cut5 = 888 # MSL\n",
    "cut6 = 965 # LAR"
   ]
  },
  {
   "cell_type": "code",
   "execution_count": 31,
   "metadata": {},
   "outputs": [],
   "source": [
    "cuts = np.array([138,328,483,687,888,965])"
   ]
  },
  {
   "cell_type": "code",
   "execution_count": 32,
   "metadata": {},
   "outputs": [],
   "source": [
    "def get_green_red_channels(img):\n",
    "    img_hsv = cv2.cvtColor(img, cv2.COLOR_BGR2HSV)\n",
    "\n",
    "    mask_green = cv2.inRange(img_hsv, (36, 25, 25), (70, 255,255))\n",
    "    mask_red1 = cv2.inRange(img_hsv, (0, 70, 50), (10, 255, 255))\n",
    "    mask_red2 = cv2.inRange(img_hsv, (170, 70, 50), (180, 255, 255))\n",
    "    mask_orange = cv2.inRange(img_hsv, (10, 100, 20), (25, 255, 255))\n",
    "    mask_yellow = cv2.inRange(img_hsv, (21, 39, 64), (40, 255, 255))\n",
    "    \n",
    "    imask_red1 = mask_red1>0\n",
    "    imask_red2 = mask_red2>0\n",
    "    imask_orange = mask_orange>0\n",
    "    imask_yellow = mask_yellow>0\n",
    "    red = np.zeros_like(img, np.uint8)\n",
    "    red[imask_red1] = img[imask_red1]\n",
    "    red[imask_red2] = img[imask_red2]\n",
    "    red[imask_orange] = img[imask_orange]\n",
    "    red[imask_yellow] = img[imask_yellow]\n",
    "    \n",
    "    imask_green = mask_green>0\n",
    "    green = np.zeros_like(img, np.uint8)\n",
    "    green[imask_green] = img[imask_green]\n",
    "    \n",
    "    return red, green\n",
    "    \n"
   ]
  },
  {
   "cell_type": "code",
   "execution_count": 33,
   "metadata": {},
   "outputs": [],
   "source": [
    "red,green = get_green_red_channels(UNS)"
   ]
  },
  {
   "cell_type": "code",
   "execution_count": 34,
   "metadata": {},
   "outputs": [],
   "source": [
    "green_gray = cv2.cvtColor(green, cv2.COLOR_BGR2GRAY)\n",
    "red_gray = cv2.cvtColor(red, cv2.COLOR_BGR2GRAY)"
   ]
  },
  {
   "cell_type": "code",
   "execution_count": 17,
   "metadata": {},
   "outputs": [
    {
     "data": {
      "text/plain": [
       "True"
      ]
     },
     "execution_count": 17,
     "metadata": {},
     "output_type": "execute_result"
    }
   ],
   "source": [
    "cv2.imwrite(\"red_gray.png\", red_gray)"
   ]
  },
  {
   "cell_type": "code",
   "execution_count": 18,
   "metadata": {},
   "outputs": [
    {
     "data": {
      "text/plain": [
       "True"
      ]
     },
     "execution_count": 18,
     "metadata": {},
     "output_type": "execute_result"
    }
   ],
   "source": [
    "cv2.imwrite(\"green_gray.png\", green_gray)"
   ]
  },
  {
   "cell_type": "code",
   "execution_count": 21,
   "metadata": {},
   "outputs": [
    {
     "data": {
      "text/plain": [
       "217"
      ]
     },
     "execution_count": 21,
     "metadata": {},
     "output_type": "execute_result"
    }
   ],
   "source": [
    "red_gray.max()"
   ]
  },
  {
   "cell_type": "code",
   "execution_count": 22,
   "metadata": {},
   "outputs": [
    {
     "data": {
      "text/plain": [
       "243"
      ]
     },
     "execution_count": 22,
     "metadata": {},
     "output_type": "execute_result"
    }
   ],
   "source": [
    "green_gray.max()"
   ]
  },
  {
   "cell_type": "code",
   "execution_count": 35,
   "metadata": {},
   "outputs": [],
   "source": [
    "def get_expression(red, green):\n",
    "    green_gray = cv2.cvtColor(green, cv2.COLOR_BGR2GRAY)\n",
    "    red_gray = cv2.cvtColor(red, cv2.COLOR_BGR2GRAY)\n",
    "    green_std = np.interp(green_gray, (0,green_gray.max()), (0, -2))\n",
    "    red_std = np.interp(red_gray, (0,red_gray.max()), (0, 2))\n",
    "    return np.mean(green_std) + np.mean(red_std)"
   ]
  },
  {
   "cell_type": "code",
   "execution_count": 36,
   "metadata": {},
   "outputs": [],
   "source": [
    "def process_images(img, cuts):\n",
    "    UNS = img[:, 0:cuts[0], :]\n",
    "    BL1 = img[:, cuts[0]:cuts[1], :]\n",
    "    BL2 = img[:, cuts[1]:cuts[2], :]\n",
    "    IM = img[:, cuts[2]:cuts[3], :]\n",
    "    M = img[:, cuts[3]:cuts[4], :]\n",
    "    MSL = img[:, cuts[4]:cuts[5], :]\n",
    "    LAR = img[:, cuts[5]:, :]\n",
    "    \n",
    "    dict_subtypes = {'UNS': UNS, 'BL1': BL1, 'BL2': BL2, 'IM': IM, 'M': M, 'MSL': MSL,'LAR': LAR}\n",
    "    list_subtypes = list(dict_subtypes.items())\n",
    "    lst = []\n",
    "    for i in range(7):\n",
    "        key, subtype = list_subtypes[i]\n",
    "        red, green = get_green_red_channels(subtype)\n",
    "        lst.append(get_expression(red,green))\n",
    "    return lst"
   ]
  },
  {
   "cell_type": "code",
   "execution_count": null,
   "metadata": {},
   "outputs": [],
   "source": [
    "process_images"
   ]
  },
  {
   "cell_type": "code",
   "execution_count": 37,
   "metadata": {},
   "outputs": [],
   "source": [
    "EGFR_lst = process_images(EGFR, cuts)\n",
    "MKI67_lst = process_images(MKI67, cuts)\n",
    "CDH1_lst = process_images(CDH1, cuts)\n",
    "MYC_lst = process_images(MYC, cuts)\n",
    "SNAI2_lst = process_images(SNAI2, cuts)\n",
    "TWIST1_lst = process_images(TWIST1, cuts)"
   ]
  },
  {
   "cell_type": "code",
   "execution_count": 38,
   "metadata": {},
   "outputs": [],
   "source": [
    "d = {\"EGFR\": EGFR_lst, \"MKI67\": MKI67_lst , \"CDH1\": CDH1_lst, \"MYC\": MYC_lst, \"SNAI2\": SNAI2_lst, \"TWIST1\": TWIST1_lst}\n",
    "df = pd.DataFrame(d)"
   ]
  },
  {
   "cell_type": "code",
   "execution_count": 39,
   "metadata": {},
   "outputs": [],
   "source": [
    "df.index = ['UNS', \"BL1\", \"BL2\", \"IM\",\"M\", \"MSL\", \"LAR\"]"
   ]
  },
  {
   "cell_type": "code",
   "execution_count": 40,
   "metadata": {},
   "outputs": [
    {
     "data": {
      "text/html": [
       "<div>\n",
       "<style scoped>\n",
       "    .dataframe tbody tr th:only-of-type {\n",
       "        vertical-align: middle;\n",
       "    }\n",
       "\n",
       "    .dataframe tbody tr th {\n",
       "        vertical-align: top;\n",
       "    }\n",
       "\n",
       "    .dataframe thead th {\n",
       "        text-align: right;\n",
       "    }\n",
       "</style>\n",
       "<table border=\"1\" class=\"dataframe\">\n",
       "  <thead>\n",
       "    <tr style=\"text-align: right;\">\n",
       "      <th></th>\n",
       "      <th>EGFR</th>\n",
       "      <th>MKI67</th>\n",
       "      <th>CDH1</th>\n",
       "      <th>MYC</th>\n",
       "      <th>SNAI2</th>\n",
       "      <th>TWIST1</th>\n",
       "    </tr>\n",
       "  </thead>\n",
       "  <tbody>\n",
       "    <tr>\n",
       "      <th>UNS</th>\n",
       "      <td>-0.211543</td>\n",
       "      <td>0.294426</td>\n",
       "      <td>-0.378770</td>\n",
       "      <td>0.297679</td>\n",
       "      <td>-0.223286</td>\n",
       "      <td>-0.423009</td>\n",
       "    </tr>\n",
       "    <tr>\n",
       "      <th>BL1</th>\n",
       "      <td>-0.427658</td>\n",
       "      <td>0.299385</td>\n",
       "      <td>0.012041</td>\n",
       "      <td>0.419907</td>\n",
       "      <td>-0.229507</td>\n",
       "      <td>-0.332856</td>\n",
       "    </tr>\n",
       "    <tr>\n",
       "      <th>BL2</th>\n",
       "      <td>0.192129</td>\n",
       "      <td>-0.247571</td>\n",
       "      <td>0.195448</td>\n",
       "      <td>-0.093197</td>\n",
       "      <td>0.066660</td>\n",
       "      <td>0.148477</td>\n",
       "    </tr>\n",
       "    <tr>\n",
       "      <th>IM</th>\n",
       "      <td>-0.411844</td>\n",
       "      <td>0.150117</td>\n",
       "      <td>0.000014</td>\n",
       "      <td>0.187499</td>\n",
       "      <td>-0.665337</td>\n",
       "      <td>-0.251244</td>\n",
       "    </tr>\n",
       "    <tr>\n",
       "      <th>M</th>\n",
       "      <td>-0.002010</td>\n",
       "      <td>0.068957</td>\n",
       "      <td>-0.090739</td>\n",
       "      <td>-0.010692</td>\n",
       "      <td>0.397465</td>\n",
       "      <td>0.158457</td>\n",
       "    </tr>\n",
       "    <tr>\n",
       "      <th>MSL</th>\n",
       "      <td>-0.086514</td>\n",
       "      <td>-0.764067</td>\n",
       "      <td>-0.148906</td>\n",
       "      <td>-0.389109</td>\n",
       "      <td>0.370718</td>\n",
       "      <td>0.506418</td>\n",
       "    </tr>\n",
       "    <tr>\n",
       "      <th>LAR</th>\n",
       "      <td>0.126756</td>\n",
       "      <td>-0.708365</td>\n",
       "      <td>0.282522</td>\n",
       "      <td>-0.830983</td>\n",
       "      <td>0.040879</td>\n",
       "      <td>-0.220295</td>\n",
       "    </tr>\n",
       "  </tbody>\n",
       "</table>\n",
       "</div>"
      ],
      "text/plain": [
       "         EGFR     MKI67      CDH1       MYC     SNAI2    TWIST1\n",
       "UNS -0.211543  0.294426 -0.378770  0.297679 -0.223286 -0.423009\n",
       "BL1 -0.427658  0.299385  0.012041  0.419907 -0.229507 -0.332856\n",
       "BL2  0.192129 -0.247571  0.195448 -0.093197  0.066660  0.148477\n",
       "IM  -0.411844  0.150117  0.000014  0.187499 -0.665337 -0.251244\n",
       "M   -0.002010  0.068957 -0.090739 -0.010692  0.397465  0.158457\n",
       "MSL -0.086514 -0.764067 -0.148906 -0.389109  0.370718  0.506418\n",
       "LAR  0.126756 -0.708365  0.282522 -0.830983  0.040879 -0.220295"
      ]
     },
     "execution_count": 40,
     "metadata": {},
     "output_type": "execute_result"
    }
   ],
   "source": [
    "df"
   ]
  },
  {
   "cell_type": "code",
   "execution_count": 41,
   "metadata": {},
   "outputs": [],
   "source": [
    "df.to_csv(\"avg_expression_lehmann.csv\")"
   ]
  }
 ],
 "metadata": {
  "kernelspec": {
   "display_name": "Python 3",
   "language": "python",
   "name": "python3"
  },
  "language_info": {
   "codemirror_mode": {
    "name": "ipython",
    "version": 3
   },
   "file_extension": ".py",
   "mimetype": "text/x-python",
   "name": "python",
   "nbconvert_exporter": "python",
   "pygments_lexer": "ipython3",
   "version": "3.8.3"
  }
 },
 "nbformat": 4,
 "nbformat_minor": 4
}
