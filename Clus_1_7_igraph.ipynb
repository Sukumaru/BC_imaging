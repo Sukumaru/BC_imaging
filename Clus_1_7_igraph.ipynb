{
 "cells": [
  {
   "cell_type": "code",
   "execution_count": 62,
   "metadata": {},
   "outputs": [
    {
     "name": "stderr",
     "output_type": "stream",
     "text": [
      "\n",
      "Attaching package: ‘zoo’\n",
      "\n",
      "\n",
      "The following objects are masked from ‘package:base’:\n",
      "\n",
      "    as.Date, as.Date.numeric\n",
      "\n",
      "\n",
      "========================================\n",
      "circlize version 0.4.16\n",
      "CRAN page: https://cran.r-project.org/package=circlize\n",
      "Github page: https://github.com/jokergoo/circlize\n",
      "Documentation: https://jokergoo.github.io/circlize_book/book/\n",
      "\n",
      "If you use it in published research, please cite:\n",
      "Gu, Z. circlize implements and enhances circular visualization\n",
      "  in R. Bioinformatics 2014.\n",
      "\n",
      "This message can be suppressed by:\n",
      "  suppressPackageStartupMessages(library(circlize))\n",
      "========================================\n",
      "\n",
      "\n",
      "\n",
      "Attaching package: ‘igraph’\n",
      "\n",
      "\n",
      "The following object is masked from ‘package:circlize’:\n",
      "\n",
      "    degree\n",
      "\n",
      "\n",
      "The following objects are masked from ‘package:dplyr’:\n",
      "\n",
      "    as_data_frame, groups, union\n",
      "\n",
      "\n",
      "The following objects are masked from ‘package:purrr’:\n",
      "\n",
      "    compose, simplify\n",
      "\n",
      "\n",
      "The following object is masked from ‘package:tidyr’:\n",
      "\n",
      "    crossing\n",
      "\n",
      "\n",
      "The following object is masked from ‘package:tibble’:\n",
      "\n",
      "    as_data_frame\n",
      "\n",
      "\n",
      "The following objects are masked from ‘package:stats’:\n",
      "\n",
      "    decompose, spectrum\n",
      "\n",
      "\n",
      "The following object is masked from ‘package:base’:\n",
      "\n",
      "    union\n",
      "\n",
      "\n"
     ]
    }
   ],
   "source": [
    "suppressMessages(library(tidyverse))\n",
    "library(zoo)\n",
    "library(circlize)\n",
    "library(igraph)"
   ]
  },
  {
   "cell_type": "code",
   "execution_count": 65,
   "metadata": {},
   "outputs": [
    {
     "name": "stderr",
     "output_type": "stream",
     "text": [
      "\n",
      "Attaching package: ‘data.table’\n",
      "\n",
      "\n",
      "The following objects are masked from ‘package:dplyr’:\n",
      "\n",
      "    between, first, last\n",
      "\n",
      "\n",
      "The following object is masked from ‘package:purrr’:\n",
      "\n",
      "    transpose\n",
      "\n",
      "\n"
     ]
    }
   ],
   "source": [
    "library(data.table)"
   ]
  },
  {
   "cell_type": "code",
   "execution_count": 33,
   "metadata": {},
   "outputs": [],
   "source": [
    "############ now include clusters indices\n",
    "####new cluster assignments 0-indexed\n",
    "clus_1 = c(12, 28, 36, 53, 65, 70, 111, 114, 140, 153, 156, 175, 180, 185, 203, 207, 211, 229, 232, 233, 234, 236, 241)\n",
    "clus_2 = c(0, 1, 6, 8, 16, 18, 20, 24, 26, 32, 33, 34, 37, 38, 39, 41, 45, 46, 48, 50, 52, 55, 57, 58, 61, 62, 68, 73, 81, 82, 85, 87, 89, 91, 98, 99, 120, 127, 131, 138, 144, 145, 146, 155, 157, 166, 170, 176, 182, 184, 187, 189, 195, 198, 201, 204, 206, 223, 225, 231, 237, 242, 248, 249, 258)\n",
    "clus_3 = c(4, 5, 7, 11, 13, 14, 17, 19, 21, 30, 43, 47, 54, 63, 67, 69, 75, 78, 79, 83, 84, 86, 93, 94, 102, 103, 107, 110, 113, 125, 128, 133, 135, 136, 139, 142, 143, 148, 159, 161, 164, 169, 179, 194, 210, 213, 216, 239, 246, 252, 253)\n",
    "clus_4 = c(2, 9, 15, 29, 31, 35, 40, 44, 49, 51, 59, 66, 72, 74, 77, 88, 90, 92, 95, 101, 104, 105, 109, 112, 116, 119, 121, 122, 123, 126, 129, 134, 137, 141, 147, 150, 158, 162, 165, 167, 171, 173, 177, 178, 183, 186, 188, 190, 191, 192, 193, 197, 199, 202, 205, 209, 212, 214, 215, 217, 218, 219, 221, 222, 224, 226, 227, 228, 235, 244, 247, 250, 251, 255, 256, 257)\n",
    "clus_5 = c(22, 23, 25, 76, 97, 115, 117, 124, 132, 149, 152, 154, 163, 172, 181, 196, 208, 220, 230, 238, 243, 245, 254)\n",
    "clus_6 = c(10, 27, 42, 64, 71, 80, 96, 118, 130, 151, 168, 200, 240)\n",
    "clus_7 = c(3,56, 60, 100, 106, 108, 160, 174)\n"
   ]
  },
  {
   "cell_type": "code",
   "execution_count": 34,
   "metadata": {},
   "outputs": [],
   "source": [
    "clus_1_R = clus_1 + 1\n",
    "clus_2_R = clus_2 + 1\n",
    "clus_3_R = clus_3 + 1\n",
    "clus_4_R = clus_4 + 1\n",
    "clus_5_R = clus_5 + 1\n",
    "clus_6_R = clus_6 + 1\n",
    "clus_7_R = clus_7 + 1\n"
   ]
  },
  {
   "cell_type": "code",
   "execution_count": 1,
   "metadata": {},
   "outputs": [],
   "source": [
    "load(file = \"./rds/clus.Rdata\")"
   ]
  },
  {
   "cell_type": "code",
   "execution_count": 2,
   "metadata": {},
   "outputs": [],
   "source": [
    "D_colnorm = readRDS(file = \"./rds/D_colnorm.rds\")"
   ]
  },
  {
   "cell_type": "code",
   "execution_count": 3,
   "metadata": {},
   "outputs": [],
   "source": [
    "feature_annotations = readRDS(file = \"./rds/feature_annotations.rds\")\n"
   ]
  },
  {
   "cell_type": "code",
   "execution_count": 35,
   "metadata": {},
   "outputs": [
    {
     "data": {
      "text/html": [
       "<style>\n",
       ".list-inline {list-style: none; margin:0; padding: 0}\n",
       ".list-inline>li {display: inline-block}\n",
       ".list-inline>li:not(:last-child)::after {content: \"\\00b7\"; padding: 0 .5ex}\n",
       "</style>\n",
       "<ol class=list-inline><li>13</li><li>29</li><li>37</li><li>54</li><li>66</li><li>71</li><li>112</li><li>115</li><li>141</li><li>154</li><li>157</li><li>176</li><li>181</li><li>186</li><li>204</li><li>208</li><li>212</li><li>230</li><li>233</li><li>234</li><li>235</li><li>237</li><li>242</li></ol>\n"
      ],
      "text/latex": [
       "\\begin{enumerate*}\n",
       "\\item 13\n",
       "\\item 29\n",
       "\\item 37\n",
       "\\item 54\n",
       "\\item 66\n",
       "\\item 71\n",
       "\\item 112\n",
       "\\item 115\n",
       "\\item 141\n",
       "\\item 154\n",
       "\\item 157\n",
       "\\item 176\n",
       "\\item 181\n",
       "\\item 186\n",
       "\\item 204\n",
       "\\item 208\n",
       "\\item 212\n",
       "\\item 230\n",
       "\\item 233\n",
       "\\item 234\n",
       "\\item 235\n",
       "\\item 237\n",
       "\\item 242\n",
       "\\end{enumerate*}\n"
      ],
      "text/markdown": [
       "1. 13\n",
       "2. 29\n",
       "3. 37\n",
       "4. 54\n",
       "5. 66\n",
       "6. 71\n",
       "7. 112\n",
       "8. 115\n",
       "9. 141\n",
       "10. 154\n",
       "11. 157\n",
       "12. 176\n",
       "13. 181\n",
       "14. 186\n",
       "15. 204\n",
       "16. 208\n",
       "17. 212\n",
       "18. 230\n",
       "19. 233\n",
       "20. 234\n",
       "21. 235\n",
       "22. 237\n",
       "23. 242\n",
       "\n",
       "\n"
      ],
      "text/plain": [
       " [1]  13  29  37  54  66  71 112 115 141 154 157 176 181 186 204 208 212 230 233\n",
       "[20] 234 235 237 242"
      ]
     },
     "metadata": {},
     "output_type": "display_data"
    }
   ],
   "source": [
    "clus_1_R"
   ]
  },
  {
   "cell_type": "code",
   "execution_count": 19,
   "metadata": {},
   "outputs": [
    {
     "data": {
      "text/html": [
       "<style>\n",
       ".list-inline {list-style: none; margin:0; padding: 0}\n",
       ".list-inline>li {display: inline-block}\n",
       ".list-inline>li:not(:last-child)::after {content: \"\\00b7\"; padding: 0 .5ex}\n",
       "</style>\n",
       "<ol class=list-inline><li>'Macrophages'</li><li>'Immune cells'</li><li>'Epithelial cells (pan CKs expression, HR expression)'</li><li>'Epithelial cells (CK7 expression, low HR expression)'</li><li>'Endothelial cells (blood vessels) '</li><li>'Hypoxic epithelial cells'</li><li>'Epithelial cells (pan CK expression, low HR expression)'</li><li>'Epithelial cells (pan CK expression, high HR expression)'</li><li>'Immune cells interaction with epithelial cells (low pan CK expression and low HR expression)'</li><li>'Fibroblasts (small elongated) interaction with epithelial cells (CK7 expression, low HR expression)'</li><li>'Macrophage interaction with epithelial cells(low pan CK, high HR expression, p53+)'</li><li>'Fibroblasts (high vimentin expression) interaction with fibroblasts (small circular)'</li><li>'Fibroblasts (large elongated) interaction with proliferative epithelial cells'</li><li>'Fibroblasts (high SMA and Vimentin expression) interaction with epithelial cells (luminal CK expression)'</li><li>'B Cells interaction with epithelial cells (low HR expression)'</li><li>'Immune cells interaction with hypoxic epithelial cells'</li><li>'Macrophages interaction with fibroblasts (small circular)'</li><li>'Macrophages interaction with fibroblasts (small elongated)'</li><li>'Fibroblasts (high SMA and Vimentin expression) interaction with epithelial cells(high HR expression, low pan CK, p53+)'</li><li>'Fibroblasts (small circular) interaction with epithelial cells (CK7 expression, low HR expression)'</li><li>'Fibroblasts (high Vimentin expression) interaction with epithelial cells (high HR expression, low pan CK, p53+)'</li><li>'Immune cells interaction with epithelial cells (high HR expression, low pan CK, p53+)'</li><li>'Macrophage interaction with endothelial cells'</li><li>'Immune cells interaction with endothelial cells'</li><li>'Endothelial cells interaction with epithelial cells (high HR expression, low pan CK, p53+)'</li><li>'Fibroblasts (high SMA and Vimentin expression) interaction with epithelial cells(with low HR expression)'</li><li>'T Cell interaction with proliferative epithelial cells'</li><li>'Macrophage interaction with epithelial cells(pan CK expression and high HR expression)'</li><li>'Fibroblasts(small circular) interaction with epithelial cells (pan CK expression and high HR expression)'</li><li>'Fibroblasts (small elongated) interaction with epithelial cells (pan CK and HR expression)'</li><li>'B Cell interaction with fibroblasts (high fibronectin expression)'</li><li>'Fibroblasts (high Vimentin expression) interaction with epithelial cells (pan CK and HR expression)'</li><li>'Fibroblasts (high SMA and Vimentin expression) interaction with epithelial cells (low pan CK expression and low HR expression)'</li><li>'Fibroblasts (high SMA and Vimentin expression) interaction with apoptotic epithelial cells'</li><li>'Small circular fibroblasts interaction with epithelial cells(expressing luminal CKs and cadherin) '</li><li>'T Cell interaction with apoptotic epithelial cells'</li><li>'Fibroblasts(large elongated) interaction with epithelial cells (CK7 expression, low HR expression)'</li><li>'Macrophage interaction with proliferative epithelial cells'</li><li>'Proliferative epithelial cells (self interactions)'</li><li>'Epithelial cells (low HR expression) interacting with epithelial cells( high HR expression, low pan CK, p53+)'</li><li>'Epithelial cells (pan CK, HR expression) interaction with epithelial cells (pan CK, low HR expression)'</li><li>'Hypoxic epithelial cells interaction with epithelial cells(pan CK, HR expression)'</li><li>'Epithelial cells (basal CKs expressing) interacting with epithelial cells(luminal CKs and cadherin expression) '</li><li>'Epithelial cells (low pan CK expression and low HR expression) with epithelial cells(pan CK, HR expression)'</li><li>'Proliferative epithelial cells interaction with epithelial cells (basal CK expressing)'</li><li>'Hypoxic epithelial cells interacting with epithelial cells (with low HR expression)'</li><li>'Proliferative epithelial cells interacting with epithelial cells (pan CK, low HR expression)'</li><li>'Proliferative epithelial cells interacting with myoepithelial cells'</li><li>'Epithelial cells (with low HR expression)(self interactions)'</li><li>'Epithelial cells (pan CK, with HR expression) interaction with myoepithelial cells'</li></ol>\n"
      ],
      "text/latex": [
       "\\begin{enumerate*}\n",
       "\\item 'Macrophages'\n",
       "\\item 'Immune cells'\n",
       "\\item 'Epithelial cells (pan CKs expression, HR expression)'\n",
       "\\item 'Epithelial cells (CK7 expression, low HR expression)'\n",
       "\\item 'Endothelial cells (blood vessels) '\n",
       "\\item 'Hypoxic epithelial cells'\n",
       "\\item 'Epithelial cells (pan CK expression, low HR expression)'\n",
       "\\item 'Epithelial cells (pan CK expression, high HR expression)'\n",
       "\\item 'Immune cells interaction with epithelial cells (low pan CK expression and low HR expression)'\n",
       "\\item 'Fibroblasts (small elongated) interaction with epithelial cells (CK7 expression, low HR expression)'\n",
       "\\item 'Macrophage interaction with epithelial cells(low pan CK, high HR expression, p53+)'\n",
       "\\item 'Fibroblasts (high vimentin expression) interaction with fibroblasts (small circular)'\n",
       "\\item 'Fibroblasts (large elongated) interaction with proliferative epithelial cells'\n",
       "\\item 'Fibroblasts (high SMA and Vimentin expression) interaction with epithelial cells (luminal CK expression)'\n",
       "\\item 'B Cells interaction with epithelial cells (low HR expression)'\n",
       "\\item 'Immune cells interaction with hypoxic epithelial cells'\n",
       "\\item 'Macrophages interaction with fibroblasts (small circular)'\n",
       "\\item 'Macrophages interaction with fibroblasts (small elongated)'\n",
       "\\item 'Fibroblasts (high SMA and Vimentin expression) interaction with epithelial cells(high HR expression, low pan CK, p53+)'\n",
       "\\item 'Fibroblasts (small circular) interaction with epithelial cells (CK7 expression, low HR expression)'\n",
       "\\item 'Fibroblasts (high Vimentin expression) interaction with epithelial cells (high HR expression, low pan CK, p53+)'\n",
       "\\item 'Immune cells interaction with epithelial cells (high HR expression, low pan CK, p53+)'\n",
       "\\item 'Macrophage interaction with endothelial cells'\n",
       "\\item 'Immune cells interaction with endothelial cells'\n",
       "\\item 'Endothelial cells interaction with epithelial cells (high HR expression, low pan CK, p53+)'\n",
       "\\item 'Fibroblasts (high SMA and Vimentin expression) interaction with epithelial cells(with low HR expression)'\n",
       "\\item 'T Cell interaction with proliferative epithelial cells'\n",
       "\\item 'Macrophage interaction with epithelial cells(pan CK expression and high HR expression)'\n",
       "\\item 'Fibroblasts(small circular) interaction with epithelial cells (pan CK expression and high HR expression)'\n",
       "\\item 'Fibroblasts (small elongated) interaction with epithelial cells (pan CK and HR expression)'\n",
       "\\item 'B Cell interaction with fibroblasts (high fibronectin expression)'\n",
       "\\item 'Fibroblasts (high Vimentin expression) interaction with epithelial cells (pan CK and HR expression)'\n",
       "\\item 'Fibroblasts (high SMA and Vimentin expression) interaction with epithelial cells (low pan CK expression and low HR expression)'\n",
       "\\item 'Fibroblasts (high SMA and Vimentin expression) interaction with apoptotic epithelial cells'\n",
       "\\item 'Small circular fibroblasts interaction with epithelial cells(expressing luminal CKs and cadherin) '\n",
       "\\item 'T Cell interaction with apoptotic epithelial cells'\n",
       "\\item 'Fibroblasts(large elongated) interaction with epithelial cells (CK7 expression, low HR expression)'\n",
       "\\item 'Macrophage interaction with proliferative epithelial cells'\n",
       "\\item 'Proliferative epithelial cells (self interactions)'\n",
       "\\item 'Epithelial cells (low HR expression) interacting with epithelial cells( high HR expression, low pan CK, p53+)'\n",
       "\\item 'Epithelial cells (pan CK, HR expression) interaction with epithelial cells (pan CK, low HR expression)'\n",
       "\\item 'Hypoxic epithelial cells interaction with epithelial cells(pan CK, HR expression)'\n",
       "\\item 'Epithelial cells (basal CKs expressing) interacting with epithelial cells(luminal CKs and cadherin expression) '\n",
       "\\item 'Epithelial cells (low pan CK expression and low HR expression) with epithelial cells(pan CK, HR expression)'\n",
       "\\item 'Proliferative epithelial cells interaction with epithelial cells (basal CK expressing)'\n",
       "\\item 'Hypoxic epithelial cells interacting with epithelial cells (with low HR expression)'\n",
       "\\item 'Proliferative epithelial cells interacting with epithelial cells (pan CK, low HR expression)'\n",
       "\\item 'Proliferative epithelial cells interacting with myoepithelial cells'\n",
       "\\item 'Epithelial cells (with low HR expression)(self interactions)'\n",
       "\\item 'Epithelial cells (pan CK, with HR expression) interaction with myoepithelial cells'\n",
       "\\end{enumerate*}\n"
      ],
      "text/markdown": [
       "1. 'Macrophages'\n",
       "2. 'Immune cells'\n",
       "3. 'Epithelial cells (pan CKs expression, HR expression)'\n",
       "4. 'Epithelial cells (CK7 expression, low HR expression)'\n",
       "5. 'Endothelial cells (blood vessels) '\n",
       "6. 'Hypoxic epithelial cells'\n",
       "7. 'Epithelial cells (pan CK expression, low HR expression)'\n",
       "8. 'Epithelial cells (pan CK expression, high HR expression)'\n",
       "9. 'Immune cells interaction with epithelial cells (low pan CK expression and low HR expression)'\n",
       "10. 'Fibroblasts (small elongated) interaction with epithelial cells (CK7 expression, low HR expression)'\n",
       "11. 'Macrophage interaction with epithelial cells(low pan CK, high HR expression, p53+)'\n",
       "12. 'Fibroblasts (high vimentin expression) interaction with fibroblasts (small circular)'\n",
       "13. 'Fibroblasts (large elongated) interaction with proliferative epithelial cells'\n",
       "14. 'Fibroblasts (high SMA and Vimentin expression) interaction with epithelial cells (luminal CK expression)'\n",
       "15. 'B Cells interaction with epithelial cells (low HR expression)'\n",
       "16. 'Immune cells interaction with hypoxic epithelial cells'\n",
       "17. 'Macrophages interaction with fibroblasts (small circular)'\n",
       "18. 'Macrophages interaction with fibroblasts (small elongated)'\n",
       "19. 'Fibroblasts (high SMA and Vimentin expression) interaction with epithelial cells(high HR expression, low pan CK, p53+)'\n",
       "20. 'Fibroblasts (small circular) interaction with epithelial cells (CK7 expression, low HR expression)'\n",
       "21. 'Fibroblasts (high Vimentin expression) interaction with epithelial cells (high HR expression, low pan CK, p53+)'\n",
       "22. 'Immune cells interaction with epithelial cells (high HR expression, low pan CK, p53+)'\n",
       "23. 'Macrophage interaction with endothelial cells'\n",
       "24. 'Immune cells interaction with endothelial cells'\n",
       "25. 'Endothelial cells interaction with epithelial cells (high HR expression, low pan CK, p53+)'\n",
       "26. 'Fibroblasts (high SMA and Vimentin expression) interaction with epithelial cells(with low HR expression)'\n",
       "27. 'T Cell interaction with proliferative epithelial cells'\n",
       "28. 'Macrophage interaction with epithelial cells(pan CK expression and high HR expression)'\n",
       "29. 'Fibroblasts(small circular) interaction with epithelial cells (pan CK expression and high HR expression)'\n",
       "30. 'Fibroblasts (small elongated) interaction with epithelial cells (pan CK and HR expression)'\n",
       "31. 'B Cell interaction with fibroblasts (high fibronectin expression)'\n",
       "32. 'Fibroblasts (high Vimentin expression) interaction with epithelial cells (pan CK and HR expression)'\n",
       "33. 'Fibroblasts (high SMA and Vimentin expression) interaction with epithelial cells (low pan CK expression and low HR expression)'\n",
       "34. 'Fibroblasts (high SMA and Vimentin expression) interaction with apoptotic epithelial cells'\n",
       "35. 'Small circular fibroblasts interaction with epithelial cells(expressing luminal CKs and cadherin) '\n",
       "36. 'T Cell interaction with apoptotic epithelial cells'\n",
       "37. 'Fibroblasts(large elongated) interaction with epithelial cells (CK7 expression, low HR expression)'\n",
       "38. 'Macrophage interaction with proliferative epithelial cells'\n",
       "39. 'Proliferative epithelial cells (self interactions)'\n",
       "40. 'Epithelial cells (low HR expression) interacting with epithelial cells( high HR expression, low pan CK, p53+)'\n",
       "41. 'Epithelial cells (pan CK, HR expression) interaction with epithelial cells (pan CK, low HR expression)'\n",
       "42. 'Hypoxic epithelial cells interaction with epithelial cells(pan CK, HR expression)'\n",
       "43. 'Epithelial cells (basal CKs expressing) interacting with epithelial cells(luminal CKs and cadherin expression) '\n",
       "44. 'Epithelial cells (low pan CK expression and low HR expression) with epithelial cells(pan CK, HR expression)'\n",
       "45. 'Proliferative epithelial cells interaction with epithelial cells (basal CK expressing)'\n",
       "46. 'Hypoxic epithelial cells interacting with epithelial cells (with low HR expression)'\n",
       "47. 'Proliferative epithelial cells interacting with epithelial cells (pan CK, low HR expression)'\n",
       "48. 'Proliferative epithelial cells interacting with myoepithelial cells'\n",
       "49. 'Epithelial cells (with low HR expression)(self interactions)'\n",
       "50. 'Epithelial cells (pan CK, with HR expression) interaction with myoepithelial cells'\n",
       "\n",
       "\n"
      ],
      "text/plain": [
       " [1] \"Macrophages\"                                                                                                                   \n",
       " [2] \"Immune cells\"                                                                                                                  \n",
       " [3] \"Epithelial cells (pan CKs expression, HR expression)\"                                                                          \n",
       " [4] \"Epithelial cells (CK7 expression, low HR expression)\"                                                                          \n",
       " [5] \"Endothelial cells (blood vessels) \"                                                                                            \n",
       " [6] \"Hypoxic epithelial cells\"                                                                                                      \n",
       " [7] \"Epithelial cells (pan CK expression, low HR expression)\"                                                                       \n",
       " [8] \"Epithelial cells (pan CK expression, high HR expression)\"                                                                      \n",
       " [9] \"Immune cells interaction with epithelial cells (low pan CK expression and low HR expression)\"                                  \n",
       "[10] \"Fibroblasts (small elongated) interaction with epithelial cells (CK7 expression, low HR expression)\"                           \n",
       "[11] \"Macrophage interaction with epithelial cells(low pan CK, high HR expression, p53+)\"                                            \n",
       "[12] \"Fibroblasts (high vimentin expression) interaction with fibroblasts (small circular)\"                                          \n",
       "[13] \"Fibroblasts (large elongated) interaction with proliferative epithelial cells\"                                                 \n",
       "[14] \"Fibroblasts (high SMA and Vimentin expression) interaction with epithelial cells (luminal CK expression)\"                      \n",
       "[15] \"B Cells interaction with epithelial cells (low HR expression)\"                                                                 \n",
       "[16] \"Immune cells interaction with hypoxic epithelial cells\"                                                                        \n",
       "[17] \"Macrophages interaction with fibroblasts (small circular)\"                                                                     \n",
       "[18] \"Macrophages interaction with fibroblasts (small elongated)\"                                                                    \n",
       "[19] \"Fibroblasts (high SMA and Vimentin expression) interaction with epithelial cells(high HR expression, low pan CK, p53+)\"        \n",
       "[20] \"Fibroblasts (small circular) interaction with epithelial cells (CK7 expression, low HR expression)\"                            \n",
       "[21] \"Fibroblasts (high Vimentin expression) interaction with epithelial cells (high HR expression, low pan CK, p53+)\"               \n",
       "[22] \"Immune cells interaction with epithelial cells (high HR expression, low pan CK, p53+)\"                                         \n",
       "[23] \"Macrophage interaction with endothelial cells\"                                                                                 \n",
       "[24] \"Immune cells interaction with endothelial cells\"                                                                               \n",
       "[25] \"Endothelial cells interaction with epithelial cells (high HR expression, low pan CK, p53+)\"                                    \n",
       "[26] \"Fibroblasts (high SMA and Vimentin expression) interaction with epithelial cells(with low HR expression)\"                      \n",
       "[27] \"T Cell interaction with proliferative epithelial cells\"                                                                        \n",
       "[28] \"Macrophage interaction with epithelial cells(pan CK expression and high HR expression)\"                                        \n",
       "[29] \"Fibroblasts(small circular) interaction with epithelial cells (pan CK expression and high HR expression)\"                      \n",
       "[30] \"Fibroblasts (small elongated) interaction with epithelial cells (pan CK and HR expression)\"                                    \n",
       "[31] \"B Cell interaction with fibroblasts (high fibronectin expression)\"                                                             \n",
       "[32] \"Fibroblasts (high Vimentin expression) interaction with epithelial cells (pan CK and HR expression)\"                           \n",
       "[33] \"Fibroblasts (high SMA and Vimentin expression) interaction with epithelial cells (low pan CK expression and low HR expression)\"\n",
       "[34] \"Fibroblasts (high SMA and Vimentin expression) interaction with apoptotic epithelial cells\"                                    \n",
       "[35] \"Small circular fibroblasts interaction with epithelial cells(expressing luminal CKs and cadherin) \"                            \n",
       "[36] \"T Cell interaction with apoptotic epithelial cells\"                                                                            \n",
       "[37] \"Fibroblasts(large elongated) interaction with epithelial cells (CK7 expression, low HR expression)\"                            \n",
       "[38] \"Macrophage interaction with proliferative epithelial cells\"                                                                    \n",
       "[39] \"Proliferative epithelial cells (self interactions)\"                                                                            \n",
       "[40] \"Epithelial cells (low HR expression) interacting with epithelial cells( high HR expression, low pan CK, p53+)\"                 \n",
       "[41] \"Epithelial cells (pan CK, HR expression) interaction with epithelial cells (pan CK, low HR expression)\"                        \n",
       "[42] \"Hypoxic epithelial cells interaction with epithelial cells(pan CK, HR expression)\"                                             \n",
       "[43] \"Epithelial cells (basal CKs expressing) interacting with epithelial cells(luminal CKs and cadherin expression) \"               \n",
       "[44] \"Epithelial cells (low pan CK expression and low HR expression) with epithelial cells(pan CK, HR expression)\"                   \n",
       "[45] \"Proliferative epithelial cells interaction with epithelial cells (basal CK expressing)\"                                        \n",
       "[46] \"Hypoxic epithelial cells interacting with epithelial cells (with low HR expression)\"                                           \n",
       "[47] \"Proliferative epithelial cells interacting with epithelial cells (pan CK, low HR expression)\"                                  \n",
       "[48] \"Proliferative epithelial cells interacting with myoepithelial cells\"                                                           \n",
       "[49] \"Epithelial cells (with low HR expression)(self interactions)\"                                                                  \n",
       "[50] \"Epithelial cells (pan CK, with HR expression) interaction with myoepithelial cells\"                                            "
      ]
     },
     "metadata": {},
     "output_type": "display_data"
    }
   ],
   "source": [
    "feature_annotations"
   ]
  },
  {
   "cell_type": "code",
   "execution_count": 20,
   "metadata": {},
   "outputs": [
    {
     "data": {
      "text/html": [
       "<style>\n",
       ".list-inline {list-style: none; margin:0; padding: 0}\n",
       ".list-inline>li {display: inline-block}\n",
       ".list-inline>li:not(:last-child)::after {content: \"\\00b7\"; padding: 0 .5ex}\n",
       "</style>\n",
       "<ol class=list-inline><li>'Macrophage_1'</li><li>'T_B_Cells'</li><li>'CK._HR.'</li><li>'CK7._CK.'</li><li>'Endothelial'</li><li>'Hypoxic'</li><li>'Cklow_HR.hi'</li><li>'CK._HR.hi'</li><li>'T_B_Cells___CK.low_HR.low'</li><li>'Small_Elongated___CK7._CK.'</li><li>'Macrophage___CK_HRlow_p53.'</li><li>'Vimentin.hi___Small_Circular'</li><li>'Large_Elongated___Proliferative'</li><li>'SMA_hi_Vimentin___CK7._CK.'</li><li>'B_Cell___Epithelial.low'</li><li>'T_B_Cells___Hypoxic'</li><li>'Macrophage___Small_Circular'</li><li>'Macrophage___Small_Elongated'</li><li>'SMA_hi_Vimentin___CK_HRlow_p53.'</li><li>'Small_Circular___CK7._CK.'</li><li>'Vimentin.hi___CK_HRlow_p53.'</li><li>'T_B_Cells___CK_HRlow_p53.'</li><li>'Macrophage___Endothelial.1'</li><li>'T_B_Cells___Endothelial'</li><li>'Endothelial___CK_HRlow_p53.'</li><li>'SMA_hi_Vimentin___Epithelial.low'</li><li>'T_Cell___Proliferative.1'</li><li>'Macrophage___CK._HR.hi'</li><li>'Small_Circular___CK._HR.hi'</li><li>'Small_Elongated___CK._HR.'</li><li>'B_Cell___Fibronectin.hi'</li><li>'Vimentin.hi___CK._HR.'</li><li>'SMA_hi_Vimentin___CK.low_HR.low'</li><li>'SMA_hi_Vimentin___Apoptotic'</li><li>'Small_Circular___CK7._CKhi_Cadherin'</li><li>'T_Cell___Apoptotic.1'</li><li>'Large_Elongated___CK7._CK.'</li><li>'Macrophage___Proliferative.1'</li><li>'Proliferative___Proliferative'</li><li>'Epithelial.low___CK_HRlow_p53.'</li><li>'CK._HR.___CKlow_HR.hi'</li><li>'Hypoxic___CK._HR.'</li><li>'Basal_CK___CK7._CKhi_Cadherin'</li><li>'CK.low_HR.low___CK._HR.'</li><li>'Proliferative___Basal_CK'</li><li>'Hypoxic___Epithelial.low'</li><li>'Proliferative___CKlow_HR.hi'</li><li>'Proliferative___Myoepithelial'</li><li>'Epithelial.low___Epithelial.low'</li><li>'CK._HR.___Myoepithelial'</li></ol>\n"
      ],
      "text/latex": [
       "\\begin{enumerate*}\n",
       "\\item 'Macrophage\\_1'\n",
       "\\item 'T\\_B\\_Cells'\n",
       "\\item 'CK.\\_HR.'\n",
       "\\item 'CK7.\\_CK.'\n",
       "\\item 'Endothelial'\n",
       "\\item 'Hypoxic'\n",
       "\\item 'Cklow\\_HR.hi'\n",
       "\\item 'CK.\\_HR.hi'\n",
       "\\item 'T\\_B\\_Cells\\_\\_\\_CK.low\\_HR.low'\n",
       "\\item 'Small\\_Elongated\\_\\_\\_CK7.\\_CK.'\n",
       "\\item 'Macrophage\\_\\_\\_CK\\_HRlow\\_p53.'\n",
       "\\item 'Vimentin.hi\\_\\_\\_Small\\_Circular'\n",
       "\\item 'Large\\_Elongated\\_\\_\\_Proliferative'\n",
       "\\item 'SMA\\_hi\\_Vimentin\\_\\_\\_CK7.\\_CK.'\n",
       "\\item 'B\\_Cell\\_\\_\\_Epithelial.low'\n",
       "\\item 'T\\_B\\_Cells\\_\\_\\_Hypoxic'\n",
       "\\item 'Macrophage\\_\\_\\_Small\\_Circular'\n",
       "\\item 'Macrophage\\_\\_\\_Small\\_Elongated'\n",
       "\\item 'SMA\\_hi\\_Vimentin\\_\\_\\_CK\\_HRlow\\_p53.'\n",
       "\\item 'Small\\_Circular\\_\\_\\_CK7.\\_CK.'\n",
       "\\item 'Vimentin.hi\\_\\_\\_CK\\_HRlow\\_p53.'\n",
       "\\item 'T\\_B\\_Cells\\_\\_\\_CK\\_HRlow\\_p53.'\n",
       "\\item 'Macrophage\\_\\_\\_Endothelial.1'\n",
       "\\item 'T\\_B\\_Cells\\_\\_\\_Endothelial'\n",
       "\\item 'Endothelial\\_\\_\\_CK\\_HRlow\\_p53.'\n",
       "\\item 'SMA\\_hi\\_Vimentin\\_\\_\\_Epithelial.low'\n",
       "\\item 'T\\_Cell\\_\\_\\_Proliferative.1'\n",
       "\\item 'Macrophage\\_\\_\\_CK.\\_HR.hi'\n",
       "\\item 'Small\\_Circular\\_\\_\\_CK.\\_HR.hi'\n",
       "\\item 'Small\\_Elongated\\_\\_\\_CK.\\_HR.'\n",
       "\\item 'B\\_Cell\\_\\_\\_Fibronectin.hi'\n",
       "\\item 'Vimentin.hi\\_\\_\\_CK.\\_HR.'\n",
       "\\item 'SMA\\_hi\\_Vimentin\\_\\_\\_CK.low\\_HR.low'\n",
       "\\item 'SMA\\_hi\\_Vimentin\\_\\_\\_Apoptotic'\n",
       "\\item 'Small\\_Circular\\_\\_\\_CK7.\\_CKhi\\_Cadherin'\n",
       "\\item 'T\\_Cell\\_\\_\\_Apoptotic.1'\n",
       "\\item 'Large\\_Elongated\\_\\_\\_CK7.\\_CK.'\n",
       "\\item 'Macrophage\\_\\_\\_Proliferative.1'\n",
       "\\item 'Proliferative\\_\\_\\_Proliferative'\n",
       "\\item 'Epithelial.low\\_\\_\\_CK\\_HRlow\\_p53.'\n",
       "\\item 'CK.\\_HR.\\_\\_\\_CKlow\\_HR.hi'\n",
       "\\item 'Hypoxic\\_\\_\\_CK.\\_HR.'\n",
       "\\item 'Basal\\_CK\\_\\_\\_CK7.\\_CKhi\\_Cadherin'\n",
       "\\item 'CK.low\\_HR.low\\_\\_\\_CK.\\_HR.'\n",
       "\\item 'Proliferative\\_\\_\\_Basal\\_CK'\n",
       "\\item 'Hypoxic\\_\\_\\_Epithelial.low'\n",
       "\\item 'Proliferative\\_\\_\\_CKlow\\_HR.hi'\n",
       "\\item 'Proliferative\\_\\_\\_Myoepithelial'\n",
       "\\item 'Epithelial.low\\_\\_\\_Epithelial.low'\n",
       "\\item 'CK.\\_HR.\\_\\_\\_Myoepithelial'\n",
       "\\end{enumerate*}\n"
      ],
      "text/markdown": [
       "1. 'Macrophage_1'\n",
       "2. 'T_B_Cells'\n",
       "3. 'CK._HR.'\n",
       "4. 'CK7._CK.'\n",
       "5. 'Endothelial'\n",
       "6. 'Hypoxic'\n",
       "7. 'Cklow_HR.hi'\n",
       "8. 'CK._HR.hi'\n",
       "9. 'T_B_Cells___CK.low_HR.low'\n",
       "10. 'Small_Elongated___CK7._CK.'\n",
       "11. 'Macrophage___CK_HRlow_p53.'\n",
       "12. 'Vimentin.hi___Small_Circular'\n",
       "13. 'Large_Elongated___Proliferative'\n",
       "14. 'SMA_hi_Vimentin___CK7._CK.'\n",
       "15. 'B_Cell___Epithelial.low'\n",
       "16. 'T_B_Cells___Hypoxic'\n",
       "17. 'Macrophage___Small_Circular'\n",
       "18. 'Macrophage___Small_Elongated'\n",
       "19. 'SMA_hi_Vimentin___CK_HRlow_p53.'\n",
       "20. 'Small_Circular___CK7._CK.'\n",
       "21. 'Vimentin.hi___CK_HRlow_p53.'\n",
       "22. 'T_B_Cells___CK_HRlow_p53.'\n",
       "23. 'Macrophage___Endothelial.1'\n",
       "24. 'T_B_Cells___Endothelial'\n",
       "25. 'Endothelial___CK_HRlow_p53.'\n",
       "26. 'SMA_hi_Vimentin___Epithelial.low'\n",
       "27. 'T_Cell___Proliferative.1'\n",
       "28. 'Macrophage___CK._HR.hi'\n",
       "29. 'Small_Circular___CK._HR.hi'\n",
       "30. 'Small_Elongated___CK._HR.'\n",
       "31. 'B_Cell___Fibronectin.hi'\n",
       "32. 'Vimentin.hi___CK._HR.'\n",
       "33. 'SMA_hi_Vimentin___CK.low_HR.low'\n",
       "34. 'SMA_hi_Vimentin___Apoptotic'\n",
       "35. 'Small_Circular___CK7._CKhi_Cadherin'\n",
       "36. 'T_Cell___Apoptotic.1'\n",
       "37. 'Large_Elongated___CK7._CK.'\n",
       "38. 'Macrophage___Proliferative.1'\n",
       "39. 'Proliferative___Proliferative'\n",
       "40. 'Epithelial.low___CK_HRlow_p53.'\n",
       "41. 'CK._HR.___CKlow_HR.hi'\n",
       "42. 'Hypoxic___CK._HR.'\n",
       "43. 'Basal_CK___CK7._CKhi_Cadherin'\n",
       "44. 'CK.low_HR.low___CK._HR.'\n",
       "45. 'Proliferative___Basal_CK'\n",
       "46. 'Hypoxic___Epithelial.low'\n",
       "47. 'Proliferative___CKlow_HR.hi'\n",
       "48. 'Proliferative___Myoepithelial'\n",
       "49. 'Epithelial.low___Epithelial.low'\n",
       "50. 'CK._HR.___Myoepithelial'\n",
       "\n",
       "\n"
      ],
      "text/plain": [
       " [1] \"Macrophage_1\"                        \"T_B_Cells\"                          \n",
       " [3] \"CK._HR.\"                             \"CK7._CK.\"                           \n",
       " [5] \"Endothelial\"                         \"Hypoxic\"                            \n",
       " [7] \"Cklow_HR.hi\"                         \"CK._HR.hi\"                          \n",
       " [9] \"T_B_Cells___CK.low_HR.low\"           \"Small_Elongated___CK7._CK.\"         \n",
       "[11] \"Macrophage___CK_HRlow_p53.\"          \"Vimentin.hi___Small_Circular\"       \n",
       "[13] \"Large_Elongated___Proliferative\"     \"SMA_hi_Vimentin___CK7._CK.\"         \n",
       "[15] \"B_Cell___Epithelial.low\"             \"T_B_Cells___Hypoxic\"                \n",
       "[17] \"Macrophage___Small_Circular\"         \"Macrophage___Small_Elongated\"       \n",
       "[19] \"SMA_hi_Vimentin___CK_HRlow_p53.\"     \"Small_Circular___CK7._CK.\"          \n",
       "[21] \"Vimentin.hi___CK_HRlow_p53.\"         \"T_B_Cells___CK_HRlow_p53.\"          \n",
       "[23] \"Macrophage___Endothelial.1\"          \"T_B_Cells___Endothelial\"            \n",
       "[25] \"Endothelial___CK_HRlow_p53.\"         \"SMA_hi_Vimentin___Epithelial.low\"   \n",
       "[27] \"T_Cell___Proliferative.1\"            \"Macrophage___CK._HR.hi\"             \n",
       "[29] \"Small_Circular___CK._HR.hi\"          \"Small_Elongated___CK._HR.\"          \n",
       "[31] \"B_Cell___Fibronectin.hi\"             \"Vimentin.hi___CK._HR.\"              \n",
       "[33] \"SMA_hi_Vimentin___CK.low_HR.low\"     \"SMA_hi_Vimentin___Apoptotic\"        \n",
       "[35] \"Small_Circular___CK7._CKhi_Cadherin\" \"T_Cell___Apoptotic.1\"               \n",
       "[37] \"Large_Elongated___CK7._CK.\"          \"Macrophage___Proliferative.1\"       \n",
       "[39] \"Proliferative___Proliferative\"       \"Epithelial.low___CK_HRlow_p53.\"     \n",
       "[41] \"CK._HR.___CKlow_HR.hi\"               \"Hypoxic___CK._HR.\"                  \n",
       "[43] \"Basal_CK___CK7._CKhi_Cadherin\"       \"CK.low_HR.low___CK._HR.\"            \n",
       "[45] \"Proliferative___Basal_CK\"            \"Hypoxic___Epithelial.low\"           \n",
       "[47] \"Proliferative___CKlow_HR.hi\"         \"Proliferative___Myoepithelial\"      \n",
       "[49] \"Epithelial.low___Epithelial.low\"     \"CK._HR.___Myoepithelial\"            "
      ]
     },
     "metadata": {},
     "output_type": "display_data"
    }
   ],
   "source": [
    "colnames(D_colnorm)"
   ]
  },
  {
   "cell_type": "code",
   "execution_count": 36,
   "metadata": {},
   "outputs": [],
   "source": [
    "clus_1_all_feats = cbind(clus1_feats[clus_1_R,])\n",
    "clus_7_all_feats = cbind(clus7_feats[clus_7_R,])"
   ]
  },
  {
   "cell_type": "code",
   "execution_count": 37,
   "metadata": {},
   "outputs": [
    {
     "data": {
      "text/html": [
       "<table class=\"dataframe\">\n",
       "<caption>A matrix: 5 × 5 of type dbl</caption>\n",
       "<thead>\n",
       "\t<tr><th></th><th scope=col>Macrophage___Endothelial.1</th><th scope=col>T_Cell___Proliferative.1</th><th scope=col>Macrophage___Proliferative.1</th><th scope=col>Proliferative___Proliferative</th><th scope=col>Proliferative___Myoepithelial</th></tr>\n",
       "</thead>\n",
       "<tbody>\n",
       "\t<tr><th scope=row>Macrophage___Endothelial.1</th><td> 1.0000000</td><td> 0.9576732</td><td> 0.9976573</td><td> 0.4318473</td><td>-0.2902427</td></tr>\n",
       "\t<tr><th scope=row>T_Cell___Proliferative.1</th><td> 0.9576732</td><td> 1.0000000</td><td> 0.9596590</td><td> 0.3482651</td><td>-0.2852661</td></tr>\n",
       "\t<tr><th scope=row>Macrophage___Proliferative.1</th><td> 0.9976573</td><td> 0.9596590</td><td> 1.0000000</td><td> 0.4212955</td><td>-0.3115527</td></tr>\n",
       "\t<tr><th scope=row>Proliferative___Proliferative</th><td> 0.4318473</td><td> 0.3482651</td><td> 0.4212955</td><td> 1.0000000</td><td>-0.1731380</td></tr>\n",
       "\t<tr><th scope=row>Proliferative___Myoepithelial</th><td>-0.2902427</td><td>-0.2852661</td><td>-0.3115527</td><td>-0.1731380</td><td> 1.0000000</td></tr>\n",
       "</tbody>\n",
       "</table>\n"
      ],
      "text/latex": [
       "A matrix: 5 × 5 of type dbl\n",
       "\\begin{tabular}{r|lllll}\n",
       "  & Macrophage\\_\\_\\_Endothelial.1 & T\\_Cell\\_\\_\\_Proliferative.1 & Macrophage\\_\\_\\_Proliferative.1 & Proliferative\\_\\_\\_Proliferative & Proliferative\\_\\_\\_Myoepithelial\\\\\n",
       "\\hline\n",
       "\tMacrophage\\_\\_\\_Endothelial.1 &  1.0000000 &  0.9576732 &  0.9976573 &  0.4318473 & -0.2902427\\\\\n",
       "\tT\\_Cell\\_\\_\\_Proliferative.1 &  0.9576732 &  1.0000000 &  0.9596590 &  0.3482651 & -0.2852661\\\\\n",
       "\tMacrophage\\_\\_\\_Proliferative.1 &  0.9976573 &  0.9596590 &  1.0000000 &  0.4212955 & -0.3115527\\\\\n",
       "\tProliferative\\_\\_\\_Proliferative &  0.4318473 &  0.3482651 &  0.4212955 &  1.0000000 & -0.1731380\\\\\n",
       "\tProliferative\\_\\_\\_Myoepithelial & -0.2902427 & -0.2852661 & -0.3115527 & -0.1731380 &  1.0000000\\\\\n",
       "\\end{tabular}\n"
      ],
      "text/markdown": [
       "\n",
       "A matrix: 5 × 5 of type dbl\n",
       "\n",
       "| <!--/--> | Macrophage___Endothelial.1 | T_Cell___Proliferative.1 | Macrophage___Proliferative.1 | Proliferative___Proliferative | Proliferative___Myoepithelial |\n",
       "|---|---|---|---|---|---|\n",
       "| Macrophage___Endothelial.1 |  1.0000000 |  0.9576732 |  0.9976573 |  0.4318473 | -0.2902427 |\n",
       "| T_Cell___Proliferative.1 |  0.9576732 |  1.0000000 |  0.9596590 |  0.3482651 | -0.2852661 |\n",
       "| Macrophage___Proliferative.1 |  0.9976573 |  0.9596590 |  1.0000000 |  0.4212955 | -0.3115527 |\n",
       "| Proliferative___Proliferative |  0.4318473 |  0.3482651 |  0.4212955 |  1.0000000 | -0.1731380 |\n",
       "| Proliferative___Myoepithelial | -0.2902427 | -0.2852661 | -0.3115527 | -0.1731380 |  1.0000000 |\n",
       "\n"
      ],
      "text/plain": [
       "                              Macrophage___Endothelial.1\n",
       "Macrophage___Endothelial.1     1.0000000                \n",
       "T_Cell___Proliferative.1       0.9576732                \n",
       "Macrophage___Proliferative.1   0.9976573                \n",
       "Proliferative___Proliferative  0.4318473                \n",
       "Proliferative___Myoepithelial -0.2902427                \n",
       "                              T_Cell___Proliferative.1\n",
       "Macrophage___Endothelial.1     0.9576732              \n",
       "T_Cell___Proliferative.1       1.0000000              \n",
       "Macrophage___Proliferative.1   0.9596590              \n",
       "Proliferative___Proliferative  0.3482651              \n",
       "Proliferative___Myoepithelial -0.2852661              \n",
       "                              Macrophage___Proliferative.1\n",
       "Macrophage___Endothelial.1     0.9976573                  \n",
       "T_Cell___Proliferative.1       0.9596590                  \n",
       "Macrophage___Proliferative.1   1.0000000                  \n",
       "Proliferative___Proliferative  0.4212955                  \n",
       "Proliferative___Myoepithelial -0.3115527                  \n",
       "                              Proliferative___Proliferative\n",
       "Macrophage___Endothelial.1     0.4318473                   \n",
       "T_Cell___Proliferative.1       0.3482651                   \n",
       "Macrophage___Proliferative.1   0.4212955                   \n",
       "Proliferative___Proliferative  1.0000000                   \n",
       "Proliferative___Myoepithelial -0.1731380                   \n",
       "                              Proliferative___Myoepithelial\n",
       "Macrophage___Endothelial.1    -0.2902427                   \n",
       "T_Cell___Proliferative.1      -0.2852661                   \n",
       "Macrophage___Proliferative.1  -0.3115527                   \n",
       "Proliferative___Proliferative -0.1731380                   \n",
       "Proliferative___Myoepithelial  1.0000000                   "
      ]
     },
     "metadata": {},
     "output_type": "display_data"
    }
   ],
   "source": [
    "cor(clus7_feats[clus_7_R,])"
   ]
  },
  {
   "cell_type": "code",
   "execution_count": 38,
   "metadata": {},
   "outputs": [
    {
     "data": {
      "text/html": [
       "<table class=\"dataframe\">\n",
       "<caption>A matrix: 6 × 6 of type dbl</caption>\n",
       "<thead>\n",
       "\t<tr><th></th><th scope=col>x2_sub[, 4]</th><th scope=col>Small_Elongated___CK7._CK.</th><th scope=col>Large_Elongated___Proliferative</th><th scope=col>SMA_hi_Vimentin___CK7._CK.</th><th scope=col>Small_Circular___CK7._CK.</th><th scope=col>Large_Elongated___CK7._CK.</th></tr>\n",
       "</thead>\n",
       "<tbody>\n",
       "\t<tr><th scope=row>x2_sub[, 4]</th><td> 1.00000000</td><td>0.4911270</td><td> 0.04456393</td><td> 0.05473586</td><td>0.38151175</td><td>-0.02579821</td></tr>\n",
       "\t<tr><th scope=row>Small_Elongated___CK7._CK.</th><td> 0.49112697</td><td>1.0000000</td><td> 0.28726562</td><td> 0.31497615</td><td>0.84811953</td><td> 0.22100504</td></tr>\n",
       "\t<tr><th scope=row>Large_Elongated___Proliferative</th><td> 0.04456393</td><td>0.2872656</td><td> 1.00000000</td><td>-0.06613810</td><td>0.11679757</td><td> 0.96139016</td></tr>\n",
       "\t<tr><th scope=row>SMA_hi_Vimentin___CK7._CK.</th><td> 0.05473586</td><td>0.3149761</td><td>-0.06613810</td><td> 1.00000000</td><td>0.39669346</td><td>-0.05533895</td></tr>\n",
       "\t<tr><th scope=row>Small_Circular___CK7._CK.</th><td> 0.38151175</td><td>0.8481195</td><td> 0.11679757</td><td> 0.39669346</td><td>1.00000000</td><td> 0.05731543</td></tr>\n",
       "\t<tr><th scope=row>Large_Elongated___CK7._CK.</th><td>-0.02579821</td><td>0.2210050</td><td> 0.96139016</td><td>-0.05533895</td><td>0.05731543</td><td> 1.00000000</td></tr>\n",
       "</tbody>\n",
       "</table>\n"
      ],
      "text/latex": [
       "A matrix: 6 × 6 of type dbl\n",
       "\\begin{tabular}{r|llllll}\n",
       "  & x2\\_sub{[}, 4{]} & Small\\_Elongated\\_\\_\\_CK7.\\_CK. & Large\\_Elongated\\_\\_\\_Proliferative & SMA\\_hi\\_Vimentin\\_\\_\\_CK7.\\_CK. & Small\\_Circular\\_\\_\\_CK7.\\_CK. & Large\\_Elongated\\_\\_\\_CK7.\\_CK.\\\\\n",
       "\\hline\n",
       "\tx2\\_sub{[}, 4{]} &  1.00000000 & 0.4911270 &  0.04456393 &  0.05473586 & 0.38151175 & -0.02579821\\\\\n",
       "\tSmall\\_Elongated\\_\\_\\_CK7.\\_CK. &  0.49112697 & 1.0000000 &  0.28726562 &  0.31497615 & 0.84811953 &  0.22100504\\\\\n",
       "\tLarge\\_Elongated\\_\\_\\_Proliferative &  0.04456393 & 0.2872656 &  1.00000000 & -0.06613810 & 0.11679757 &  0.96139016\\\\\n",
       "\tSMA\\_hi\\_Vimentin\\_\\_\\_CK7.\\_CK. &  0.05473586 & 0.3149761 & -0.06613810 &  1.00000000 & 0.39669346 & -0.05533895\\\\\n",
       "\tSmall\\_Circular\\_\\_\\_CK7.\\_CK. &  0.38151175 & 0.8481195 &  0.11679757 &  0.39669346 & 1.00000000 &  0.05731543\\\\\n",
       "\tLarge\\_Elongated\\_\\_\\_CK7.\\_CK. & -0.02579821 & 0.2210050 &  0.96139016 & -0.05533895 & 0.05731543 &  1.00000000\\\\\n",
       "\\end{tabular}\n"
      ],
      "text/markdown": [
       "\n",
       "A matrix: 6 × 6 of type dbl\n",
       "\n",
       "| <!--/--> | x2_sub[, 4] | Small_Elongated___CK7._CK. | Large_Elongated___Proliferative | SMA_hi_Vimentin___CK7._CK. | Small_Circular___CK7._CK. | Large_Elongated___CK7._CK. |\n",
       "|---|---|---|---|---|---|---|\n",
       "| x2_sub[, 4] |  1.00000000 | 0.4911270 |  0.04456393 |  0.05473586 | 0.38151175 | -0.02579821 |\n",
       "| Small_Elongated___CK7._CK. |  0.49112697 | 1.0000000 |  0.28726562 |  0.31497615 | 0.84811953 |  0.22100504 |\n",
       "| Large_Elongated___Proliferative |  0.04456393 | 0.2872656 |  1.00000000 | -0.06613810 | 0.11679757 |  0.96139016 |\n",
       "| SMA_hi_Vimentin___CK7._CK. |  0.05473586 | 0.3149761 | -0.06613810 |  1.00000000 | 0.39669346 | -0.05533895 |\n",
       "| Small_Circular___CK7._CK. |  0.38151175 | 0.8481195 |  0.11679757 |  0.39669346 | 1.00000000 |  0.05731543 |\n",
       "| Large_Elongated___CK7._CK. | -0.02579821 | 0.2210050 |  0.96139016 | -0.05533895 | 0.05731543 |  1.00000000 |\n",
       "\n"
      ],
      "text/plain": [
       "                                x2_sub[, 4] Small_Elongated___CK7._CK.\n",
       "x2_sub[, 4]                      1.00000000 0.4911270                 \n",
       "Small_Elongated___CK7._CK.       0.49112697 1.0000000                 \n",
       "Large_Elongated___Proliferative  0.04456393 0.2872656                 \n",
       "SMA_hi_Vimentin___CK7._CK.       0.05473586 0.3149761                 \n",
       "Small_Circular___CK7._CK.        0.38151175 0.8481195                 \n",
       "Large_Elongated___CK7._CK.      -0.02579821 0.2210050                 \n",
       "                                Large_Elongated___Proliferative\n",
       "x2_sub[, 4]                      0.04456393                    \n",
       "Small_Elongated___CK7._CK.       0.28726562                    \n",
       "Large_Elongated___Proliferative  1.00000000                    \n",
       "SMA_hi_Vimentin___CK7._CK.      -0.06613810                    \n",
       "Small_Circular___CK7._CK.        0.11679757                    \n",
       "Large_Elongated___CK7._CK.       0.96139016                    \n",
       "                                SMA_hi_Vimentin___CK7._CK.\n",
       "x2_sub[, 4]                      0.05473586               \n",
       "Small_Elongated___CK7._CK.       0.31497615               \n",
       "Large_Elongated___Proliferative -0.06613810               \n",
       "SMA_hi_Vimentin___CK7._CK.       1.00000000               \n",
       "Small_Circular___CK7._CK.        0.39669346               \n",
       "Large_Elongated___CK7._CK.      -0.05533895               \n",
       "                                Small_Circular___CK7._CK.\n",
       "x2_sub[, 4]                     0.38151175               \n",
       "Small_Elongated___CK7._CK.      0.84811953               \n",
       "Large_Elongated___Proliferative 0.11679757               \n",
       "SMA_hi_Vimentin___CK7._CK.      0.39669346               \n",
       "Small_Circular___CK7._CK.       1.00000000               \n",
       "Large_Elongated___CK7._CK.      0.05731543               \n",
       "                                Large_Elongated___CK7._CK.\n",
       "x2_sub[, 4]                     -0.02579821               \n",
       "Small_Elongated___CK7._CK.       0.22100504               \n",
       "Large_Elongated___Proliferative  0.96139016               \n",
       "SMA_hi_Vimentin___CK7._CK.      -0.05533895               \n",
       "Small_Circular___CK7._CK.        0.05731543               \n",
       "Large_Elongated___CK7._CK.       1.00000000               "
      ]
     },
     "metadata": {},
     "output_type": "display_data"
    }
   ],
   "source": [
    "cor(clus1_feats[clus_1_R,])"
   ]
  },
  {
   "cell_type": "code",
   "execution_count": 39,
   "metadata": {},
   "outputs": [],
   "source": [
    "colnames(clus_1_all_feats)[1] = \"CK7._CK.\""
   ]
  },
  {
   "cell_type": "code",
   "execution_count": 40,
   "metadata": {},
   "outputs": [],
   "source": [
    "ge = read.csv(\"rawGE/imc_df_count_normalized.csv\")"
   ]
  },
  {
   "cell_type": "code",
   "execution_count": 41,
   "metadata": {},
   "outputs": [],
   "source": [
    "ge = ge[,c(-1,-2)]"
   ]
  },
  {
   "cell_type": "code",
   "execution_count": 42,
   "metadata": {},
   "outputs": [],
   "source": [
    "clus_1_ge = ge[clus_1_R,]"
   ]
  },
  {
   "cell_type": "code",
   "execution_count": 43,
   "metadata": {},
   "outputs": [],
   "source": [
    "clus_7_ge = ge[clus_7_R,]"
   ]
  },
  {
   "cell_type": "code",
   "execution_count": 44,
   "metadata": {},
   "outputs": [
    {
     "data": {
      "text/html": [
       "<table class=\"dataframe\">\n",
       "<caption>A data.frame: 8 × 30</caption>\n",
       "<thead>\n",
       "\t<tr><th></th><th scope=col>EGFR</th><th scope=col>CDH1</th><th scope=col>ESR1</th><th scope=col>GATA3</th><th scope=col>H3F3B</th><th scope=col>MKI67</th><th scope=col>ACTA2</th><th scope=col>VIM</th><th scope=col>CASP3</th><th scope=col>ERBB2</th><th scope=col>⋯</th><th scope=col>CD44</th><th scope=col>PTPRC</th><th scope=col>CD68</th><th scope=col>CD3E</th><th scope=col>CA9</th><th scope=col>KRT8</th><th scope=col>KRT7</th><th scope=col>TWIST1</th><th scope=col>RPS6</th><th scope=col>MTOR</th></tr>\n",
       "\t<tr><th></th><th scope=col>&lt;dbl&gt;</th><th scope=col>&lt;dbl&gt;</th><th scope=col>&lt;dbl&gt;</th><th scope=col>&lt;dbl&gt;</th><th scope=col>&lt;dbl&gt;</th><th scope=col>&lt;dbl&gt;</th><th scope=col>&lt;dbl&gt;</th><th scope=col>&lt;dbl&gt;</th><th scope=col>&lt;dbl&gt;</th><th scope=col>&lt;dbl&gt;</th><th scope=col>⋯</th><th scope=col>&lt;dbl&gt;</th><th scope=col>&lt;dbl&gt;</th><th scope=col>&lt;dbl&gt;</th><th scope=col>&lt;dbl&gt;</th><th scope=col>&lt;dbl&gt;</th><th scope=col>&lt;dbl&gt;</th><th scope=col>&lt;dbl&gt;</th><th scope=col>&lt;dbl&gt;</th><th scope=col>&lt;dbl&gt;</th><th scope=col>&lt;dbl&gt;</th></tr>\n",
       "</thead>\n",
       "<tbody>\n",
       "\t<tr><th scope=row>4</th><td>0.2823715</td><td>5.284731</td><td>0.11912674</td><td>0.7809882</td><td> 3.001304</td><td>0.2081424</td><td>5.9376945</td><td> 3.8345924</td><td>0.2852635</td><td>0.4862689</td><td>⋯</td><td>25.704760</td><td>0.08772164</td><td>0.3717713</td><td>0.06228334</td><td>0.6498668</td><td>5.67948948</td><td>0.78543280</td><td>0.2776606</td><td>0.6006638</td><td>1.8232672</td></tr>\n",
       "\t<tr><th scope=row>57</th><td>0.2559108</td><td>1.673353</td><td>0.04003607</td><td>0.1500458</td><td> 3.144732</td><td>2.0257512</td><td>0.4612301</td><td> 0.7186709</td><td>0.4222224</td><td>0.5935374</td><td>⋯</td><td>14.453428</td><td>0.07164668</td><td>0.2177584</td><td>0.04831864</td><td>0.4285391</td><td>0.09318587</td><td>0.11306802</td><td>0.1158612</td><td>0.8175903</td><td>0.4616904</td></tr>\n",
       "\t<tr><th scope=row>61</th><td>0.4164949</td><td>2.907511</td><td>0.05865191</td><td>0.3185650</td><td>12.315496</td><td>1.1748859</td><td>0.8880333</td><td> 3.9916429</td><td>0.8360417</td><td>1.2674466</td><td>⋯</td><td>22.835356</td><td>0.11893975</td><td>0.5780117</td><td>0.05840786</td><td>1.6096982</td><td>0.26834643</td><td>0.17805782</td><td>0.1893149</td><td>0.6208840</td><td>0.7103192</td></tr>\n",
       "\t<tr><th scope=row>101</th><td>0.5904270</td><td>1.203671</td><td>0.65536871</td><td>1.8580535</td><td>38.233488</td><td>1.2215053</td><td>7.8014997</td><td> 2.7820427</td><td>1.8229387</td><td>3.3096174</td><td>⋯</td><td>31.682181</td><td>0.26061791</td><td>0.9303466</td><td>0.06867257</td><td>1.1740841</td><td>0.25072849</td><td>0.03206740</td><td>0.5365185</td><td>2.8257402</td><td>1.6106024</td></tr>\n",
       "\t<tr><th scope=row>107</th><td>0.6396058</td><td>9.864025</td><td>0.07674765</td><td>0.3120427</td><td>13.546465</td><td>0.9370640</td><td>0.2955520</td><td> 1.8168696</td><td>1.7217823</td><td>3.0138163</td><td>⋯</td><td>23.273627</td><td>0.09741741</td><td>0.3791971</td><td>0.05655816</td><td>4.0647706</td><td>0.18473791</td><td>0.04907955</td><td>0.2289580</td><td>0.7764589</td><td>1.3044638</td></tr>\n",
       "\t<tr><th scope=row>109</th><td>0.6883314</td><td>2.065297</td><td>0.25434561</td><td>0.3729342</td><td>10.715631</td><td>2.6023437</td><td>3.2367579</td><td>10.2257847</td><td>0.8671084</td><td>1.3370411</td><td>⋯</td><td>64.042330</td><td>1.15529957</td><td>1.0355637</td><td>0.45799453</td><td>1.3418111</td><td>0.27369793</td><td>0.31057506</td><td>0.3559505</td><td>1.1414809</td><td>1.2288876</td></tr>\n",
       "\t<tr><th scope=row>161</th><td>0.3465334</td><td>1.501193</td><td>0.04557206</td><td>0.3152704</td><td> 3.477134</td><td>0.7235803</td><td>1.3230537</td><td> 1.5869040</td><td>0.4183836</td><td>1.0282448</td><td>⋯</td><td> 8.538279</td><td>0.07417702</td><td>0.1650680</td><td>0.03999259</td><td>0.3933290</td><td>0.05011305</td><td>0.01923345</td><td>0.1170188</td><td>0.9585711</td><td>0.3614573</td></tr>\n",
       "\t<tr><th scope=row>175</th><td>0.4150723</td><td>3.359014</td><td>0.11001906</td><td>0.1953811</td><td>10.719644</td><td>2.8899933</td><td>0.2884669</td><td> 7.1837195</td><td>1.0020797</td><td>1.0642564</td><td>⋯</td><td>49.553075</td><td>0.22490266</td><td>1.1441025</td><td>0.06389024</td><td>0.7468606</td><td>0.31945580</td><td>0.03290389</td><td>0.2212693</td><td>0.5358442</td><td>0.8569955</td></tr>\n",
       "</tbody>\n",
       "</table>\n"
      ],
      "text/latex": [
       "A data.frame: 8 × 30\n",
       "\\begin{tabular}{r|lllllllllllllllllllll}\n",
       "  & EGFR & CDH1 & ESR1 & GATA3 & H3F3B & MKI67 & ACTA2 & VIM & CASP3 & ERBB2 & ⋯ & CD44 & PTPRC & CD68 & CD3E & CA9 & KRT8 & KRT7 & TWIST1 & RPS6 & MTOR\\\\\n",
       "  & <dbl> & <dbl> & <dbl> & <dbl> & <dbl> & <dbl> & <dbl> & <dbl> & <dbl> & <dbl> & ⋯ & <dbl> & <dbl> & <dbl> & <dbl> & <dbl> & <dbl> & <dbl> & <dbl> & <dbl> & <dbl>\\\\\n",
       "\\hline\n",
       "\t4 & 0.2823715 & 5.284731 & 0.11912674 & 0.7809882 &  3.001304 & 0.2081424 & 5.9376945 &  3.8345924 & 0.2852635 & 0.4862689 & ⋯ & 25.704760 & 0.08772164 & 0.3717713 & 0.06228334 & 0.6498668 & 5.67948948 & 0.78543280 & 0.2776606 & 0.6006638 & 1.8232672\\\\\n",
       "\t57 & 0.2559108 & 1.673353 & 0.04003607 & 0.1500458 &  3.144732 & 2.0257512 & 0.4612301 &  0.7186709 & 0.4222224 & 0.5935374 & ⋯ & 14.453428 & 0.07164668 & 0.2177584 & 0.04831864 & 0.4285391 & 0.09318587 & 0.11306802 & 0.1158612 & 0.8175903 & 0.4616904\\\\\n",
       "\t61 & 0.4164949 & 2.907511 & 0.05865191 & 0.3185650 & 12.315496 & 1.1748859 & 0.8880333 &  3.9916429 & 0.8360417 & 1.2674466 & ⋯ & 22.835356 & 0.11893975 & 0.5780117 & 0.05840786 & 1.6096982 & 0.26834643 & 0.17805782 & 0.1893149 & 0.6208840 & 0.7103192\\\\\n",
       "\t101 & 0.5904270 & 1.203671 & 0.65536871 & 1.8580535 & 38.233488 & 1.2215053 & 7.8014997 &  2.7820427 & 1.8229387 & 3.3096174 & ⋯ & 31.682181 & 0.26061791 & 0.9303466 & 0.06867257 & 1.1740841 & 0.25072849 & 0.03206740 & 0.5365185 & 2.8257402 & 1.6106024\\\\\n",
       "\t107 & 0.6396058 & 9.864025 & 0.07674765 & 0.3120427 & 13.546465 & 0.9370640 & 0.2955520 &  1.8168696 & 1.7217823 & 3.0138163 & ⋯ & 23.273627 & 0.09741741 & 0.3791971 & 0.05655816 & 4.0647706 & 0.18473791 & 0.04907955 & 0.2289580 & 0.7764589 & 1.3044638\\\\\n",
       "\t109 & 0.6883314 & 2.065297 & 0.25434561 & 0.3729342 & 10.715631 & 2.6023437 & 3.2367579 & 10.2257847 & 0.8671084 & 1.3370411 & ⋯ & 64.042330 & 1.15529957 & 1.0355637 & 0.45799453 & 1.3418111 & 0.27369793 & 0.31057506 & 0.3559505 & 1.1414809 & 1.2288876\\\\\n",
       "\t161 & 0.3465334 & 1.501193 & 0.04557206 & 0.3152704 &  3.477134 & 0.7235803 & 1.3230537 &  1.5869040 & 0.4183836 & 1.0282448 & ⋯ &  8.538279 & 0.07417702 & 0.1650680 & 0.03999259 & 0.3933290 & 0.05011305 & 0.01923345 & 0.1170188 & 0.9585711 & 0.3614573\\\\\n",
       "\t175 & 0.4150723 & 3.359014 & 0.11001906 & 0.1953811 & 10.719644 & 2.8899933 & 0.2884669 &  7.1837195 & 1.0020797 & 1.0642564 & ⋯ & 49.553075 & 0.22490266 & 1.1441025 & 0.06389024 & 0.7468606 & 0.31945580 & 0.03290389 & 0.2212693 & 0.5358442 & 0.8569955\\\\\n",
       "\\end{tabular}\n"
      ],
      "text/markdown": [
       "\n",
       "A data.frame: 8 × 30\n",
       "\n",
       "| <!--/--> | EGFR &lt;dbl&gt; | CDH1 &lt;dbl&gt; | ESR1 &lt;dbl&gt; | GATA3 &lt;dbl&gt; | H3F3B &lt;dbl&gt; | MKI67 &lt;dbl&gt; | ACTA2 &lt;dbl&gt; | VIM &lt;dbl&gt; | CASP3 &lt;dbl&gt; | ERBB2 &lt;dbl&gt; | ⋯ ⋯ | CD44 &lt;dbl&gt; | PTPRC &lt;dbl&gt; | CD68 &lt;dbl&gt; | CD3E &lt;dbl&gt; | CA9 &lt;dbl&gt; | KRT8 &lt;dbl&gt; | KRT7 &lt;dbl&gt; | TWIST1 &lt;dbl&gt; | RPS6 &lt;dbl&gt; | MTOR &lt;dbl&gt; |\n",
       "|---|---|---|---|---|---|---|---|---|---|---|---|---|---|---|---|---|---|---|---|---|---|\n",
       "| 4 | 0.2823715 | 5.284731 | 0.11912674 | 0.7809882 |  3.001304 | 0.2081424 | 5.9376945 |  3.8345924 | 0.2852635 | 0.4862689 | ⋯ | 25.704760 | 0.08772164 | 0.3717713 | 0.06228334 | 0.6498668 | 5.67948948 | 0.78543280 | 0.2776606 | 0.6006638 | 1.8232672 |\n",
       "| 57 | 0.2559108 | 1.673353 | 0.04003607 | 0.1500458 |  3.144732 | 2.0257512 | 0.4612301 |  0.7186709 | 0.4222224 | 0.5935374 | ⋯ | 14.453428 | 0.07164668 | 0.2177584 | 0.04831864 | 0.4285391 | 0.09318587 | 0.11306802 | 0.1158612 | 0.8175903 | 0.4616904 |\n",
       "| 61 | 0.4164949 | 2.907511 | 0.05865191 | 0.3185650 | 12.315496 | 1.1748859 | 0.8880333 |  3.9916429 | 0.8360417 | 1.2674466 | ⋯ | 22.835356 | 0.11893975 | 0.5780117 | 0.05840786 | 1.6096982 | 0.26834643 | 0.17805782 | 0.1893149 | 0.6208840 | 0.7103192 |\n",
       "| 101 | 0.5904270 | 1.203671 | 0.65536871 | 1.8580535 | 38.233488 | 1.2215053 | 7.8014997 |  2.7820427 | 1.8229387 | 3.3096174 | ⋯ | 31.682181 | 0.26061791 | 0.9303466 | 0.06867257 | 1.1740841 | 0.25072849 | 0.03206740 | 0.5365185 | 2.8257402 | 1.6106024 |\n",
       "| 107 | 0.6396058 | 9.864025 | 0.07674765 | 0.3120427 | 13.546465 | 0.9370640 | 0.2955520 |  1.8168696 | 1.7217823 | 3.0138163 | ⋯ | 23.273627 | 0.09741741 | 0.3791971 | 0.05655816 | 4.0647706 | 0.18473791 | 0.04907955 | 0.2289580 | 0.7764589 | 1.3044638 |\n",
       "| 109 | 0.6883314 | 2.065297 | 0.25434561 | 0.3729342 | 10.715631 | 2.6023437 | 3.2367579 | 10.2257847 | 0.8671084 | 1.3370411 | ⋯ | 64.042330 | 1.15529957 | 1.0355637 | 0.45799453 | 1.3418111 | 0.27369793 | 0.31057506 | 0.3559505 | 1.1414809 | 1.2288876 |\n",
       "| 161 | 0.3465334 | 1.501193 | 0.04557206 | 0.3152704 |  3.477134 | 0.7235803 | 1.3230537 |  1.5869040 | 0.4183836 | 1.0282448 | ⋯ |  8.538279 | 0.07417702 | 0.1650680 | 0.03999259 | 0.3933290 | 0.05011305 | 0.01923345 | 0.1170188 | 0.9585711 | 0.3614573 |\n",
       "| 175 | 0.4150723 | 3.359014 | 0.11001906 | 0.1953811 | 10.719644 | 2.8899933 | 0.2884669 |  7.1837195 | 1.0020797 | 1.0642564 | ⋯ | 49.553075 | 0.22490266 | 1.1441025 | 0.06389024 | 0.7468606 | 0.31945580 | 0.03290389 | 0.2212693 | 0.5358442 | 0.8569955 |\n",
       "\n"
      ],
      "text/plain": [
       "    EGFR      CDH1     ESR1       GATA3     H3F3B     MKI67     ACTA2    \n",
       "4   0.2823715 5.284731 0.11912674 0.7809882  3.001304 0.2081424 5.9376945\n",
       "57  0.2559108 1.673353 0.04003607 0.1500458  3.144732 2.0257512 0.4612301\n",
       "61  0.4164949 2.907511 0.05865191 0.3185650 12.315496 1.1748859 0.8880333\n",
       "101 0.5904270 1.203671 0.65536871 1.8580535 38.233488 1.2215053 7.8014997\n",
       "107 0.6396058 9.864025 0.07674765 0.3120427 13.546465 0.9370640 0.2955520\n",
       "109 0.6883314 2.065297 0.25434561 0.3729342 10.715631 2.6023437 3.2367579\n",
       "161 0.3465334 1.501193 0.04557206 0.3152704  3.477134 0.7235803 1.3230537\n",
       "175 0.4150723 3.359014 0.11001906 0.1953811 10.719644 2.8899933 0.2884669\n",
       "    VIM        CASP3     ERBB2     ⋯ CD44      PTPRC      CD68      CD3E      \n",
       "4    3.8345924 0.2852635 0.4862689 ⋯ 25.704760 0.08772164 0.3717713 0.06228334\n",
       "57   0.7186709 0.4222224 0.5935374 ⋯ 14.453428 0.07164668 0.2177584 0.04831864\n",
       "61   3.9916429 0.8360417 1.2674466 ⋯ 22.835356 0.11893975 0.5780117 0.05840786\n",
       "101  2.7820427 1.8229387 3.3096174 ⋯ 31.682181 0.26061791 0.9303466 0.06867257\n",
       "107  1.8168696 1.7217823 3.0138163 ⋯ 23.273627 0.09741741 0.3791971 0.05655816\n",
       "109 10.2257847 0.8671084 1.3370411 ⋯ 64.042330 1.15529957 1.0355637 0.45799453\n",
       "161  1.5869040 0.4183836 1.0282448 ⋯  8.538279 0.07417702 0.1650680 0.03999259\n",
       "175  7.1837195 1.0020797 1.0642564 ⋯ 49.553075 0.22490266 1.1441025 0.06389024\n",
       "    CA9       KRT8       KRT7       TWIST1    RPS6      MTOR     \n",
       "4   0.6498668 5.67948948 0.78543280 0.2776606 0.6006638 1.8232672\n",
       "57  0.4285391 0.09318587 0.11306802 0.1158612 0.8175903 0.4616904\n",
       "61  1.6096982 0.26834643 0.17805782 0.1893149 0.6208840 0.7103192\n",
       "101 1.1740841 0.25072849 0.03206740 0.5365185 2.8257402 1.6106024\n",
       "107 4.0647706 0.18473791 0.04907955 0.2289580 0.7764589 1.3044638\n",
       "109 1.3418111 0.27369793 0.31057506 0.3559505 1.1414809 1.2288876\n",
       "161 0.3933290 0.05011305 0.01923345 0.1170188 0.9585711 0.3614573\n",
       "175 0.7468606 0.31945580 0.03290389 0.2212693 0.5358442 0.8569955"
      ]
     },
     "metadata": {},
     "output_type": "display_data"
    }
   ],
   "source": [
    "clus_7_ge"
   ]
  },
  {
   "cell_type": "code",
   "execution_count": 45,
   "metadata": {},
   "outputs": [
    {
     "data": {
      "text/html": [
       "<table class=\"dataframe\">\n",
       "<caption>A matrix: 5 × 5 of type dbl</caption>\n",
       "<thead>\n",
       "\t<tr><th></th><th scope=col>Macrophage___Endothelial.1</th><th scope=col>T_Cell___Proliferative.1</th><th scope=col>Macrophage___Proliferative.1</th><th scope=col>Proliferative___Proliferative</th><th scope=col>Proliferative___Myoepithelial</th></tr>\n",
       "</thead>\n",
       "<tbody>\n",
       "\t<tr><th scope=row>Macrophage___Endothelial.1</th><td> 1.0000000</td><td> 0.9576732</td><td> 0.9976573</td><td> 0.4318473</td><td>-0.2902427</td></tr>\n",
       "\t<tr><th scope=row>T_Cell___Proliferative.1</th><td> 0.9576732</td><td> 1.0000000</td><td> 0.9596590</td><td> 0.3482651</td><td>-0.2852661</td></tr>\n",
       "\t<tr><th scope=row>Macrophage___Proliferative.1</th><td> 0.9976573</td><td> 0.9596590</td><td> 1.0000000</td><td> 0.4212955</td><td>-0.3115527</td></tr>\n",
       "\t<tr><th scope=row>Proliferative___Proliferative</th><td> 0.4318473</td><td> 0.3482651</td><td> 0.4212955</td><td> 1.0000000</td><td>-0.1731380</td></tr>\n",
       "\t<tr><th scope=row>Proliferative___Myoepithelial</th><td>-0.2902427</td><td>-0.2852661</td><td>-0.3115527</td><td>-0.1731380</td><td> 1.0000000</td></tr>\n",
       "</tbody>\n",
       "</table>\n"
      ],
      "text/latex": [
       "A matrix: 5 × 5 of type dbl\n",
       "\\begin{tabular}{r|lllll}\n",
       "  & Macrophage\\_\\_\\_Endothelial.1 & T\\_Cell\\_\\_\\_Proliferative.1 & Macrophage\\_\\_\\_Proliferative.1 & Proliferative\\_\\_\\_Proliferative & Proliferative\\_\\_\\_Myoepithelial\\\\\n",
       "\\hline\n",
       "\tMacrophage\\_\\_\\_Endothelial.1 &  1.0000000 &  0.9576732 &  0.9976573 &  0.4318473 & -0.2902427\\\\\n",
       "\tT\\_Cell\\_\\_\\_Proliferative.1 &  0.9576732 &  1.0000000 &  0.9596590 &  0.3482651 & -0.2852661\\\\\n",
       "\tMacrophage\\_\\_\\_Proliferative.1 &  0.9976573 &  0.9596590 &  1.0000000 &  0.4212955 & -0.3115527\\\\\n",
       "\tProliferative\\_\\_\\_Proliferative &  0.4318473 &  0.3482651 &  0.4212955 &  1.0000000 & -0.1731380\\\\\n",
       "\tProliferative\\_\\_\\_Myoepithelial & -0.2902427 & -0.2852661 & -0.3115527 & -0.1731380 &  1.0000000\\\\\n",
       "\\end{tabular}\n"
      ],
      "text/markdown": [
       "\n",
       "A matrix: 5 × 5 of type dbl\n",
       "\n",
       "| <!--/--> | Macrophage___Endothelial.1 | T_Cell___Proliferative.1 | Macrophage___Proliferative.1 | Proliferative___Proliferative | Proliferative___Myoepithelial |\n",
       "|---|---|---|---|---|---|\n",
       "| Macrophage___Endothelial.1 |  1.0000000 |  0.9576732 |  0.9976573 |  0.4318473 | -0.2902427 |\n",
       "| T_Cell___Proliferative.1 |  0.9576732 |  1.0000000 |  0.9596590 |  0.3482651 | -0.2852661 |\n",
       "| Macrophage___Proliferative.1 |  0.9976573 |  0.9596590 |  1.0000000 |  0.4212955 | -0.3115527 |\n",
       "| Proliferative___Proliferative |  0.4318473 |  0.3482651 |  0.4212955 |  1.0000000 | -0.1731380 |\n",
       "| Proliferative___Myoepithelial | -0.2902427 | -0.2852661 | -0.3115527 | -0.1731380 |  1.0000000 |\n",
       "\n"
      ],
      "text/plain": [
       "                              Macrophage___Endothelial.1\n",
       "Macrophage___Endothelial.1     1.0000000                \n",
       "T_Cell___Proliferative.1       0.9576732                \n",
       "Macrophage___Proliferative.1   0.9976573                \n",
       "Proliferative___Proliferative  0.4318473                \n",
       "Proliferative___Myoepithelial -0.2902427                \n",
       "                              T_Cell___Proliferative.1\n",
       "Macrophage___Endothelial.1     0.9576732              \n",
       "T_Cell___Proliferative.1       1.0000000              \n",
       "Macrophage___Proliferative.1   0.9596590              \n",
       "Proliferative___Proliferative  0.3482651              \n",
       "Proliferative___Myoepithelial -0.2852661              \n",
       "                              Macrophage___Proliferative.1\n",
       "Macrophage___Endothelial.1     0.9976573                  \n",
       "T_Cell___Proliferative.1       0.9596590                  \n",
       "Macrophage___Proliferative.1   1.0000000                  \n",
       "Proliferative___Proliferative  0.4212955                  \n",
       "Proliferative___Myoepithelial -0.3115527                  \n",
       "                              Proliferative___Proliferative\n",
       "Macrophage___Endothelial.1     0.4318473                   \n",
       "T_Cell___Proliferative.1       0.3482651                   \n",
       "Macrophage___Proliferative.1   0.4212955                   \n",
       "Proliferative___Proliferative  1.0000000                   \n",
       "Proliferative___Myoepithelial -0.1731380                   \n",
       "                              Proliferative___Myoepithelial\n",
       "Macrophage___Endothelial.1    -0.2902427                   \n",
       "T_Cell___Proliferative.1      -0.2852661                   \n",
       "Macrophage___Proliferative.1  -0.3115527                   \n",
       "Proliferative___Proliferative -0.1731380                   \n",
       "Proliferative___Myoepithelial  1.0000000                   "
      ]
     },
     "metadata": {},
     "output_type": "display_data"
    }
   ],
   "source": [
    "cor(clus_7_all_feats)"
   ]
  },
  {
   "cell_type": "code",
   "execution_count": 46,
   "metadata": {},
   "outputs": [],
   "source": [
    "names = c(\"Epithelial Cells (high CK7, high Ck19, low HR)\",\n",
    "          \"Fibroblasts (small-elongated, low vimentin, low fibroneclin, low SMA) interaction with Epithelial Cells (high CK7, high CK19, low HR)\",\n",
    "          \"Fibroblasts (large-elongated) interaction with Proliferaive Epithelial Cells\",\n",
    "          \"Fibroblasts (high SMA, high vimentin) interaction with Epithelial Cells (high CK7, high CK19, low HR)\",\n",
    "          \"Fibroblasts (small-circular, low vimentin, low fibronectin, low SMA) interaction with Epithelial Ce!ls (high CK7, high CK19, low HR)\",\n",
    "          \"Fibroblasts (large-elongated, low vimentin, low fibroneclin, low SMA) interaction with Epithelial Cells (high CK7, high CK19, low HR)\",\n",
    "         \"Macrophage (high vimentin) interactions with Endothelial Cells\",\n",
    "         \"T Cells(high vimentin) interaction with Proliferative Epithelial Cells\",\n",
    "         \"Macrophage (low vimentin) interactions with Proliferative Epithelial Cells\",\n",
    "         \"Proliferative Epithelial Cells (self-interactions)\",\n",
    "         \"Proliferative Epithelial Cells interacting with Myoepithelial Cells\")"
   ]
  },
  {
   "cell_type": "code",
   "execution_count": 131,
   "metadata": {},
   "outputs": [],
   "source": [
    "#colnames(clus_7_all_feats) = names\n",
    "#colnames(clus_1_all_feats) = names"
   ]
  },
  {
   "cell_type": "code",
   "execution_count": 221,
   "metadata": {},
   "outputs": [
    {
     "data": {
      "text/html": [
       "<table class=\"dataframe\">\n",
       "<caption>A data.frame: 8 × 5</caption>\n",
       "<thead>\n",
       "\t<tr><th></th><th scope=col>Macrophage___Endothelial.1</th><th scope=col>T_Cell___Proliferative.1</th><th scope=col>Macrophage___Proliferative.1</th><th scope=col>Proliferative___Proliferative</th><th scope=col>Proliferative___Myoepithelial</th></tr>\n",
       "\t<tr><th></th><th scope=col>&lt;dbl&gt;</th><th scope=col>&lt;dbl&gt;</th><th scope=col>&lt;dbl&gt;</th><th scope=col>&lt;dbl&gt;</th><th scope=col>&lt;dbl&gt;</th></tr>\n",
       "</thead>\n",
       "<tbody>\n",
       "\t<tr><th scope=row>4</th><td>0.0000000000</td><td>0.00000000</td><td>0.000000000</td><td> 0.000000</td><td>0.000000000</td></tr>\n",
       "\t<tr><th scope=row>57</th><td>0.0005607076</td><td>0.11447069</td><td>0.023876295</td><td>16.223334</td><td>0.000000000</td></tr>\n",
       "\t<tr><th scope=row>61</th><td>0.0000117005</td><td>0.01630787</td><td>0.002129491</td><td> 6.583052</td><td>0.000000000</td></tr>\n",
       "\t<tr><th scope=row>101</th><td>0.0000000000</td><td>0.00000000</td><td>0.000000000</td><td>15.550790</td><td>0.004706405</td></tr>\n",
       "\t<tr><th scope=row>107</th><td>0.0000000000</td><td>0.00000000</td><td>0.000000000</td><td> 8.379286</td><td>0.014096836</td></tr>\n",
       "\t<tr><th scope=row>109</th><td>0.0000000000</td><td>0.03231096</td><td>0.000000000</td><td> 3.343810</td><td>0.017177922</td></tr>\n",
       "\t<tr><th scope=row>161</th><td>0.0000000000</td><td>0.00000000</td><td>0.000000000</td><td> 9.477861</td><td>0.035384991</td></tr>\n",
       "\t<tr><th scope=row>175</th><td>0.0000000000</td><td>0.01066836</td><td>0.000000000</td><td>16.670628</td><td>0.000000000</td></tr>\n",
       "</tbody>\n",
       "</table>\n"
      ],
      "text/latex": [
       "A data.frame: 8 × 5\n",
       "\\begin{tabular}{r|lllll}\n",
       "  & Macrophage\\_\\_\\_Endothelial.1 & T\\_Cell\\_\\_\\_Proliferative.1 & Macrophage\\_\\_\\_Proliferative.1 & Proliferative\\_\\_\\_Proliferative & Proliferative\\_\\_\\_Myoepithelial\\\\\n",
       "  & <dbl> & <dbl> & <dbl> & <dbl> & <dbl>\\\\\n",
       "\\hline\n",
       "\t4 & 0.0000000000 & 0.00000000 & 0.000000000 &  0.000000 & 0.000000000\\\\\n",
       "\t57 & 0.0005607076 & 0.11447069 & 0.023876295 & 16.223334 & 0.000000000\\\\\n",
       "\t61 & 0.0000117005 & 0.01630787 & 0.002129491 &  6.583052 & 0.000000000\\\\\n",
       "\t101 & 0.0000000000 & 0.00000000 & 0.000000000 & 15.550790 & 0.004706405\\\\\n",
       "\t107 & 0.0000000000 & 0.00000000 & 0.000000000 &  8.379286 & 0.014096836\\\\\n",
       "\t109 & 0.0000000000 & 0.03231096 & 0.000000000 &  3.343810 & 0.017177922\\\\\n",
       "\t161 & 0.0000000000 & 0.00000000 & 0.000000000 &  9.477861 & 0.035384991\\\\\n",
       "\t175 & 0.0000000000 & 0.01066836 & 0.000000000 & 16.670628 & 0.000000000\\\\\n",
       "\\end{tabular}\n"
      ],
      "text/markdown": [
       "\n",
       "A data.frame: 8 × 5\n",
       "\n",
       "| <!--/--> | Macrophage___Endothelial.1 &lt;dbl&gt; | T_Cell___Proliferative.1 &lt;dbl&gt; | Macrophage___Proliferative.1 &lt;dbl&gt; | Proliferative___Proliferative &lt;dbl&gt; | Proliferative___Myoepithelial &lt;dbl&gt; |\n",
       "|---|---|---|---|---|---|\n",
       "| 4 | 0.0000000000 | 0.00000000 | 0.000000000 |  0.000000 | 0.000000000 |\n",
       "| 57 | 0.0005607076 | 0.11447069 | 0.023876295 | 16.223334 | 0.000000000 |\n",
       "| 61 | 0.0000117005 | 0.01630787 | 0.002129491 |  6.583052 | 0.000000000 |\n",
       "| 101 | 0.0000000000 | 0.00000000 | 0.000000000 | 15.550790 | 0.004706405 |\n",
       "| 107 | 0.0000000000 | 0.00000000 | 0.000000000 |  8.379286 | 0.014096836 |\n",
       "| 109 | 0.0000000000 | 0.03231096 | 0.000000000 |  3.343810 | 0.017177922 |\n",
       "| 161 | 0.0000000000 | 0.00000000 | 0.000000000 |  9.477861 | 0.035384991 |\n",
       "| 175 | 0.0000000000 | 0.01066836 | 0.000000000 | 16.670628 | 0.000000000 |\n",
       "\n"
      ],
      "text/plain": [
       "    Macrophage___Endothelial.1 T_Cell___Proliferative.1\n",
       "4   0.0000000000               0.00000000              \n",
       "57  0.0005607076               0.11447069              \n",
       "61  0.0000117005               0.01630787              \n",
       "101 0.0000000000               0.00000000              \n",
       "107 0.0000000000               0.00000000              \n",
       "109 0.0000000000               0.03231096              \n",
       "161 0.0000000000               0.00000000              \n",
       "175 0.0000000000               0.01066836              \n",
       "    Macrophage___Proliferative.1 Proliferative___Proliferative\n",
       "4   0.000000000                   0.000000                    \n",
       "57  0.023876295                  16.223334                    \n",
       "61  0.002129491                   6.583052                    \n",
       "101 0.000000000                  15.550790                    \n",
       "107 0.000000000                   8.379286                    \n",
       "109 0.000000000                   3.343810                    \n",
       "161 0.000000000                   9.477861                    \n",
       "175 0.000000000                  16.670628                    \n",
       "    Proliferative___Myoepithelial\n",
       "4   0.000000000                  \n",
       "57  0.000000000                  \n",
       "61  0.000000000                  \n",
       "101 0.004706405                  \n",
       "107 0.014096836                  \n",
       "109 0.017177922                  \n",
       "161 0.035384991                  \n",
       "175 0.000000000                  "
      ]
     },
     "metadata": {},
     "output_type": "display_data"
    }
   ],
   "source": [
    "clus_7_all_feats"
   ]
  },
  {
   "cell_type": "code",
   "execution_count": 47,
   "metadata": {},
   "outputs": [
    {
     "data": {
      "text/html": [
       "<table class=\"dataframe\">\n",
       "<caption>A data.frame: 23 × 6</caption>\n",
       "<thead>\n",
       "\t<tr><th></th><th scope=col>CK7._CK.</th><th scope=col>Small_Elongated___CK7._CK.</th><th scope=col>Large_Elongated___Proliferative</th><th scope=col>SMA_hi_Vimentin___CK7._CK.</th><th scope=col>Small_Circular___CK7._CK.</th><th scope=col>Large_Elongated___CK7._CK.</th></tr>\n",
       "\t<tr><th></th><th scope=col>&lt;dbl&gt;</th><th scope=col>&lt;dbl&gt;</th><th scope=col>&lt;dbl&gt;</th><th scope=col>&lt;dbl&gt;</th><th scope=col>&lt;dbl&gt;</th><th scope=col>&lt;dbl&gt;</th></tr>\n",
       "</thead>\n",
       "<tbody>\n",
       "\t<tr><th scope=row>13</th><td>4.631961</td><td>1.54999205</td><td>0.0000000000</td><td>0.0343825779</td><td>0.425981001</td><td>0.000000000</td></tr>\n",
       "\t<tr><th scope=row>29</th><td>4.501904</td><td>1.27487467</td><td>0.0000000000</td><td>0.0000000000</td><td>0.181774068</td><td>0.000000000</td></tr>\n",
       "\t<tr><th scope=row>37</th><td>4.556525</td><td>1.53571223</td><td>0.0000000000</td><td>0.0000000000</td><td>0.211593157</td><td>0.000000000</td></tr>\n",
       "\t<tr><th scope=row>54</th><td>4.276325</td><td>0.96800865</td><td>0.0000000000</td><td>0.0000000000</td><td>0.156770597</td><td>0.000000000</td></tr>\n",
       "\t<tr><th scope=row>66</th><td>4.612633</td><td>1.07579955</td><td>0.0000000000</td><td>0.0000000000</td><td>0.319214534</td><td>0.000000000</td></tr>\n",
       "\t<tr><th scope=row>71</th><td>4.371741</td><td>1.95505949</td><td>0.0000000000</td><td>0.0397070932</td><td>0.497298671</td><td>0.000000000</td></tr>\n",
       "\t<tr><th scope=row>112</th><td>4.076547</td><td>0.50755572</td><td>0.0000000000</td><td>0.0000000000</td><td>0.080857519</td><td>0.000000000</td></tr>\n",
       "\t<tr><th scope=row>115</th><td>4.118056</td><td>0.76774412</td><td>0.0002795399</td><td>0.0084161533</td><td>0.083681539</td><td>0.005765536</td></tr>\n",
       "\t<tr><th scope=row>141</th><td>4.569770</td><td>2.05027160</td><td>0.0000000000</td><td>0.0099790389</td><td>0.310950463</td><td>0.000000000</td></tr>\n",
       "\t<tr><th scope=row>154</th><td>4.519538</td><td>0.64699371</td><td>0.0000000000</td><td>0.0073934965</td><td>0.101539342</td><td>0.000000000</td></tr>\n",
       "\t<tr><th scope=row>157</th><td>4.547858</td><td>1.81698210</td><td>0.0006288974</td><td>0.0031602260</td><td>0.267001655</td><td>0.007127504</td></tr>\n",
       "\t<tr><th scope=row>176</th><td>4.536398</td><td>0.51971012</td><td>0.0000000000</td><td>0.0139634776</td><td>0.039913099</td><td>0.000000000</td></tr>\n",
       "\t<tr><th scope=row>181</th><td>4.596822</td><td>0.82712858</td><td>0.0000000000</td><td>0.0000000000</td><td>0.225566294</td><td>0.000000000</td></tr>\n",
       "\t<tr><th scope=row>186</th><td>4.809544</td><td>1.55791924</td><td>0.0000000000</td><td>0.0000000000</td><td>0.175343115</td><td>0.000000000</td></tr>\n",
       "\t<tr><th scope=row>204</th><td>4.470297</td><td>1.34572168</td><td>0.0000000000</td><td>0.0000000000</td><td>0.257086514</td><td>0.000000000</td></tr>\n",
       "\t<tr><th scope=row>208</th><td>4.443900</td><td>0.75029904</td><td>0.0000000000</td><td>0.0000000000</td><td>0.100271925</td><td>0.000000000</td></tr>\n",
       "\t<tr><th scope=row>212</th><td>4.682130</td><td>0.40704138</td><td>0.0000000000</td><td>0.0000000000</td><td>0.063091406</td><td>0.000000000</td></tr>\n",
       "\t<tr><th scope=row>230</th><td>4.409458</td><td>0.99168343</td><td>0.0000000000</td><td>0.0512414998</td><td>0.101253675</td><td>0.000000000</td></tr>\n",
       "\t<tr><th scope=row>233</th><td>4.623174</td><td>0.38930746</td><td>0.0000000000</td><td>0.0000000000</td><td>0.042547059</td><td>0.000000000</td></tr>\n",
       "\t<tr><th scope=row>234</th><td>4.064726</td><td>0.10850149</td><td>0.0000000000</td><td>0.0008139863</td><td>0.016384151</td><td>0.000000000</td></tr>\n",
       "\t<tr><th scope=row>235</th><td>3.234148</td><td>0.06897146</td><td>0.0000000000</td><td>0.0010416542</td><td>0.003881177</td><td>0.000000000</td></tr>\n",
       "\t<tr><th scope=row>237</th><td>4.579403</td><td>0.80986343</td><td>0.0000000000</td><td>0.0042740224</td><td>0.075639227</td><td>0.000000000</td></tr>\n",
       "\t<tr><th scope=row>242</th><td>4.645979</td><td>1.36340539</td><td>0.0002770119</td><td>0.0069187680</td><td>0.227657988</td><td>0.002770119</td></tr>\n",
       "</tbody>\n",
       "</table>\n"
      ],
      "text/latex": [
       "A data.frame: 23 × 6\n",
       "\\begin{tabular}{r|llllll}\n",
       "  & CK7.\\_CK. & Small\\_Elongated\\_\\_\\_CK7.\\_CK. & Large\\_Elongated\\_\\_\\_Proliferative & SMA\\_hi\\_Vimentin\\_\\_\\_CK7.\\_CK. & Small\\_Circular\\_\\_\\_CK7.\\_CK. & Large\\_Elongated\\_\\_\\_CK7.\\_CK.\\\\\n",
       "  & <dbl> & <dbl> & <dbl> & <dbl> & <dbl> & <dbl>\\\\\n",
       "\\hline\n",
       "\t13 & 4.631961 & 1.54999205 & 0.0000000000 & 0.0343825779 & 0.425981001 & 0.000000000\\\\\n",
       "\t29 & 4.501904 & 1.27487467 & 0.0000000000 & 0.0000000000 & 0.181774068 & 0.000000000\\\\\n",
       "\t37 & 4.556525 & 1.53571223 & 0.0000000000 & 0.0000000000 & 0.211593157 & 0.000000000\\\\\n",
       "\t54 & 4.276325 & 0.96800865 & 0.0000000000 & 0.0000000000 & 0.156770597 & 0.000000000\\\\\n",
       "\t66 & 4.612633 & 1.07579955 & 0.0000000000 & 0.0000000000 & 0.319214534 & 0.000000000\\\\\n",
       "\t71 & 4.371741 & 1.95505949 & 0.0000000000 & 0.0397070932 & 0.497298671 & 0.000000000\\\\\n",
       "\t112 & 4.076547 & 0.50755572 & 0.0000000000 & 0.0000000000 & 0.080857519 & 0.000000000\\\\\n",
       "\t115 & 4.118056 & 0.76774412 & 0.0002795399 & 0.0084161533 & 0.083681539 & 0.005765536\\\\\n",
       "\t141 & 4.569770 & 2.05027160 & 0.0000000000 & 0.0099790389 & 0.310950463 & 0.000000000\\\\\n",
       "\t154 & 4.519538 & 0.64699371 & 0.0000000000 & 0.0073934965 & 0.101539342 & 0.000000000\\\\\n",
       "\t157 & 4.547858 & 1.81698210 & 0.0006288974 & 0.0031602260 & 0.267001655 & 0.007127504\\\\\n",
       "\t176 & 4.536398 & 0.51971012 & 0.0000000000 & 0.0139634776 & 0.039913099 & 0.000000000\\\\\n",
       "\t181 & 4.596822 & 0.82712858 & 0.0000000000 & 0.0000000000 & 0.225566294 & 0.000000000\\\\\n",
       "\t186 & 4.809544 & 1.55791924 & 0.0000000000 & 0.0000000000 & 0.175343115 & 0.000000000\\\\\n",
       "\t204 & 4.470297 & 1.34572168 & 0.0000000000 & 0.0000000000 & 0.257086514 & 0.000000000\\\\\n",
       "\t208 & 4.443900 & 0.75029904 & 0.0000000000 & 0.0000000000 & 0.100271925 & 0.000000000\\\\\n",
       "\t212 & 4.682130 & 0.40704138 & 0.0000000000 & 0.0000000000 & 0.063091406 & 0.000000000\\\\\n",
       "\t230 & 4.409458 & 0.99168343 & 0.0000000000 & 0.0512414998 & 0.101253675 & 0.000000000\\\\\n",
       "\t233 & 4.623174 & 0.38930746 & 0.0000000000 & 0.0000000000 & 0.042547059 & 0.000000000\\\\\n",
       "\t234 & 4.064726 & 0.10850149 & 0.0000000000 & 0.0008139863 & 0.016384151 & 0.000000000\\\\\n",
       "\t235 & 3.234148 & 0.06897146 & 0.0000000000 & 0.0010416542 & 0.003881177 & 0.000000000\\\\\n",
       "\t237 & 4.579403 & 0.80986343 & 0.0000000000 & 0.0042740224 & 0.075639227 & 0.000000000\\\\\n",
       "\t242 & 4.645979 & 1.36340539 & 0.0002770119 & 0.0069187680 & 0.227657988 & 0.002770119\\\\\n",
       "\\end{tabular}\n"
      ],
      "text/markdown": [
       "\n",
       "A data.frame: 23 × 6\n",
       "\n",
       "| <!--/--> | CK7._CK. &lt;dbl&gt; | Small_Elongated___CK7._CK. &lt;dbl&gt; | Large_Elongated___Proliferative &lt;dbl&gt; | SMA_hi_Vimentin___CK7._CK. &lt;dbl&gt; | Small_Circular___CK7._CK. &lt;dbl&gt; | Large_Elongated___CK7._CK. &lt;dbl&gt; |\n",
       "|---|---|---|---|---|---|---|\n",
       "| 13 | 4.631961 | 1.54999205 | 0.0000000000 | 0.0343825779 | 0.425981001 | 0.000000000 |\n",
       "| 29 | 4.501904 | 1.27487467 | 0.0000000000 | 0.0000000000 | 0.181774068 | 0.000000000 |\n",
       "| 37 | 4.556525 | 1.53571223 | 0.0000000000 | 0.0000000000 | 0.211593157 | 0.000000000 |\n",
       "| 54 | 4.276325 | 0.96800865 | 0.0000000000 | 0.0000000000 | 0.156770597 | 0.000000000 |\n",
       "| 66 | 4.612633 | 1.07579955 | 0.0000000000 | 0.0000000000 | 0.319214534 | 0.000000000 |\n",
       "| 71 | 4.371741 | 1.95505949 | 0.0000000000 | 0.0397070932 | 0.497298671 | 0.000000000 |\n",
       "| 112 | 4.076547 | 0.50755572 | 0.0000000000 | 0.0000000000 | 0.080857519 | 0.000000000 |\n",
       "| 115 | 4.118056 | 0.76774412 | 0.0002795399 | 0.0084161533 | 0.083681539 | 0.005765536 |\n",
       "| 141 | 4.569770 | 2.05027160 | 0.0000000000 | 0.0099790389 | 0.310950463 | 0.000000000 |\n",
       "| 154 | 4.519538 | 0.64699371 | 0.0000000000 | 0.0073934965 | 0.101539342 | 0.000000000 |\n",
       "| 157 | 4.547858 | 1.81698210 | 0.0006288974 | 0.0031602260 | 0.267001655 | 0.007127504 |\n",
       "| 176 | 4.536398 | 0.51971012 | 0.0000000000 | 0.0139634776 | 0.039913099 | 0.000000000 |\n",
       "| 181 | 4.596822 | 0.82712858 | 0.0000000000 | 0.0000000000 | 0.225566294 | 0.000000000 |\n",
       "| 186 | 4.809544 | 1.55791924 | 0.0000000000 | 0.0000000000 | 0.175343115 | 0.000000000 |\n",
       "| 204 | 4.470297 | 1.34572168 | 0.0000000000 | 0.0000000000 | 0.257086514 | 0.000000000 |\n",
       "| 208 | 4.443900 | 0.75029904 | 0.0000000000 | 0.0000000000 | 0.100271925 | 0.000000000 |\n",
       "| 212 | 4.682130 | 0.40704138 | 0.0000000000 | 0.0000000000 | 0.063091406 | 0.000000000 |\n",
       "| 230 | 4.409458 | 0.99168343 | 0.0000000000 | 0.0512414998 | 0.101253675 | 0.000000000 |\n",
       "| 233 | 4.623174 | 0.38930746 | 0.0000000000 | 0.0000000000 | 0.042547059 | 0.000000000 |\n",
       "| 234 | 4.064726 | 0.10850149 | 0.0000000000 | 0.0008139863 | 0.016384151 | 0.000000000 |\n",
       "| 235 | 3.234148 | 0.06897146 | 0.0000000000 | 0.0010416542 | 0.003881177 | 0.000000000 |\n",
       "| 237 | 4.579403 | 0.80986343 | 0.0000000000 | 0.0042740224 | 0.075639227 | 0.000000000 |\n",
       "| 242 | 4.645979 | 1.36340539 | 0.0002770119 | 0.0069187680 | 0.227657988 | 0.002770119 |\n",
       "\n"
      ],
      "text/plain": [
       "    CK7._CK. Small_Elongated___CK7._CK. Large_Elongated___Proliferative\n",
       "13  4.631961 1.54999205                 0.0000000000                   \n",
       "29  4.501904 1.27487467                 0.0000000000                   \n",
       "37  4.556525 1.53571223                 0.0000000000                   \n",
       "54  4.276325 0.96800865                 0.0000000000                   \n",
       "66  4.612633 1.07579955                 0.0000000000                   \n",
       "71  4.371741 1.95505949                 0.0000000000                   \n",
       "112 4.076547 0.50755572                 0.0000000000                   \n",
       "115 4.118056 0.76774412                 0.0002795399                   \n",
       "141 4.569770 2.05027160                 0.0000000000                   \n",
       "154 4.519538 0.64699371                 0.0000000000                   \n",
       "157 4.547858 1.81698210                 0.0006288974                   \n",
       "176 4.536398 0.51971012                 0.0000000000                   \n",
       "181 4.596822 0.82712858                 0.0000000000                   \n",
       "186 4.809544 1.55791924                 0.0000000000                   \n",
       "204 4.470297 1.34572168                 0.0000000000                   \n",
       "208 4.443900 0.75029904                 0.0000000000                   \n",
       "212 4.682130 0.40704138                 0.0000000000                   \n",
       "230 4.409458 0.99168343                 0.0000000000                   \n",
       "233 4.623174 0.38930746                 0.0000000000                   \n",
       "234 4.064726 0.10850149                 0.0000000000                   \n",
       "235 3.234148 0.06897146                 0.0000000000                   \n",
       "237 4.579403 0.80986343                 0.0000000000                   \n",
       "242 4.645979 1.36340539                 0.0002770119                   \n",
       "    SMA_hi_Vimentin___CK7._CK. Small_Circular___CK7._CK.\n",
       "13  0.0343825779               0.425981001              \n",
       "29  0.0000000000               0.181774068              \n",
       "37  0.0000000000               0.211593157              \n",
       "54  0.0000000000               0.156770597              \n",
       "66  0.0000000000               0.319214534              \n",
       "71  0.0397070932               0.497298671              \n",
       "112 0.0000000000               0.080857519              \n",
       "115 0.0084161533               0.083681539              \n",
       "141 0.0099790389               0.310950463              \n",
       "154 0.0073934965               0.101539342              \n",
       "157 0.0031602260               0.267001655              \n",
       "176 0.0139634776               0.039913099              \n",
       "181 0.0000000000               0.225566294              \n",
       "186 0.0000000000               0.175343115              \n",
       "204 0.0000000000               0.257086514              \n",
       "208 0.0000000000               0.100271925              \n",
       "212 0.0000000000               0.063091406              \n",
       "230 0.0512414998               0.101253675              \n",
       "233 0.0000000000               0.042547059              \n",
       "234 0.0008139863               0.016384151              \n",
       "235 0.0010416542               0.003881177              \n",
       "237 0.0042740224               0.075639227              \n",
       "242 0.0069187680               0.227657988              \n",
       "    Large_Elongated___CK7._CK.\n",
       "13  0.000000000               \n",
       "29  0.000000000               \n",
       "37  0.000000000               \n",
       "54  0.000000000               \n",
       "66  0.000000000               \n",
       "71  0.000000000               \n",
       "112 0.000000000               \n",
       "115 0.005765536               \n",
       "141 0.000000000               \n",
       "154 0.000000000               \n",
       "157 0.007127504               \n",
       "176 0.000000000               \n",
       "181 0.000000000               \n",
       "186 0.000000000               \n",
       "204 0.000000000               \n",
       "208 0.000000000               \n",
       "212 0.000000000               \n",
       "230 0.000000000               \n",
       "233 0.000000000               \n",
       "234 0.000000000               \n",
       "235 0.000000000               \n",
       "237 0.000000000               \n",
       "242 0.002770119               "
      ]
     },
     "metadata": {},
     "output_type": "display_data"
    }
   ],
   "source": [
    "clus_1_all_feats"
   ]
  },
  {
   "cell_type": "code",
   "execution_count": 48,
   "metadata": {},
   "outputs": [],
   "source": [
    "#cor_clus1_feats = cor(clus_1_all_feats, clus_1_all_feats)\n",
    "#cor_clus7_feats = cor(clus_7_all_feats, clus_7_all_feats)\n",
    "#cor_clus7_feats = cor_clus7_feats[rowSums(is.na(cor_clus7_feats))==0,]"
   ]
  },
  {
   "cell_type": "code",
   "execution_count": 49,
   "metadata": {},
   "outputs": [],
   "source": [
    "#cor_clus7_feats = cor_clus7_feats[rowSums(is.na(cor_clus7_feats))<11,]"
   ]
  },
  {
   "cell_type": "code",
   "execution_count": 50,
   "metadata": {},
   "outputs": [],
   "source": [
    "#cor_clus7_feats = cor_clus7_feats[,colSums(is.na(cor_clus7_feats)) == 0]"
   ]
  },
  {
   "cell_type": "code",
   "execution_count": 51,
   "metadata": {},
   "outputs": [],
   "source": [
    "#cor_clus7_feats"
   ]
  },
  {
   "cell_type": "code",
   "execution_count": 52,
   "metadata": {},
   "outputs": [],
   "source": [
    "cor_clus7_ge_features = cor(clus_7_ge,clus_7_all_feats)\n",
    "cor_clus7_ge_features = as.data.frame(cor_clus7_ge_features[ , colSums(is.na(cor_clus7_ge_features))==0])"
   ]
  },
  {
   "cell_type": "code",
   "execution_count": 53,
   "metadata": {},
   "outputs": [],
   "source": [
    "cor_clus1_ge_features = cor(clus_1_ge,clus_1_all_feats)\n",
    "cor_clus1_ge_features = as.data.frame(cor_clus1_ge_features[ , colSums(is.na(cor_clus1_ge_features))==0])"
   ]
  },
  {
   "cell_type": "code",
   "execution_count": 54,
   "metadata": {},
   "outputs": [],
   "source": [
    "#cor_clus7 = rbind(cor_clus7_ge_features, cor_clus7_feats)\n",
    "#cor_clus1 = rbind(cor_clus1_ge_features, cor_clus1_feats)"
   ]
  },
  {
   "cell_type": "code",
   "execution_count": 55,
   "metadata": {},
   "outputs": [],
   "source": [
    "#cor_clus7_sig = apply(cor_clus7, 2, function(x) ifelse(abs(x) <  0.5, 0, x))\n",
    "#cor_clus1_sig = apply(cor_clus1, 2, function(x) ifelse(abs(x) <  0.5, 0, x))                                  "
   ]
  },
  {
   "cell_type": "code",
   "execution_count": 56,
   "metadata": {},
   "outputs": [],
   "source": [
    "#cor_clus7_ge_features_sig = apply(cor_clus7_ge_features, 2, function(x) ifelse(abs(x) <  0.5, 0, x))\n",
    "#cor_clcor_clus7_ge_features_sigus1_sig = apply(cor_clus7_ge_features, 2, function(x) ifelse(abs(x) <  0.5, 0, x))                                  "
   ]
  },
  {
   "cell_type": "code",
   "execution_count": 57,
   "metadata": {},
   "outputs": [],
   "source": [
    "#cor_clus7_ge_features_sig = cor_clus7_ge_features_sig[rowSums(abs(cor_clus7_ge_features_sig[]))>0,colSums(abs(cor_clus7_ge_features_sig[]))>0]"
   ]
  },
  {
   "cell_type": "code",
   "execution_count": 58,
   "metadata": {},
   "outputs": [],
   "source": [
    "#cor_clus1_ge_features_sig = cor_clus1_ge_features_sig[rowSums(abs(cor_clus1_ge_features_sig[]))>0,colSums(abs(cor_clus1_ge_features_sig[]))>0]"
   ]
  },
  {
   "cell_type": "markdown",
   "metadata": {},
   "source": [
    "# Clus7"
   ]
  },
  {
   "cell_type": "code",
   "execution_count": 59,
   "metadata": {},
   "outputs": [
    {
     "data": {
      "text/html": [
       "<pre class=language-r><code>.Primitive(\"c\")</code></pre>"
      ],
      "text/latex": [
       "\\begin{minted}{r}\n",
       ".Primitive(\"c\")\n",
       "\\end{minted}"
      ],
      "text/markdown": [
       "```r\n",
       ".Primitive(\"c\")\n",
       "```"
      ],
      "text/plain": [
       "function (...)  .Primitive(\"c\")"
      ]
     },
     "metadata": {},
     "output_type": "display_data"
    }
   ],
   "source": [
    "c#or_clus7_feats[upper.tri(cor_clus7_feats)] <- 1000\n",
    "#cor_clus7_feats_df = melt(cor_clus7_feats)\n",
    "#cor_clus7_feats_df <- filter(cor_clus7_feats_df, value != 1000) %>% filter(Var1 != Var2)"
   ]
  },
  {
   "cell_type": "code",
   "execution_count": 60,
   "metadata": {},
   "outputs": [],
   "source": [
    "cor_clus7_ge_features$gene = row.names(cor_clus7_ge_features)"
   ]
  },
  {
   "cell_type": "code",
   "execution_count": 66,
   "metadata": {},
   "outputs": [
    {
     "name": "stderr",
     "output_type": "stream",
     "text": [
      "Warning message in melt(cor_clus7_ge_features, id.vars = \"gene\"):\n",
      "“The melt generic in data.table has been passed a data.frame and will attempt to redirect to the relevant reshape2 method; please note that reshape2 is deprecated, and this redirection is now deprecated as well. To continue using melt methods from reshape2 while both libraries are attached, e.g. melt.list, you can prepend the namespace like reshape2::melt(cor_clus7_ge_features). In the next version, this warning will become an error.”\n"
     ]
    }
   ],
   "source": [
    "cor_clus7_ge_df = melt(cor_clus7_ge_features, id.vars=\"gene\")"
   ]
  },
  {
   "cell_type": "code",
   "execution_count": 166,
   "metadata": {},
   "outputs": [],
   "source": [
    "#colnames(cor_clus7_ge_df) = c(\"var1\", \"var2\", \"value\")\n",
    "#colnames(cor_clus7_feats_df) = c(\"var1\", \"var2\", \"value\")"
   ]
  },
  {
   "cell_type": "code",
   "execution_count": 149,
   "metadata": {},
   "outputs": [],
   "source": [
    "#cor_clus7_cyto_df = rbind(cor_clus7_ge_df, cor_clus7_feats_df)"
   ]
  },
  {
   "cell_type": "code",
   "execution_count": 67,
   "metadata": {},
   "outputs": [],
   "source": [
    "cor_clus7_cyto_df = cor_clus7_ge_df"
   ]
  },
  {
   "cell_type": "code",
   "execution_count": 68,
   "metadata": {},
   "outputs": [],
   "source": [
    "cor_clus7_cyto_df = cor_clus7_cyto_df[abs(cor_clus7_cyto_df$value)>0.35 & abs(cor_clus7_cyto_df$value)<0.9999, ]"
   ]
  },
  {
   "cell_type": "code",
   "execution_count": 69,
   "metadata": {},
   "outputs": [],
   "source": [
    "cor_clus7_cyto_df$color = ifelse(cor_clus7_cyto_df$value > 0, \"red\",\"blue\")"
   ]
  },
  {
   "cell_type": "code",
   "execution_count": 293,
   "metadata": {},
   "outputs": [],
   "source": [
    "write.csv(cor_clus7_cyto_df, \"cytoscape/cor_clus7_cyto_df.csv\",quote=FALSE)"
   ]
  },
  {
   "cell_type": "code",
   "execution_count": 71,
   "metadata": {},
   "outputs": [
    {
     "data": {
      "text/html": [
       "<style>\n",
       ".list-inline {list-style: none; margin:0; padding: 0}\n",
       ".list-inline>li {display: inline-block}\n",
       ".list-inline>li:not(:last-child)::after {content: \"\\00b7\"; padding: 0 .5ex}\n",
       "</style>\n",
       "<ol class=list-inline><li>Macrophage___Endothelial.1</li><li>T_Cell___Proliferative.1</li><li>Macrophage___Proliferative.1</li><li>Proliferative___Proliferative</li><li>Proliferative___Myoepithelial</li></ol>\n",
       "\n",
       "<details>\n",
       "\t<summary style=display:list-item;cursor:pointer>\n",
       "\t\t<strong>Levels</strong>:\n",
       "\t</summary>\n",
       "\t<style>\n",
       "\t.list-inline {list-style: none; margin:0; padding: 0}\n",
       "\t.list-inline>li {display: inline-block}\n",
       "\t.list-inline>li:not(:last-child)::after {content: \"\\00b7\"; padding: 0 .5ex}\n",
       "\t</style>\n",
       "\t<ol class=list-inline><li>'Macrophage___Endothelial.1'</li><li>'T_Cell___Proliferative.1'</li><li>'Macrophage___Proliferative.1'</li><li>'Proliferative___Proliferative'</li><li>'Proliferative___Myoepithelial'</li></ol>\n",
       "</details>"
      ],
      "text/latex": [
       "\\begin{enumerate*}\n",
       "\\item Macrophage\\_\\_\\_Endothelial.1\n",
       "\\item T\\_Cell\\_\\_\\_Proliferative.1\n",
       "\\item Macrophage\\_\\_\\_Proliferative.1\n",
       "\\item Proliferative\\_\\_\\_Proliferative\n",
       "\\item Proliferative\\_\\_\\_Myoepithelial\n",
       "\\end{enumerate*}\n",
       "\n",
       "\\emph{Levels}: \\begin{enumerate*}\n",
       "\\item 'Macrophage\\_\\_\\_Endothelial.1'\n",
       "\\item 'T\\_Cell\\_\\_\\_Proliferative.1'\n",
       "\\item 'Macrophage\\_\\_\\_Proliferative.1'\n",
       "\\item 'Proliferative\\_\\_\\_Proliferative'\n",
       "\\item 'Proliferative\\_\\_\\_Myoepithelial'\n",
       "\\end{enumerate*}\n"
      ],
      "text/markdown": [
       "1. Macrophage___Endothelial.1\n",
       "2. T_Cell___Proliferative.1\n",
       "3. Macrophage___Proliferative.1\n",
       "4. Proliferative___Proliferative\n",
       "5. Proliferative___Myoepithelial\n",
       "\n",
       "\n",
       "\n",
       "**Levels**: 1. 'Macrophage___Endothelial.1'\n",
       "2. 'T_Cell___Proliferative.1'\n",
       "3. 'Macrophage___Proliferative.1'\n",
       "4. 'Proliferative___Proliferative'\n",
       "5. 'Proliferative___Myoepithelial'\n",
       "\n",
       "\n"
      ],
      "text/plain": [
       "[1] Macrophage___Endothelial.1    T_Cell___Proliferative.1     \n",
       "[3] Macrophage___Proliferative.1  Proliferative___Proliferative\n",
       "[5] Proliferative___Myoepithelial\n",
       "5 Levels: Macrophage___Endothelial.1 ... Proliferative___Myoepithelial"
      ]
     },
     "metadata": {},
     "output_type": "display_data"
    }
   ],
   "source": [
    "unique(cor_clus7_cyto_df$variable)"
   ]
  },
  {
   "cell_type": "code",
   "execution_count": 72,
   "metadata": {},
   "outputs": [],
   "source": [
    "clus7_allprobes = data.frame(name = c(colnames(cor_clus7_ge_features)[1:5], row.names(cor_clus1_ge_features)))"
   ]
  },
  {
   "cell_type": "code",
   "execution_count": 296,
   "metadata": {},
   "outputs": [],
   "source": [
    "clus7_allprobes$type = c(rep(\"cell-cell interactions 7\",5), rep(\"gene\",30))"
   ]
  },
  {
   "cell_type": "code",
   "execution_count": 74,
   "metadata": {},
   "outputs": [
    {
     "data": {
      "text/html": [
       "<style>\n",
       ".dl-inline {width: auto; margin:0; padding: 0}\n",
       ".dl-inline>dt, .dl-inline>dd {float: none; width: auto; display: inline-block}\n",
       ".dl-inline>dt::after {content: \":\\0020\"; padding-right: .5ex}\n",
       ".dl-inline>dt:not(:first-of-type) {padding-left: .5ex}\n",
       "</style><dl class=dl-inline><dt>EGFR</dt><dd>0.454343386125</dd><dt>CDH1</dt><dd>3.4823492405</dd><dt>ESR1</dt><dd>0.169983476875</dd><dt>GATA3</dt><dd>0.5379101225</dd><dt>H3F3B</dt><dd>11.8942368555</dd><dt>MKI67</dt><dd>1.472908276875</dd><dt>ACTA2</dt><dd>2.529036009875</dd><dt>VIM</dt><dd>4.017528337375</dd><dt>CASP3</dt><dd>0.921977521875</dd><dt>ERBB2</dt><dd>1.512528623</dd><dt>TP53</dt><dd>0.090728883375</dd><dt>KRT19</dt><dd>0.218117605</dd><dt>PGR</dt><dd>0.75198275175</dd><dt>MYC</dt><dd>0.434247157125</dd><dt>FN1</dt><dd>5.68312116775</dd><dt>KRT14</dt><dd>0.143034917375</dd><dt>SNAI2</dt><dd>0.401644447375</dd><dt>MS4A1</dt><dd>0.11579471275</dd><dt>VWF</dt><dd>0.09899641275</dd><dt>KRT5</dt><dd>0.1270873205</dd><dt>CD44</dt><dd>30.010379356375</dd><dt>PTPRC</dt><dd>0.26134032875</dd><dt>CD68</dt><dd>0.602727400375</dd><dt>CD3E</dt><dd>0.107014743125</dd><dt>CA9</dt><dd>1.30111995375</dd><dt>KRT8</dt><dd>0.8899693695</dd><dt>KRT7</dt><dd>0.190052249</dd><dt>TWIST1</dt><dd>0.25531897025</dd><dt>RPS6</dt><dd>1.034654178875</dd><dt>MTOR</dt><dd>1.04471042175</dd></dl>\n"
      ],
      "text/latex": [
       "\\begin{description*}\n",
       "\\item[EGFR] 0.454343386125\n",
       "\\item[CDH1] 3.4823492405\n",
       "\\item[ESR1] 0.169983476875\n",
       "\\item[GATA3] 0.5379101225\n",
       "\\item[H3F3B] 11.8942368555\n",
       "\\item[MKI67] 1.472908276875\n",
       "\\item[ACTA2] 2.529036009875\n",
       "\\item[VIM] 4.017528337375\n",
       "\\item[CASP3] 0.921977521875\n",
       "\\item[ERBB2] 1.512528623\n",
       "\\item[TP53] 0.090728883375\n",
       "\\item[KRT19] 0.218117605\n",
       "\\item[PGR] 0.75198275175\n",
       "\\item[MYC] 0.434247157125\n",
       "\\item[FN1] 5.68312116775\n",
       "\\item[KRT14] 0.143034917375\n",
       "\\item[SNAI2] 0.401644447375\n",
       "\\item[MS4A1] 0.11579471275\n",
       "\\item[VWF] 0.09899641275\n",
       "\\item[KRT5] 0.1270873205\n",
       "\\item[CD44] 30.010379356375\n",
       "\\item[PTPRC] 0.26134032875\n",
       "\\item[CD68] 0.602727400375\n",
       "\\item[CD3E] 0.107014743125\n",
       "\\item[CA9] 1.30111995375\n",
       "\\item[KRT8] 0.8899693695\n",
       "\\item[KRT7] 0.190052249\n",
       "\\item[TWIST1] 0.25531897025\n",
       "\\item[RPS6] 1.034654178875\n",
       "\\item[MTOR] 1.04471042175\n",
       "\\end{description*}\n"
      ],
      "text/markdown": [
       "EGFR\n",
       ":   0.454343386125CDH1\n",
       ":   3.4823492405ESR1\n",
       ":   0.169983476875GATA3\n",
       ":   0.5379101225H3F3B\n",
       ":   11.8942368555MKI67\n",
       ":   1.472908276875ACTA2\n",
       ":   2.529036009875VIM\n",
       ":   4.017528337375CASP3\n",
       ":   0.921977521875ERBB2\n",
       ":   1.512528623TP53\n",
       ":   0.090728883375KRT19\n",
       ":   0.218117605PGR\n",
       ":   0.75198275175MYC\n",
       ":   0.434247157125FN1\n",
       ":   5.68312116775KRT14\n",
       ":   0.143034917375SNAI2\n",
       ":   0.401644447375MS4A1\n",
       ":   0.11579471275VWF\n",
       ":   0.09899641275KRT5\n",
       ":   0.1270873205CD44\n",
       ":   30.010379356375PTPRC\n",
       ":   0.26134032875CD68\n",
       ":   0.602727400375CD3E\n",
       ":   0.107014743125CA9\n",
       ":   1.30111995375KRT8\n",
       ":   0.8899693695KRT7\n",
       ":   0.190052249TWIST1\n",
       ":   0.25531897025RPS6\n",
       ":   1.034654178875MTOR\n",
       ":   1.04471042175\n",
       "\n"
      ],
      "text/plain": [
       "       EGFR        CDH1        ESR1       GATA3       H3F3B       MKI67 \n",
       " 0.45434339  3.48234924  0.16998348  0.53791012 11.89423686  1.47290828 \n",
       "      ACTA2         VIM       CASP3       ERBB2        TP53       KRT19 \n",
       " 2.52903601  4.01752834  0.92197752  1.51252862  0.09072888  0.21811760 \n",
       "        PGR         MYC         FN1       KRT14       SNAI2       MS4A1 \n",
       " 0.75198275  0.43424716  5.68312117  0.14303492  0.40164445  0.11579471 \n",
       "        VWF        KRT5        CD44       PTPRC        CD68        CD3E \n",
       " 0.09899641  0.12708732 30.01037936  0.26134033  0.60272740  0.10701474 \n",
       "        CA9        KRT8        KRT7      TWIST1        RPS6        MTOR \n",
       " 1.30111995  0.88996937  0.19005225  0.25531897  1.03465418  1.04471042 "
      ]
     },
     "metadata": {},
     "output_type": "display_data"
    }
   ],
   "source": [
    "colMeans(clus_7_ge)"
   ]
  },
  {
   "cell_type": "code",
   "execution_count": 86,
   "metadata": {},
   "outputs": [
    {
     "data": {
      "text/html": [
       "<style>\n",
       ".dl-inline {width: auto; margin:0; padding: 0}\n",
       ".dl-inline>dt, .dl-inline>dd {float: none; width: auto; display: inline-block}\n",
       ".dl-inline>dt::after {content: \":\\0020\"; padding-right: .5ex}\n",
       ".dl-inline>dt:not(:first-of-type) {padding-left: .5ex}\n",
       "</style><dl class=dl-inline><dt>Macrophage___Endothelial.1</dt><dd>7.15484501258894e-05</dd><dt>T_Cell___Proliferative.1</dt><dd>0.0214872215797081</dd><dt>Macrophage___Proliferative.1</dt><dd>0.00324545101172572</dd><dt>Proliferative___Proliferative</dt><dd>2.35409490049459</dd><dt>Proliferative___Myoepithelial</dt><dd>0.00888121435777174</dd></dl>\n"
      ],
      "text/latex": [
       "\\begin{description*}\n",
       "\\item[Macrophage\\textbackslash{}\\_\\textbackslash{}\\_\\textbackslash{}\\_Endothelial.1] 7.15484501258894e-05\n",
       "\\item[T\\textbackslash{}\\_Cell\\textbackslash{}\\_\\textbackslash{}\\_\\textbackslash{}\\_Proliferative.1] 0.0214872215797081\n",
       "\\item[Macrophage\\textbackslash{}\\_\\textbackslash{}\\_\\textbackslash{}\\_Proliferative.1] 0.00324545101172572\n",
       "\\item[Proliferative\\textbackslash{}\\_\\textbackslash{}\\_\\textbackslash{}\\_Proliferative] 2.35409490049459\n",
       "\\item[Proliferative\\textbackslash{}\\_\\textbackslash{}\\_\\textbackslash{}\\_Myoepithelial] 0.00888121435777174\n",
       "\\end{description*}\n"
      ],
      "text/markdown": [
       "Macrophage___Endothelial.1\n",
       ":   7.15484501258894e-05T_Cell___Proliferative.1\n",
       ":   0.0214872215797081Macrophage___Proliferative.1\n",
       ":   0.00324545101172572Proliferative___Proliferative\n",
       ":   2.35409490049459Proliferative___Myoepithelial\n",
       ":   0.00888121435777174\n",
       "\n"
      ],
      "text/plain": [
       "   Macrophage___Endothelial.1      T_Cell___Proliferative.1 \n",
       "                 7.154845e-05                  2.148722e-02 \n",
       " Macrophage___Proliferative.1 Proliferative___Proliferative \n",
       "                 3.245451e-03                  2.354095e+00 \n",
       "Proliferative___Myoepithelial \n",
       "                 8.881214e-03 "
      ]
     },
     "metadata": {},
     "output_type": "display_data"
    }
   ],
   "source": [
    "log(colMeans(clus7_feats[clus_7_R,])+1)"
   ]
  },
  {
   "cell_type": "code",
   "execution_count": 298,
   "metadata": {},
   "outputs": [],
   "source": [
    "clus7_allprobes$expression = c(rep(1,5), log2(colMeans(clus_7_ge)+1))"
   ]
  },
  {
   "cell_type": "code",
   "execution_count": 299,
   "metadata": {},
   "outputs": [],
   "source": [
    "write.csv(clus7_allprobes, \"cytoscape/clus7_ge_cp_names.csv\")"
   ]
  },
  {
   "cell_type": "markdown",
   "metadata": {},
   "source": [
    "# Clus1"
   ]
  },
  {
   "cell_type": "code",
   "execution_count": 277,
   "metadata": {},
   "outputs": [],
   "source": [
    "#cor_clus1_feats[upper.tri(cor_clus1_feats)] <- 1000\n",
    "#cor_clus1_feats_df = melt(cor_clus1_feats)\n",
    "#cor_clus1_feats_df <- filter(cor_clus1_feats_df, value != 1000) %>% filter(Var1 != Var2)"
   ]
  },
  {
   "cell_type": "code",
   "execution_count": 265,
   "metadata": {},
   "outputs": [
    {
     "name": "stderr",
     "output_type": "stream",
     "text": [
      "Warning message in melt(cor_clus1_ge_features, id.vars = \"gene\"):\n",
      "“The melt generic in data.table has been passed a data.frame and will attempt to redirect to the relevant reshape2 method; please note that reshape2 is deprecated, and this redirection is now deprecated as well. To continue using melt methods from reshape2 while both libraries are attached, e.g. melt.list, you can prepend the namespace like reshape2::melt(cor_clus1_ge_features). In the next version, this warning will become an error.”\n"
     ]
    }
   ],
   "source": [
    "cor_clus1_ge_features$gene = row.names(cor_clus1_ge_features)\n",
    "cor_clus1_ge_df = melt(cor_clus1_ge_features, id.vars=\"gene\")"
   ]
  },
  {
   "cell_type": "code",
   "execution_count": 289,
   "metadata": {},
   "outputs": [],
   "source": [
    "#colnames(cor_clus1_ge_df) = c(\"var1\", \"var2\", \"value\")\n",
    "#colnames(cor_clus1_feats_df) = c(\"var1\", \"var2\", \"value\")"
   ]
  },
  {
   "cell_type": "code",
   "execution_count": 290,
   "metadata": {},
   "outputs": [],
   "source": [
    "#cor_clus1_cyto_df = rbind(cor_clus1_ge_df, cor_clus1_feats_df)"
   ]
  },
  {
   "cell_type": "code",
   "execution_count": 278,
   "metadata": {},
   "outputs": [],
   "source": [
    "cor_clus1_cyto_df = cor_clus1_ge_df"
   ]
  },
  {
   "cell_type": "code",
   "execution_count": 279,
   "metadata": {},
   "outputs": [],
   "source": [
    "cor_clus1_cyto_df = cor_clus1_cyto_df[abs(cor_clus1_cyto_df$value)>0.35 & abs(cor_clus1_cyto_df$value)<0.9999, ]"
   ]
  },
  {
   "cell_type": "code",
   "execution_count": 280,
   "metadata": {},
   "outputs": [],
   "source": [
    "cor_clus1_cyto_df$color = ifelse(cor_clus1_cyto_df$value > 0, \"red\",\"blue\")"
   ]
  },
  {
   "cell_type": "code",
   "execution_count": 282,
   "metadata": {},
   "outputs": [
    {
     "data": {
      "text/html": [
       "<style>\n",
       ".list-inline {list-style: none; margin:0; padding: 0}\n",
       ".list-inline>li {display: inline-block}\n",
       ".list-inline>li:not(:last-child)::after {content: \"\\00b7\"; padding: 0 .5ex}\n",
       "</style>\n",
       "<ol class=list-inline><li>CK7._CK.</li><li>Small_Elongated___CK7._CK.</li><li>Large_Elongated___Proliferative</li><li>SMA_hi_Vimentin___CK7._CK.</li><li>Small_Circular___CK7._CK.</li><li>Large_Elongated___CK7._CK.</li></ol>\n",
       "\n",
       "<details>\n",
       "\t<summary style=display:list-item;cursor:pointer>\n",
       "\t\t<strong>Levels</strong>:\n",
       "\t</summary>\n",
       "\t<style>\n",
       "\t.list-inline {list-style: none; margin:0; padding: 0}\n",
       "\t.list-inline>li {display: inline-block}\n",
       "\t.list-inline>li:not(:last-child)::after {content: \"\\00b7\"; padding: 0 .5ex}\n",
       "\t</style>\n",
       "\t<ol class=list-inline><li>'CK7._CK.'</li><li>'Small_Elongated___CK7._CK.'</li><li>'Large_Elongated___Proliferative'</li><li>'SMA_hi_Vimentin___CK7._CK.'</li><li>'Small_Circular___CK7._CK.'</li><li>'Large_Elongated___CK7._CK.'</li></ol>\n",
       "</details>"
      ],
      "text/latex": [
       "\\begin{enumerate*}\n",
       "\\item CK7.\\_CK.\n",
       "\\item Small\\_Elongated\\_\\_\\_CK7.\\_CK.\n",
       "\\item Large\\_Elongated\\_\\_\\_Proliferative\n",
       "\\item SMA\\_hi\\_Vimentin\\_\\_\\_CK7.\\_CK.\n",
       "\\item Small\\_Circular\\_\\_\\_CK7.\\_CK.\n",
       "\\item Large\\_Elongated\\_\\_\\_CK7.\\_CK.\n",
       "\\end{enumerate*}\n",
       "\n",
       "\\emph{Levels}: \\begin{enumerate*}\n",
       "\\item 'CK7.\\_CK.'\n",
       "\\item 'Small\\_Elongated\\_\\_\\_CK7.\\_CK.'\n",
       "\\item 'Large\\_Elongated\\_\\_\\_Proliferative'\n",
       "\\item 'SMA\\_hi\\_Vimentin\\_\\_\\_CK7.\\_CK.'\n",
       "\\item 'Small\\_Circular\\_\\_\\_CK7.\\_CK.'\n",
       "\\item 'Large\\_Elongated\\_\\_\\_CK7.\\_CK.'\n",
       "\\end{enumerate*}\n"
      ],
      "text/markdown": [
       "1. CK7._CK.\n",
       "2. Small_Elongated___CK7._CK.\n",
       "3. Large_Elongated___Proliferative\n",
       "4. SMA_hi_Vimentin___CK7._CK.\n",
       "5. Small_Circular___CK7._CK.\n",
       "6. Large_Elongated___CK7._CK.\n",
       "\n",
       "\n",
       "\n",
       "**Levels**: 1. 'CK7._CK.'\n",
       "2. 'Small_Elongated___CK7._CK.'\n",
       "3. 'Large_Elongated___Proliferative'\n",
       "4. 'SMA_hi_Vimentin___CK7._CK.'\n",
       "5. 'Small_Circular___CK7._CK.'\n",
       "6. 'Large_Elongated___CK7._CK.'\n",
       "\n",
       "\n"
      ],
      "text/plain": [
       "[1] CK7._CK.                        Small_Elongated___CK7._CK.     \n",
       "[3] Large_Elongated___Proliferative SMA_hi_Vimentin___CK7._CK.     \n",
       "[5] Small_Circular___CK7._CK.       Large_Elongated___CK7._CK.     \n",
       "6 Levels: CK7._CK. ... Large_Elongated___CK7._CK."
      ]
     },
     "metadata": {},
     "output_type": "display_data"
    }
   ],
   "source": [
    "unique(cor_clus1_cyto_df$variable)"
   ]
  },
  {
   "cell_type": "code",
   "execution_count": 283,
   "metadata": {},
   "outputs": [],
   "source": [
    "write.csv(cor_clus1_cyto_df, \"cytoscape/cor_clus1_cyto_df.csv\",quote=FALSE)"
   ]
  },
  {
   "cell_type": "code",
   "execution_count": 284,
   "metadata": {},
   "outputs": [],
   "source": [
    "clus1_allprobes = data.frame(name = c(colnames(cor_clus1_ge_features)[1:6], row.names(cor_clus1_ge_features)))"
   ]
  },
  {
   "cell_type": "code",
   "execution_count": 285,
   "metadata": {},
   "outputs": [],
   "source": [
    "clus1_allprobes$type = c(rep(\"cell-cell interactions 1\",6), rep(\"gene\",30))"
   ]
  },
  {
   "cell_type": "code",
   "execution_count": 286,
   "metadata": {},
   "outputs": [],
   "source": [
    "clus1_allprobes$expression = c(rep(1,6), log2(colMeans(clus_1_ge)+1))"
   ]
  },
  {
   "cell_type": "code",
   "execution_count": 287,
   "metadata": {},
   "outputs": [],
   "source": [
    "write.csv(clus1_allprobes, \"cytoscape/clus1_ge_cp_names.csv\")"
   ]
  },
  {
   "cell_type": "code",
   "execution_count": 87,
   "metadata": {},
   "outputs": [
    {
     "data": {
      "text/html": [
       "<style>\n",
       ".dl-inline {width: auto; margin:0; padding: 0}\n",
       ".dl-inline>dt, .dl-inline>dd {float: none; width: auto; display: inline-block}\n",
       ".dl-inline>dt::after {content: \":\\0020\"; padding-right: .5ex}\n",
       ".dl-inline>dt:not(:first-of-type) {padding-left: .5ex}\n",
       "</style><dl class=dl-inline><dt>x2_sub[, 4]</dt><dd>1.69184975912971</dd><dt>Small_Elongated___CK7._CK.</dt><dd>0.699400340589676</dd><dt>Large_Elongated___Proliferative</dt><dd>5.15399399183784e-05</dd><dt>SMA_hi_Vimentin___CK7._CK.</dt><dd>0.00785135787263721</dd><dt>Small_Circular___CK7._CK.</dt><dd>0.159056570705314</dd><dt>Large_Elongated___CK7._CK.</dt><dd>0.000680775125655331</dd></dl>\n"
      ],
      "text/latex": [
       "\\begin{description*}\n",
       "\\item[x2\\textbackslash{}\\_sub\\{{[}\\}, 4\\{{]}\\}] 1.69184975912971\n",
       "\\item[Small\\textbackslash{}\\_Elongated\\textbackslash{}\\_\\textbackslash{}\\_\\textbackslash{}\\_CK7.\\textbackslash{}\\_CK.] 0.699400340589676\n",
       "\\item[Large\\textbackslash{}\\_Elongated\\textbackslash{}\\_\\textbackslash{}\\_\\textbackslash{}\\_Proliferative] 5.15399399183784e-05\n",
       "\\item[SMA\\textbackslash{}\\_hi\\textbackslash{}\\_Vimentin\\textbackslash{}\\_\\textbackslash{}\\_\\textbackslash{}\\_CK7.\\textbackslash{}\\_CK.] 0.00785135787263721\n",
       "\\item[Small\\textbackslash{}\\_Circular\\textbackslash{}\\_\\textbackslash{}\\_\\textbackslash{}\\_CK7.\\textbackslash{}\\_CK.] 0.159056570705314\n",
       "\\item[Large\\textbackslash{}\\_Elongated\\textbackslash{}\\_\\textbackslash{}\\_\\textbackslash{}\\_CK7.\\textbackslash{}\\_CK.] 0.000680775125655331\n",
       "\\end{description*}\n"
      ],
      "text/markdown": [
       "x2_sub[, 4]\n",
       ":   1.69184975912971Small_Elongated___CK7._CK.\n",
       ":   0.699400340589676Large_Elongated___Proliferative\n",
       ":   5.15399399183784e-05SMA_hi_Vimentin___CK7._CK.\n",
       ":   0.00785135787263721Small_Circular___CK7._CK.\n",
       ":   0.159056570705314Large_Elongated___CK7._CK.\n",
       ":   0.000680775125655331\n",
       "\n"
      ],
      "text/plain": [
       "                    x2_sub[, 4]      Small_Elongated___CK7._CK. \n",
       "                   1.691850e+00                    6.994003e-01 \n",
       "Large_Elongated___Proliferative      SMA_hi_Vimentin___CK7._CK. \n",
       "                   5.153994e-05                    7.851358e-03 \n",
       "      Small_Circular___CK7._CK.      Large_Elongated___CK7._CK. \n",
       "                   1.590566e-01                    6.807751e-04 "
      ]
     },
     "metadata": {},
     "output_type": "display_data"
    }
   ],
   "source": [
    "log(colMeans(clus1_feats[clus_1_R,])+1)"
   ]
  },
  {
   "cell_type": "code",
   "execution_count": null,
   "metadata": {},
   "outputs": [],
   "source": [
    "cytoscape"
   ]
  }
 ],
 "metadata": {
  "kernelspec": {
   "display_name": "R",
   "language": "R",
   "name": "ir"
  },
  "language_info": {
   "codemirror_mode": "r",
   "file_extension": ".r",
   "mimetype": "text/x-r-source",
   "name": "R",
   "pygments_lexer": "r",
   "version": "4.2.0"
  }
 },
 "nbformat": 4,
 "nbformat_minor": 4
}
