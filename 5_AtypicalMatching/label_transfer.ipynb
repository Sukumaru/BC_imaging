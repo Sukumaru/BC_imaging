{
 "cells": [
  {
   "cell_type": "code",
   "execution_count": 2,
   "metadata": {},
   "outputs": [],
   "source": [
    "import numpy as np\n",
    "import pandas as pd\n",
    "from matplotlib import pyplot as plt"
   ]
  },
  {
   "cell_type": "code",
   "execution_count": 3,
   "metadata": {},
   "outputs": [],
   "source": [
    "import seaborn as sns\n",
    "from lifelines import KaplanMeierFitter\n",
    "from lifelines.statistics import logrank_test"
   ]
  },
  {
   "cell_type": "code",
   "execution_count": 4,
   "metadata": {},
   "outputs": [],
   "source": [
    "def zero_one(vals):\n",
    "    res = (vals-min(vals))/(max(vals)-min(vals))\n",
    "    return res"
   ]
  },
  {
   "cell_type": "code",
   "execution_count": 5,
   "metadata": {},
   "outputs": [],
   "source": [
    "\n",
    "\n",
    "#### 44 TNBC pateints, 166 lumA; 30 proteins IMC expression count normalized\n",
    "imc_tnbc = pd.read_csv('exp/imc_df_count_normalized_all_tnbc.csv')\n",
    "imc_luma = pd.read_csv('exp/imc_df_count_normalized_all_luma.csv')\n",
    "\n",
    "###159 TNBC, 599 Luminal A MRNA 28 genes TCGA\n",
    "tcga_tnbc = pd.read_csv('./exp/final_TCGA_tnbc.csv')\n",
    "tcga_luma = pd.read_csv('./exp/final_TCGA_luma.csv')\n",
    "\n",
    "# ### 299 TNBC, 1369 Luminal A 30 genes METABRIC\n",
    "metab_tnbc = pd.read_csv('./exp/final_METABRIC_tnbc.csv')\n",
    "metab_luma = pd.read_csv('./exp/final_METABRIC_luma.csv')\n",
    "\n"
   ]
  },
  {
   "cell_type": "code",
   "execution_count": 6,
   "metadata": {},
   "outputs": [],
   "source": [
    "imc_tnbc = imc_tnbc.iloc[:,2:]      ### preprocessing IMC\n",
    "imc_luma = imc_luma.iloc[:,2:]      ### preprocessing IMC\n",
    "\n",
    "tcga_tnbc = tcga_tnbc.iloc[:,2:]   #### preprocessing TCGA\n",
    "tcga_luma = tcga_luma.iloc[:,2:]    #### preprocessing TCGA\n",
    "\n",
    "metab_tnbc = metab_tnbc.iloc[:,2:] #### preprocessing metabric\n",
    "metab_luma = metab_luma.iloc[:,2:] #### preprocessing metabric\n"
   ]
  },
  {
   "cell_type": "code",
   "execution_count": 7,
   "metadata": {},
   "outputs": [
    {
     "data": {
      "text/plain": [
       "((44, 30), (166, 30), (159, 29), (599, 28), (299, 30), (1369, 30))"
      ]
     },
     "execution_count": 7,
     "metadata": {},
     "output_type": "execute_result"
    }
   ],
   "source": [
    "#imc_tnbc.shape, metab_tnbc.shape\n",
    "\n",
    "\n",
    "imc_tnbc.shape, imc_luma.shape, tcga_tnbc.shape, tcga_luma.shape, metab_tnbc.shape, metab_luma.shape"
   ]
  },
  {
   "cell_type": "code",
   "execution_count": 8,
   "metadata": {},
   "outputs": [],
   "source": [
    "from unioncom import UnionCom\n"
   ]
  },
  {
   "cell_type": "code",
   "execution_count": 9,
   "metadata": {},
   "outputs": [],
   "source": [
    "uc = UnionCom.UnionCom(output_dim=28,epoch_pd=2000,epoch_DNN=0,distance_mode='geodesic')"
   ]
  },
  {
   "cell_type": "code",
   "execution_count": 10,
   "metadata": {},
   "outputs": [],
   "source": [
    "#data1 = imc_tnbc.to_numpy()\n",
    "data1 = imc_luma.to_numpy()\n",
    "\n",
    "#data4 = tcga_tnbc.to_numpy()\n",
    "data4 = tcga_luma.to_numpy()\n",
    "\n",
    "#data5 = metab_tnbc.to_numpy()\n",
    "data5 = metab_luma.to_numpy()"
   ]
  },
  {
   "cell_type": "code",
   "execution_count": 11,
   "metadata": {},
   "outputs": [
    {
     "data": {
      "text/plain": [
       "((166, 30), (599, 28), (1369, 30))"
      ]
     },
     "execution_count": 11,
     "metadata": {},
     "output_type": "execute_result"
    }
   ],
   "source": [
    "#data1.shape,data4.shape\n",
    "data1.shape,data4.shape, data5.shape"
   ]
  },
  {
   "cell_type": "code",
   "execution_count": 12,
   "metadata": {},
   "outputs": [],
   "source": [
    "from sklearn import preprocessing\n",
    "min_max_scaler = preprocessing.MinMaxScaler()\n",
    "ss_scaler = preprocessing.StandardScaler()\n",
    "\n",
    "\n",
    "norm_data1 = min_max_scaler.fit_transform(data1) ### protein count normalized\n",
    "norm_data4 = min_max_scaler.fit_transform(data4) #tcga\n",
    "norm_data5 = min_max_scaler.fit_transform(data5) #metabric\n",
    "\n",
    "\n",
    "# norm_data1 = data1  #notnormalized\n",
    "# norm_data5 = data5  #notnormalized"
   ]
  },
  {
   "cell_type": "code",
   "execution_count": 13,
   "metadata": {},
   "outputs": [
    {
     "name": "stdout",
     "output_type": "stream",
     "text": [
      "(166, 30) (599, 28) (1369, 30)\n"
     ]
    }
   ],
   "source": [
    "print(norm_data1.shape, #norm_data2.shape,norm_data3.shape,\n",
    "norm_data4.shape,\n",
    "norm_data5.shape,\n",
    "#norm_data6.shape,norm_data7.shape,norm_data8.shape\n",
    "     )"
   ]
  },
  {
   "cell_type": "code",
   "execution_count": 14,
   "metadata": {},
   "outputs": [],
   "source": [
    "#data_focus = norm_data4  ### TCGA\n",
    "data_focus = norm_data5  ### Metabric"
   ]
  },
  {
   "cell_type": "code",
   "execution_count": 15,
   "metadata": {},
   "outputs": [
    {
     "name": "stdout",
     "output_type": "stream",
     "text": [
      "(166, 30) (1369, 30)\n",
      "use random seed: 666\n",
      "Shape of Raw data\n",
      "Dataset 0: (166, 30)\n",
      "Dataset 1: (1369, 30)\n",
      "---------------------------------\n",
      "Find correspondence between Dataset 1 and Dataset 2\n",
      "use device: cuda:0\n",
      "epoch:[100/2000] err:3.5884 alpha:30.9010\n",
      "epoch:[200/2000] err:0.4808 alpha:4.1401\n",
      "epoch:[300/2000] err:0.0644 alpha:0.5547\n",
      "epoch:[400/2000] err:0.0086 alpha:0.0743\n",
      "epoch:[500/2000] err:0.0023 alpha:0.0195\n",
      "epoch:[600/2000] err:0.0066 alpha:0.0570\n",
      "epoch:[700/2000] err:0.0119 alpha:0.1021\n",
      "epoch:[800/2000] err:0.0179 alpha:0.1542\n",
      "epoch:[900/2000] err:0.0244 alpha:0.2106\n",
      "epoch:[1000/2000] err:0.0312 alpha:0.2691\n",
      "epoch:[1100/2000] err:0.0381 alpha:0.3282\n",
      "epoch:[1200/2000] err:0.0448 alpha:0.3868\n",
      "epoch:[1300/2000] err:0.0514 alpha:0.4439\n",
      "epoch:[1400/2000] err:0.0578 alpha:0.4990\n",
      "epoch:[1500/2000] err:0.0638 alpha:0.5516\n",
      "epoch:[1600/2000] err:0.0695 alpha:0.6016\n",
      "epoch:[1700/2000] err:0.0748 alpha:0.6486\n",
      "epoch:[1800/2000] err:0.0798 alpha:0.6928\n",
      "epoch:[1900/2000] err:0.0844 alpha:0.7340\n",
      "epoch:[2000/2000] err:0.0887 alpha:0.7724\n",
      "Finished Matching!\n",
      "---------------------------------\n",
      "Begin finding the embedded space\n",
      "Done\n",
      "---------------------------------\n",
      "unionCom Done!\n",
      "time: 2.727930784225464 seconds\n"
     ]
    }
   ],
   "source": [
    "print(norm_data1.shape, data_focus.shape)\n",
    "\n",
    "integrated_data = uc.fit_transform(dataset=[norm_data1,data_focus]) \n",
    "part_1 = integrated_data[0]\n",
    "part_2 = integrated_data[1]\n"
   ]
  },
  {
   "cell_type": "code",
   "execution_count": 17,
   "metadata": {},
   "outputs": [
    {
     "data": {
      "text/plain": [
       "array([[ 0.36153778, -0.30100936,  0.2996869 , ...,  0.72374016,\n",
       "        -0.68772036,  0.06682216],\n",
       "       [-0.68346155, -0.67895883,  1.8951999 , ...,  0.2784649 ,\n",
       "         1.1332761 , -0.18267149],\n",
       "       [-0.5372129 , -0.04747119,  0.7013832 , ...,  0.17103139,\n",
       "         0.7747244 , -0.27774936],\n",
       "       ...,\n",
       "       [-0.02923527, -0.47411406,  0.57105476, ...,  0.14217365,\n",
       "         0.28772807,  0.18072477],\n",
       "       [-0.20472792, -0.2990132 ,  0.68383807, ..., -0.09546613,\n",
       "         0.2963415 ,  0.00811956],\n",
       "       [-0.02845999, -1.0364122 ,  0.8697953 , ..., -0.03658225,\n",
       "         0.48020646,  0.74776614]], dtype=float32)"
      ]
     },
     "execution_count": 17,
     "metadata": {},
     "output_type": "execute_result"
    }
   ],
   "source": [
    "part_2"
   ]
  },
  {
   "cell_type": "code",
   "execution_count": 18,
   "metadata": {},
   "outputs": [
    {
     "name": "stdout",
     "output_type": "stream",
     "text": [
      "---------------------------------\n",
      "Find correspondence between Dataset 1 and Dataset 2\n",
      "use device: cuda:0\n",
      "epoch:[100/2000] err:3.5884 alpha:30.9010\n",
      "epoch:[200/2000] err:0.4808 alpha:4.1401\n",
      "epoch:[300/2000] err:0.0644 alpha:0.5547\n",
      "epoch:[400/2000] err:0.0086 alpha:0.0743\n",
      "epoch:[500/2000] err:0.0023 alpha:0.0195\n",
      "epoch:[600/2000] err:0.0066 alpha:0.0570\n",
      "epoch:[700/2000] err:0.0119 alpha:0.1021\n",
      "epoch:[800/2000] err:0.0179 alpha:0.1542\n",
      "epoch:[900/2000] err:0.0244 alpha:0.2106\n",
      "epoch:[1000/2000] err:0.0312 alpha:0.2691\n",
      "epoch:[1100/2000] err:0.0381 alpha:0.3282\n",
      "epoch:[1200/2000] err:0.0448 alpha:0.3868\n",
      "epoch:[1300/2000] err:0.0514 alpha:0.4439\n",
      "epoch:[1400/2000] err:0.0578 alpha:0.4990\n",
      "epoch:[1500/2000] err:0.0638 alpha:0.5516\n",
      "epoch:[1600/2000] err:0.0695 alpha:0.6016\n",
      "epoch:[1700/2000] err:0.0748 alpha:0.6486\n",
      "epoch:[1800/2000] err:0.0798 alpha:0.6928\n",
      "epoch:[1900/2000] err:0.0844 alpha:0.7340\n",
      "epoch:[2000/2000] err:0.0887 alpha:0.7724\n",
      "Finished Matching!\n"
     ]
    }
   ],
   "source": [
    "### only runs after running joint embedding\n",
    "cor_pairs = uc.match(dataset=[norm_data1,data_focus])"
   ]
  },
  {
   "cell_type": "code",
   "execution_count": 21,
   "metadata": {},
   "outputs": [
    {
     "data": {
      "text/plain": [
       "(166, 1369)"
      ]
     },
     "execution_count": 21,
     "metadata": {},
     "output_type": "execute_result"
    }
   ],
   "source": [
    "cor_pairs[0].shape"
   ]
  },
  {
   "cell_type": "code",
   "execution_count": 25,
   "metadata": {},
   "outputs": [],
   "source": [
    "pat_match = cor_pairs[0]"
   ]
  },
  {
   "cell_type": "code",
   "execution_count": 26,
   "metadata": {},
   "outputs": [
    {
     "data": {
      "text/plain": [
       "(166, 1369)"
      ]
     },
     "execution_count": 26,
     "metadata": {},
     "output_type": "execute_result"
    }
   ],
   "source": [
    "pat_match.shape"
   ]
  },
  {
   "cell_type": "code",
   "execution_count": 27,
   "metadata": {},
   "outputs": [],
   "source": [
    "norm_pat_match = pat_match \n",
    "#norm_pat_match = min_max_scaler.fit_transform(pat_match)  #only for luma metabric bcz it overfits"
   ]
  },
  {
   "cell_type": "code",
   "execution_count": 1,
   "metadata": {},
   "outputs": [],
   "source": [
    "############## cohorts\n",
    "#good_tnbc = [7,14, 19, 21, 30, 71, 75, 83, 84, 102, 103, 107, 128, 135, 142, 148, 159] #use\n",
    "#not_cohort_good_tnbc = [33, 49, 56, 60, 61, 78, 97, 99, 106, 108, 120, 126, 151, 152, 156, 160, 163, 172, 174, 181, 196, 208, 209, 216, 220, 233, 245]\n",
    "## so not cohort\n",
    "#good_tnbc_newid = [0,1,2,3,4,10,11,13,14,17,18,20,24,25,26,27,31]\n",
    "\n",
    "\n",
    "\n",
    "\n",
    "\n",
    "\n",
    "bad_luma =       [3, 10, 22, 23, 27, 64, 80, 96, 100, 117, 130, 132, 154, 200, 238, 240, 243, 254] #use\n",
    "bad_luma_newid = [3,  9, 16, 17, 18, 42, 51, 63,  70,  75,  82,  83,  95, 123, 148, 150, 153, 161]\n",
    "#not_cohort_bad_luma = [0, 1, 2, 4, 5, 6, 8, 9, 12, 15, 16, 17, 18, 20, 28, 29, 31, 32, 35, 37, 38, 39, 40, 41, 45, 47, 48, 50, 51, 52, 53, 54, 55, 58, 59, 62, 63, 66, 67, 68, 70, 73, 74, 77, 79, 82, 85, 86, 87, 88, 89, 90, 91, 92, 94, 95, 98, 101, 104, 105, 109, 110, 111, 112, 114, 116, 119, 121, 122, 123, 127, 129, 134, 136, 137, 138, 141, 143, 144, 145, 146, 150, 153, 157, 158, 161, 164, 165, 166, 167, 170, 171, 176, 177, 178, 179, 182, 183, 184, 185, 186, 187, 188, 189, 190, 192, 193, 194, 198, 199, 202, 203, 205, 206, 213, 214, 215, 217, 218, 219, 221, 222, 224, 225, 226, 227, 228, 229, 231, 232, 234, 235, 236, 237, 239, 241, 242, 244, 246, 247, 249, 250, 251, 252, 255, 256, 257, 258]\n"
   ]
  },
  {
   "cell_type": "code",
   "execution_count": 40,
   "metadata": {},
   "outputs": [],
   "source": [
    "clus_in = bad_luma_newid"
   ]
  },
  {
   "cell_type": "code",
   "execution_count": 37,
   "metadata": {},
   "outputs": [
    {
     "data": {
      "text/plain": [
       "array([0.00074772, 0.0006141 , 0.0005926 , ..., 0.00060249, 0.00059658,\n",
       "       0.00060478], dtype=float32)"
      ]
     },
     "execution_count": 37,
     "metadata": {},
     "output_type": "execute_result"
    }
   ],
   "source": [
    "pat_match"
   ]
  },
  {
   "cell_type": "code",
   "execution_count": 41,
   "metadata": {},
   "outputs": [],
   "source": [
    "matched = []   \n",
    "\n",
    "##99% TCGA TNBC;\n",
    "##99.5% match TCGA lumA; high cutoff bcz of more patients in Metabric dataset and lumA cohort;\n",
    "\n",
    "##99% match metabric TNBC; \n",
    "##99.5% match metabric - lumA high cutoff bcz of more patients in Metabric dataset and lumA cohort;\n",
    "\n",
    "thre = 0.995\n",
    "\n",
    "\n",
    "for index in clus_in:\n",
    "    match_vec = norm_pat_match[index]\n",
    "    matched_index = np.where(match_vec > thre*max(match_vec))\n",
    "    matched.append(matched_index[0])\n",
    "    flat_list = [item for sublist in matched for item in sublist]\n",
    "new_flat_list = list(set(sorted(flat_list)))"
   ]
  },
  {
   "cell_type": "code",
   "execution_count": 42,
   "metadata": {},
   "outputs": [
    {
     "data": {
      "text/plain": [
       "492"
      ]
     },
     "execution_count": 42,
     "metadata": {},
     "output_type": "execute_result"
    }
   ],
   "source": [
    "len(new_flat_list)"
   ]
  },
  {
   "cell_type": "code",
   "execution_count": 43,
   "metadata": {},
   "outputs": [
    {
     "data": {
      "text/plain": [
       "[0,\n",
       " 9,\n",
       " 11,\n",
       " 12,\n",
       " 14,\n",
       " 17,\n",
       " 18,\n",
       " 21,\n",
       " 24,\n",
       " 30,\n",
       " 31,\n",
       " 32,\n",
       " 40,\n",
       " 43,\n",
       " 49,\n",
       " 50,\n",
       " 55,\n",
       " 59,\n",
       " 60,\n",
       " 63,\n",
       " 70,\n",
       " 77,\n",
       " 78,\n",
       " 79,\n",
       " 82,\n",
       " 85,\n",
       " 87,\n",
       " 91,\n",
       " 96,\n",
       " 97,\n",
       " 107,\n",
       " 109,\n",
       " 111,\n",
       " 115,\n",
       " 117,\n",
       " 118,\n",
       " 119,\n",
       " 127,\n",
       " 132,\n",
       " 133,\n",
       " 136,\n",
       " 137,\n",
       " 138,\n",
       " 144,\n",
       " 145,\n",
       " 150,\n",
       " 156,\n",
       " 160,\n",
       " 165,\n",
       " 166,\n",
       " 167,\n",
       " 168,\n",
       " 170,\n",
       " 176,\n",
       " 178,\n",
       " 183,\n",
       " 184,\n",
       " 185,\n",
       " 186,\n",
       " 192,\n",
       " 199,\n",
       " 201,\n",
       " 202,\n",
       " 204,\n",
       " 206,\n",
       " 208,\n",
       " 215,\n",
       " 220,\n",
       " 223,\n",
       " 224,\n",
       " 226,\n",
       " 231,\n",
       " 235,\n",
       " 239,\n",
       " 240,\n",
       " 242,\n",
       " 248,\n",
       " 250,\n",
       " 252,\n",
       " 253,\n",
       " 254,\n",
       " 262,\n",
       " 264,\n",
       " 268,\n",
       " 269,\n",
       " 270,\n",
       " 271,\n",
       " 274,\n",
       " 275,\n",
       " 278,\n",
       " 281,\n",
       " 283,\n",
       " 284,\n",
       " 286,\n",
       " 291,\n",
       " 296,\n",
       " 298,\n",
       " 305,\n",
       " 306,\n",
       " 309,\n",
       " 310,\n",
       " 311,\n",
       " 321,\n",
       " 330,\n",
       " 334,\n",
       " 336,\n",
       " 337,\n",
       " 339,\n",
       " 341,\n",
       " 342,\n",
       " 345,\n",
       " 351,\n",
       " 352,\n",
       " 354,\n",
       " 357,\n",
       " 359,\n",
       " 362,\n",
       " 363,\n",
       " 370,\n",
       " 371,\n",
       " 372,\n",
       " 374,\n",
       " 379,\n",
       " 380,\n",
       " 381,\n",
       " 382,\n",
       " 383,\n",
       " 385,\n",
       " 389,\n",
       " 390,\n",
       " 391,\n",
       " 393,\n",
       " 395,\n",
       " 396,\n",
       " 402,\n",
       " 403,\n",
       " 404,\n",
       " 406,\n",
       " 407,\n",
       " 408,\n",
       " 412,\n",
       " 415,\n",
       " 416,\n",
       " 417,\n",
       " 422,\n",
       " 423,\n",
       " 425,\n",
       " 427,\n",
       " 431,\n",
       " 432,\n",
       " 450,\n",
       " 451,\n",
       " 454,\n",
       " 458,\n",
       " 465,\n",
       " 472,\n",
       " 473,\n",
       " 475,\n",
       " 484,\n",
       " 485,\n",
       " 489,\n",
       " 491,\n",
       " 493,\n",
       " 496,\n",
       " 497,\n",
       " 499,\n",
       " 500,\n",
       " 503,\n",
       " 504,\n",
       " 507,\n",
       " 510,\n",
       " 511,\n",
       " 513,\n",
       " 517,\n",
       " 518,\n",
       " 519,\n",
       " 521,\n",
       " 522,\n",
       " 523,\n",
       " 524,\n",
       " 527,\n",
       " 531,\n",
       " 536,\n",
       " 539,\n",
       " 541,\n",
       " 547,\n",
       " 548,\n",
       " 555,\n",
       " 560,\n",
       " 562,\n",
       " 563,\n",
       " 564,\n",
       " 565,\n",
       " 567,\n",
       " 570,\n",
       " 572,\n",
       " 574,\n",
       " 576,\n",
       " 577,\n",
       " 579,\n",
       " 580,\n",
       " 583,\n",
       " 584,\n",
       " 585,\n",
       " 586,\n",
       " 590,\n",
       " 596,\n",
       " 598,\n",
       " 599,\n",
       " 601,\n",
       " 605,\n",
       " 608,\n",
       " 615,\n",
       " 617,\n",
       " 618,\n",
       " 619,\n",
       " 622,\n",
       " 634,\n",
       " 636,\n",
       " 639,\n",
       " 640,\n",
       " 641,\n",
       " 642,\n",
       " 645,\n",
       " 649,\n",
       " 653,\n",
       " 655,\n",
       " 661,\n",
       " 663,\n",
       " 665,\n",
       " 666,\n",
       " 668,\n",
       " 669,\n",
       " 670,\n",
       " 672,\n",
       " 673,\n",
       " 680,\n",
       " 681,\n",
       " 687,\n",
       " 689,\n",
       " 694,\n",
       " 702,\n",
       " 703,\n",
       " 706,\n",
       " 708,\n",
       " 711,\n",
       " 715,\n",
       " 719,\n",
       " 721,\n",
       " 723,\n",
       " 727,\n",
       " 728,\n",
       " 732,\n",
       " 734,\n",
       " 738,\n",
       " 740,\n",
       " 741,\n",
       " 742,\n",
       " 747,\n",
       " 750,\n",
       " 751,\n",
       " 757,\n",
       " 762,\n",
       " 765,\n",
       " 766,\n",
       " 769,\n",
       " 771,\n",
       " 772,\n",
       " 775,\n",
       " 778,\n",
       " 779,\n",
       " 781,\n",
       " 782,\n",
       " 788,\n",
       " 795,\n",
       " 798,\n",
       " 799,\n",
       " 801,\n",
       " 802,\n",
       " 803,\n",
       " 804,\n",
       " 806,\n",
       " 809,\n",
       " 813,\n",
       " 817,\n",
       " 821,\n",
       " 823,\n",
       " 824,\n",
       " 826,\n",
       " 828,\n",
       " 830,\n",
       " 831,\n",
       " 837,\n",
       " 838,\n",
       " 841,\n",
       " 842,\n",
       " 845,\n",
       " 850,\n",
       " 851,\n",
       " 856,\n",
       " 860,\n",
       " 865,\n",
       " 866,\n",
       " 867,\n",
       " 876,\n",
       " 879,\n",
       " 882,\n",
       " 883,\n",
       " 884,\n",
       " 885,\n",
       " 887,\n",
       " 889,\n",
       " 890,\n",
       " 895,\n",
       " 903,\n",
       " 910,\n",
       " 913,\n",
       " 916,\n",
       " 917,\n",
       " 924,\n",
       " 927,\n",
       " 934,\n",
       " 936,\n",
       " 937,\n",
       " 938,\n",
       " 939,\n",
       " 940,\n",
       " 941,\n",
       " 943,\n",
       " 946,\n",
       " 949,\n",
       " 950,\n",
       " 954,\n",
       " 957,\n",
       " 959,\n",
       " 964,\n",
       " 966,\n",
       " 967,\n",
       " 971,\n",
       " 972,\n",
       " 974,\n",
       " 976,\n",
       " 977,\n",
       " 981,\n",
       " 982,\n",
       " 983,\n",
       " 987,\n",
       " 990,\n",
       " 991,\n",
       " 994,\n",
       " 995,\n",
       " 996,\n",
       " 997,\n",
       " 998,\n",
       " 1001,\n",
       " 1003,\n",
       " 1004,\n",
       " 1005,\n",
       " 1009,\n",
       " 1010,\n",
       " 1013,\n",
       " 1016,\n",
       " 1017,\n",
       " 1021,\n",
       " 1022,\n",
       " 1028,\n",
       " 1030,\n",
       " 1036,\n",
       " 1039,\n",
       " 1040,\n",
       " 1042,\n",
       " 1046,\n",
       " 1047,\n",
       " 1049,\n",
       " 1050,\n",
       " 1052,\n",
       " 1053,\n",
       " 1054,\n",
       " 1055,\n",
       " 1056,\n",
       " 1057,\n",
       " 1065,\n",
       " 1066,\n",
       " 1067,\n",
       " 1073,\n",
       " 1078,\n",
       " 1079,\n",
       " 1084,\n",
       " 1086,\n",
       " 1089,\n",
       " 1090,\n",
       " 1093,\n",
       " 1095,\n",
       " 1096,\n",
       " 1098,\n",
       " 1106,\n",
       " 1112,\n",
       " 1114,\n",
       " 1115,\n",
       " 1116,\n",
       " 1118,\n",
       " 1119,\n",
       " 1121,\n",
       " 1124,\n",
       " 1126,\n",
       " 1127,\n",
       " 1129,\n",
       " 1136,\n",
       " 1140,\n",
       " 1141,\n",
       " 1142,\n",
       " 1144,\n",
       " 1145,\n",
       " 1149,\n",
       " 1150,\n",
       " 1151,\n",
       " 1159,\n",
       " 1161,\n",
       " 1162,\n",
       " 1163,\n",
       " 1165,\n",
       " 1166,\n",
       " 1168,\n",
       " 1171,\n",
       " 1172,\n",
       " 1174,\n",
       " 1175,\n",
       " 1176,\n",
       " 1179,\n",
       " 1181,\n",
       " 1187,\n",
       " 1188,\n",
       " 1193,\n",
       " 1201,\n",
       " 1205,\n",
       " 1207,\n",
       " 1213,\n",
       " 1221,\n",
       " 1225,\n",
       " 1226,\n",
       " 1227,\n",
       " 1229,\n",
       " 1232,\n",
       " 1233,\n",
       " 1238,\n",
       " 1239,\n",
       " 1241,\n",
       " 1245,\n",
       " 1247,\n",
       " 1248,\n",
       " 1249,\n",
       " 1252,\n",
       " 1255,\n",
       " 1257,\n",
       " 1265,\n",
       " 1268,\n",
       " 1269,\n",
       " 1270,\n",
       " 1272,\n",
       " 1274,\n",
       " 1281,\n",
       " 1282,\n",
       " 1291,\n",
       " 1292,\n",
       " 1295,\n",
       " 1296,\n",
       " 1298,\n",
       " 1299,\n",
       " 1300,\n",
       " 1304,\n",
       " 1305,\n",
       " 1306,\n",
       " 1307,\n",
       " 1315,\n",
       " 1317,\n",
       " 1318,\n",
       " 1319,\n",
       " 1321,\n",
       " 1324,\n",
       " 1328,\n",
       " 1331,\n",
       " 1332,\n",
       " 1333,\n",
       " 1336,\n",
       " 1341,\n",
       " 1345,\n",
       " 1346,\n",
       " 1351,\n",
       " 1353,\n",
       " 1354,\n",
       " 1355,\n",
       " 1360]"
      ]
     },
     "execution_count": 43,
     "metadata": {},
     "output_type": "execute_result"
    }
   ],
   "source": [
    "new_flat_list"
   ]
  },
  {
   "cell_type": "code",
   "execution_count": 1170,
   "metadata": {},
   "outputs": [
    {
     "name": "stdout",
     "output_type": "stream",
     "text": [
      "73\n"
     ]
    }
   ],
   "source": [
    "print(\n",
    "    #sorted(new_flat_list), \n",
    "    len(sorted(new_flat_list)))"
   ]
  },
  {
   "cell_type": "code",
   "execution_count": 32,
   "metadata": {},
   "outputs": [],
   "source": [
    "cohort = sorted(new_flat_list)"
   ]
  },
  {
   "cell_type": "code",
   "execution_count": 34,
   "metadata": {},
   "outputs": [
    {
     "data": {
      "text/plain": [
       "(166, 1369)"
      ]
     },
     "execution_count": 34,
     "metadata": {},
     "output_type": "execute_result"
    }
   ],
   "source": [
    "#### KM Plot\n",
    "\n",
    "m, n = norm_pat_match.shape\n",
    "#m, n = 259, 1904\n",
    "\n",
    "# cohort = sorted(new_flat_list)\n",
    "# not_cohort = [item for item in range(0,n) if item not in cohort]\n",
    "\n",
    "m,n"
   ]
  },
  {
   "cell_type": "code",
   "execution_count": 35,
   "metadata": {},
   "outputs": [],
   "source": [
    "not_cohort = [item for item in range(n) if item not in cohort]"
   ]
  },
  {
   "cell_type": "code",
   "execution_count": 36,
   "metadata": {},
   "outputs": [
    {
     "data": {
      "text/plain": [
       "(492, 877)"
      ]
     },
     "execution_count": 36,
     "metadata": {},
     "output_type": "execute_result"
    }
   ],
   "source": [
    "len(cohort), len(not_cohort)"
   ]
  },
  {
   "cell_type": "code",
   "execution_count": 39,
   "metadata": {},
   "outputs": [],
   "source": [
    "# cohort = [item for item in sorted(new_flat_list) if item in tnbc_indexes]\n",
    "# len(cohort)"
   ]
  },
  {
   "cell_type": "code",
   "execution_count": 40,
   "metadata": {},
   "outputs": [],
   "source": [
    "# not_cohort = [item for item in tnbc_indexes if item not in cohort ]\n",
    "# len(not_cohort)"
   ]
  },
  {
   "cell_type": "code",
   "execution_count": 41,
   "metadata": {},
   "outputs": [],
   "source": [
    "# print([item-1 for item in [11, 27, 97, 103, 170, 226, 239]])"
   ]
  },
  {
   "cell_type": "code",
   "execution_count": 42,
   "metadata": {},
   "outputs": [
    {
     "data": {
      "text/plain": [
       "(492, 877)"
      ]
     },
     "execution_count": 42,
     "metadata": {},
     "output_type": "execute_result"
    }
   ],
   "source": [
    "len(cohort), len(not_cohort)"
   ]
  },
  {
   "cell_type": "code",
   "execution_count": 1179,
   "metadata": {},
   "outputs": [],
   "source": [
    "# from matplotlib.pyplot import figure\n",
    "\n",
    "# figure(figsize=(16, 12), dpi=80)\n",
    "# #plt.imshow(norm_pat_match[clus_7,: ], cmap='Reds', interpolation='nearest')\n",
    "# plt.imshow(norm_pat_match[np.ix_(clus_7, flat_list) ], cmap='Reds', interpolation='nearest')\n",
    "# plt.show()"
   ]
  },
  {
   "cell_type": "code",
   "execution_count": 1180,
   "metadata": {},
   "outputs": [],
   "source": [
    "# id_match = np.argmax(min_max_scaler.fit_transform(pat_match), axis=1, out=None)"
   ]
  },
  {
   "cell_type": "code",
   "execution_count": 1181,
   "metadata": {},
   "outputs": [],
   "source": [
    "# cohort"
   ]
  },
  {
   "cell_type": "code",
   "execution_count": 1182,
   "metadata": {},
   "outputs": [],
   "source": [
    "# ### for R\n",
    "# print('cohort', [item+1 for item in cohort])\n",
    "# print('notcohort', [notitem+1 for notitem in not_cohort])"
   ]
  },
  {
   "cell_type": "code",
   "execution_count": null,
   "metadata": {},
   "outputs": [],
   "source": []
  },
  {
   "cell_type": "code",
   "execution_count": 1183,
   "metadata": {},
   "outputs": [],
   "source": [
    "#print(sorted(time_event_616['SampleID'].values.tolist()))"
   ]
  },
  {
   "cell_type": "code",
   "execution_count": 1184,
   "metadata": {},
   "outputs": [],
   "source": [
    "#print(sorted(time_event_1093[time_event_1093['patient'].isin(time_event_616['SampleID'].values.tolist())]['patient'].values.tolist()))"
   ]
  },
  {
   "cell_type": "code",
   "execution_count": 1185,
   "metadata": {},
   "outputs": [],
   "source": [
    "#time_event = time_event[time_event['patient'].isin(patlist_1093)]"
   ]
  },
  {
   "cell_type": "code",
   "execution_count": 44,
   "metadata": {},
   "outputs": [],
   "source": [
    "# time_event_tcga\n",
    "\n",
    "#### time event analysis\n",
    "\n",
    "#time_event_tcga = pd.read_csv('ekdm_final_TCGA_clinical_TNBC.csv')\n",
    "#time_event_tcga = pd.read_csv('ekdm_final_TCGA_clinical_luma.csv')\n",
    "\n",
    "#time_event_metabric = pd.read_csv('metabric_clin_tnbc.csv')\n",
    "time_event_metabric = pd.read_csv('./cli/metabric_clin_luma.csv')\n",
    "\n"
   ]
  },
  {
   "cell_type": "code",
   "execution_count": 1270,
   "metadata": {},
   "outputs": [
    {
     "data": {
      "text/plain": [
       "((599, 8), (299, 10))"
      ]
     },
     "execution_count": 1270,
     "metadata": {},
     "output_type": "execute_result"
    }
   ],
   "source": [
    "time_event_tcga.shape, time_event_metabric.shape"
   ]
  },
  {
   "cell_type": "code",
   "execution_count": 1271,
   "metadata": {},
   "outputs": [],
   "source": [
    "\n",
    "if data_focus.shape == norm_data4.shape: #TCGA\n",
    "    time  = time_event_tcga['time'].values\n",
    "    event = time_event_tcga['event'].values\n",
    "    p = time_event_tcga['Patient ID'].values\n",
    "elif data_focus.shape == norm_data5.shape: #Metabric\n",
    "    time  = time_event_metabric['time'].values\n",
    "    event = time_event_metabric['event'].values \n",
    "    p = time_event_metabric['Patient ID'].values"
   ]
  },
  {
   "cell_type": "code",
   "execution_count": 1272,
   "metadata": {},
   "outputs": [],
   "source": [
    "# #KM for our data\n",
    "\n",
    "# cohort = clus_7\n",
    "# not_cohort = [item for item in range(0,259) if item not in cohort]"
   ]
  },
  {
   "cell_type": "code",
   "execution_count": 1273,
   "metadata": {},
   "outputs": [
    {
     "data": {
      "text/plain": [
       "(599, 599)"
      ]
     },
     "execution_count": 1273,
     "metadata": {},
     "output_type": "execute_result"
    }
   ],
   "source": [
    "len(time), len(event)"
   ]
  },
  {
   "cell_type": "code",
   "execution_count": 1274,
   "metadata": {},
   "outputs": [],
   "source": [
    "time_ = time[cohort]\n",
    "time_other = time[not_cohort]\n",
    "\n",
    "event_ = event[cohort]\n",
    "event_other = event[not_cohort]\n",
    "\n",
    "\n"
   ]
  },
  {
   "cell_type": "code",
   "execution_count": 1275,
   "metadata": {},
   "outputs": [
    {
     "name": "stdout",
     "output_type": "stream",
     "text": [
      "[1, 3, 6, 19, 33, 36, 41, 46, 55, 56, 57, 63, 65, 66, 71, 79, 87, 91, 99, 103, 105, 135, 163, 168, 170, 171, 215, 220, 230, 241, 242, 243, 256, 261, 270, 271, 272, 286, 290, 292, 301, 302, 308, 311, 317, 318, 324, 329, 332, 344, 358, 363, 371, 391, 392, 397, 430, 431, 432, 484, 488, 490, 507, 510, 518, 530, 538, 550, 554, 558, 569, 570, 582]\n"
     ]
    }
   ],
   "source": [
    "print(cohort)"
   ]
  },
  {
   "cell_type": "code",
   "execution_count": 1276,
   "metadata": {},
   "outputs": [],
   "source": [
    "## metabric tnbc bad  [6, 10, 17, 32, 33, 50, 52, 60, 68, 72, 73, 78, 82, 84, 87, 94, 97, 98, 107, 111, 112, 114, 124, 125, 126, 129, 132, 136, 142, 144, 149, 159, 169, 172, 177, 180, 181, 185, 190, 194, 196, 197, 211, 213, 217, 218, 219, 222, 229, 234, 244, 245, 246, 256, 259, 264, 269, 276, 278, 282, 283, 288, 295, 296]"
   ]
  },
  {
   "cell_type": "code",
   "execution_count": null,
   "metadata": {},
   "outputs": [],
   "source": []
  },
  {
   "cell_type": "code",
   "execution_count": 1277,
   "metadata": {},
   "outputs": [
    {
     "data": {
      "text/plain": [
       "array([ 48.52,   8.51,  48.06,  92.41,  80.22,  71.94,  24.7 ,  20.5 ,\n",
       "        18.59,  19.32,  48.42,  20.24,  52.43,  47.62,  36.2 ,  26.94,\n",
       "        31.7 ,  29.53,  14.68,  14.65,  10.71,  30.98,  90.64,  32.42,\n",
       "        16.29,  14.82,  61.99,  70.37, 140.44, 103.78,  97.6 ,  98.26,\n",
       "       118.5 , 105.19,  63.57,  38.14,  39.36,  37.19,  21.68,  72.17,\n",
       "        77.92,  67.05,  15.64,  78.94,  81.77,  32.56,  63.34,  52.92,\n",
       "        20.37,  44.78, 120.53,  36.76,  21.75,  13.47,  21.12,  13.99,\n",
       "        14.42,  48.  ,  16.39,  28.42,  60.94,  54.14,  32.03,  23.88,\n",
       "        13.24,  14.42,  31.27,  66.33,  62.42,  13.27,  22.37,   2.1 ,\n",
       "        19.71])"
      ]
     },
     "execution_count": 1277,
     "metadata": {},
     "output_type": "execute_result"
    }
   ],
   "source": [
    "time_"
   ]
  },
  {
   "cell_type": "code",
   "execution_count": 1278,
   "metadata": {},
   "outputs": [
    {
     "data": {
      "text/plain": [
       "array([1, 0, 0, 0, 0, 0, 1, 1, 1, 0, 0, 1, 0, 1, 0, 0, 0, 0, 0, 0, 0, 0,\n",
       "       1, 0, 1, 1, 1, 0, 0, 0, 0, 0, 0, 0, 0, 0, 0, 0, 0, 0, 1, 0, 0, 0,\n",
       "       0, 1, 0, 0, 0, 1, 1, 0, 0, 0, 0, 0, 0, 0, 0, 0, 0, 0, 0, 0, 0, 0,\n",
       "       0, 0, 1, 0, 0, 0, 1], dtype=int64)"
      ]
     },
     "execution_count": 1278,
     "metadata": {},
     "output_type": "execute_result"
    }
   ],
   "source": [
    "event_"
   ]
  },
  {
   "cell_type": "code",
   "execution_count": 1285,
   "metadata": {},
   "outputs": [],
   "source": [
    "# list(zip(cohort, time_, event_))"
   ]
  },
  {
   "cell_type": "code",
   "execution_count": 1280,
   "metadata": {},
   "outputs": [
    {
     "data": {
      "text/plain": [
       "(73, 526, 73, 526)"
      ]
     },
     "execution_count": 1280,
     "metadata": {},
     "output_type": "execute_result"
    }
   ],
   "source": [
    "len(time_), len(time_other), len(event_), len(event_other)"
   ]
  },
  {
   "cell_type": "code",
   "execution_count": 1281,
   "metadata": {},
   "outputs": [
    {
     "name": "stdout",
     "output_type": "stream",
     "text": [
      "0.028391667311612273\n"
     ]
    }
   ],
   "source": [
    "# from lifelines import CoxPHFitter\n",
    "# cph = CoxPHFitter()\n",
    "\n",
    "if data_focus.shape == norm_data4.shape: #TCGA\n",
    "    dataset_name = \"TCGA\"\n",
    "    #data_df = tcga_tnbc.copy()\n",
    "    data_df = tcga_luma.copy()\n",
    "    data_df['time'] = time\n",
    "    data_df['event']= event\n",
    "elif data_focus.shape == norm_data5.shape: #Metabric\n",
    "    dataset_name = \"METABRIC\"\n",
    "    #data_df = metab_tnbc.copy()\n",
    "    #data_df = metab_luma.copy()\n",
    "    data_df['time'] = time\n",
    "    data_df['event']= event\n",
    "    \n",
    "    \n",
    "\n",
    "results = logrank_test(time_, time_other, event_, event_other)\n",
    "results = results.p_value\n",
    "\n",
    "\n",
    "\n",
    "\n",
    "print(results)\n"
   ]
  },
  {
   "cell_type": "code",
   "execution_count": 1282,
   "metadata": {},
   "outputs": [],
   "source": [
    "# #### our data\n",
    "\n",
    "# dataset_name = 'OURS'\n",
    "\n",
    "\n",
    "# clus_7 = [3,56, 60, 100, 106, 108, 160, 174]\n",
    "# cohort = clus_7\n",
    "# not_cohort = [item for item in range(0,259) if item not in cohort]\n",
    "\n",
    "# time = time_event_ours['time'].values\n",
    "# event= time_event_ours['event'].values\n",
    "\n",
    "# time_7 = time[cohort]\n",
    "# time_other = time[not_cohort]\n",
    "\n",
    "# event_7 = event[cohort]\n",
    "# event_other = event[not_cohort]\n",
    "\n",
    "\n",
    "# data_df = p259_cellfeats\n",
    "# data_df['time'] = time\n",
    "# data_df['event']= event\n",
    "\n",
    "\n",
    "# cph = CoxPHFitter(penalizer=0.1)\n",
    "# cph.fit(data_df, 'time', 'event' )\n",
    "# results = logrank_test(time_7, time_other, event_7, event_other)\n",
    "# results = results.p_value\n",
    "# cindex, cph.concordance_index_\n",
    "\n",
    "# print('Concordance Index: ', cindex, 'Logrank-pval',results )"
   ]
  },
  {
   "cell_type": "code",
   "execution_count": 1283,
   "metadata": {},
   "outputs": [],
   "source": [
    "# #### TNBC\n",
    "\n",
    "\n",
    "\n",
    "# fig, ax = plt.subplots(ncols=1, figsize=(10,8))\n",
    "\n",
    "# kmf = KaplanMeierFitter()\n",
    "# for i in range(1,3):\n",
    "#     if i==1:\n",
    "#         kmf.fit(time_,event_,label='Good TNBC equivalent ')#+'(n='+str(len(time_7))+')')\n",
    "#     elif i==2:\n",
    "#         kmf.fit(time_other,event_other,label='Other TNBC Patients')#+'(n='+str(len(time_other))+')')\n",
    "#     kmf.plot(show_censors=True,ci_show=False)\n",
    "    \n",
    "\n",
    "# ax.set_ylim(-0.1, 1.10)\n",
    "# #ax.set_ylim(-10, 280)\n",
    "# #ax.set_xticks(np.arange(0, 380, 20))\n",
    "# ax.set_xlabel('Overall Survival (months)', fontsize = 14)\n",
    "# ax.set_ylabel('Probability of survival', fontsize = 14)\n",
    "# ax.set_title('Dataset: '+ dataset_name+#' ; CI: '+str('%.3g'%(cindex)) + \n",
    "#              '; p-value: ' +str('%.3g'%(results)), fontsize=16)"
   ]
  },
  {
   "cell_type": "code",
   "execution_count": 11,
   "metadata": {},
   "outputs": [
    {
     "ename": "NameError",
     "evalue": "name 'KaplanMeierFitter' is not defined",
     "output_type": "error",
     "traceback": [
      "\u001b[0;31m---------------------------------------------------------------------------\u001b[0m",
      "\u001b[0;31mNameError\u001b[0m                                 Traceback (most recent call last)",
      "\u001b[0;32m<ipython-input-11-a6cfdc7398ec>\u001b[0m in \u001b[0;36m<module>\u001b[0;34m\u001b[0m\n\u001b[1;32m      4\u001b[0m \u001b[0mfig\u001b[0m\u001b[0;34m,\u001b[0m \u001b[0max\u001b[0m \u001b[0;34m=\u001b[0m \u001b[0mplt\u001b[0m\u001b[0;34m.\u001b[0m\u001b[0msubplots\u001b[0m\u001b[0;34m(\u001b[0m\u001b[0mncols\u001b[0m\u001b[0;34m=\u001b[0m\u001b[0;36m1\u001b[0m\u001b[0;34m,\u001b[0m \u001b[0mfigsize\u001b[0m\u001b[0;34m=\u001b[0m\u001b[0;34m(\u001b[0m\u001b[0;36m10\u001b[0m\u001b[0;34m,\u001b[0m\u001b[0;36m8\u001b[0m\u001b[0;34m)\u001b[0m\u001b[0;34m)\u001b[0m\u001b[0;34m\u001b[0m\u001b[0;34m\u001b[0m\u001b[0m\n\u001b[1;32m      5\u001b[0m \u001b[0;34m\u001b[0m\u001b[0m\n\u001b[0;32m----> 6\u001b[0;31m \u001b[0mkmf\u001b[0m \u001b[0;34m=\u001b[0m \u001b[0mKaplanMeierFitter\u001b[0m\u001b[0;34m(\u001b[0m\u001b[0;34m)\u001b[0m\u001b[0;34m\u001b[0m\u001b[0;34m\u001b[0m\u001b[0m\n\u001b[0m\u001b[1;32m      7\u001b[0m \u001b[0;32mfor\u001b[0m \u001b[0mi\u001b[0m \u001b[0;32min\u001b[0m \u001b[0mrange\u001b[0m\u001b[0;34m(\u001b[0m\u001b[0;36m1\u001b[0m\u001b[0;34m,\u001b[0m\u001b[0;36m3\u001b[0m\u001b[0;34m)\u001b[0m\u001b[0;34m:\u001b[0m\u001b[0;34m\u001b[0m\u001b[0;34m\u001b[0m\u001b[0m\n\u001b[1;32m      8\u001b[0m     \u001b[0;32mif\u001b[0m \u001b[0mi\u001b[0m\u001b[0;34m==\u001b[0m\u001b[0;36m1\u001b[0m\u001b[0;34m:\u001b[0m\u001b[0;34m\u001b[0m\u001b[0;34m\u001b[0m\u001b[0m\n",
      "\u001b[0;31mNameError\u001b[0m: name 'KaplanMeierFitter' is not defined"
     ]
    },
    {
     "data": {
      "image/png": "[encoded data removed]",
      "text/plain": [
       "<Figure size 720x576 with 1 Axes>"
      ]
     },
     "metadata": {
      "needs_background": "light"
     },
     "output_type": "display_data"
    }
   ],
   "source": [
    "### LUMA\n",
    "\n",
    "\n",
    "fig, ax = plt.subplots(ncols=1, figsize=(10,8))\n",
    "\n",
    "kmf = KaplanMeierFitter()\n",
    "for i in range(1,3):\n",
    "    if i==1:\n",
    "        kmf.fit(time_,event_,label='Poor Luminal A equivalent ')#+'(n='+str(len(time_7))+')')\n",
    "    elif i==2:\n",
    "        kmf.fit(time_other,event_other,label='Other Luminal A Patients')#+'(n='+str(len(time_other))+')')\n",
    "    kmf.plot(show_censors=True,ci_show=False)\n",
    "    \n",
    "\n",
    "ax.set_ylim(-0.1, 1.10)\n",
    "#ax.set_ylim(-10, 280)\n",
    "ax.set_xticks(np.arange(0, max(time), 20))\n",
    "ax.set_xlabel('Overall Survival (months)', fontsize = 14)\n",
    "ax.set_ylabel('Probability of survival', fontsize = 14)\n",
    "ax.set_title('Dataset: '+ dataset_name+#' ; CI: '+str('%.3g'%(cindex)) + \n",
    "             '; p-value: ' +str('%.3g'%(results)), fontsize=16)"
   ]
  },
  {
   "cell_type": "code",
   "execution_count": 1268,
   "metadata": {},
   "outputs": [
    {
     "name": "stdout",
     "output_type": "stream",
     "text": [
      "[0, 2, 4, 5, 7, 8, 9, 10, 11, 12, 13, 14, 15, 16, 17, 18, 20, 21, 22, 23, 24, 25, 26, 27, 28, 29, 30, 31, 32, 34, 35, 37, 38, 39, 40, 42, 43, 44, 45, 47, 48, 49, 50, 51, 52, 53, 54, 58, 59, 60, 61, 62, 64, 67, 68, 69, 70, 72, 73, 74, 75, 76, 77, 78, 80, 81, 82, 83, 84, 85, 86, 88, 89, 90, 92, 93, 94, 95, 96, 97, 98, 100, 101, 102, 104, 106, 107, 108, 109, 110, 111, 112, 113, 114, 115, 116, 117, 118, 119, 120, 121, 122, 123, 124, 125, 126, 127, 128, 129, 130, 131, 132, 133, 134, 136, 137, 138, 139, 140, 141, 142, 143, 144, 145, 146, 147, 148, 149, 150, 151, 152, 153, 154, 155, 156, 157, 158, 159, 160, 161, 162, 164, 165, 166, 167, 169, 172, 173, 174, 175, 176, 177, 178, 179, 180, 181, 182, 183, 184, 185, 186, 187, 188, 189, 190, 191, 192, 193, 194, 195, 196, 197, 198, 199, 200, 201, 202, 203, 204, 205, 206, 207, 208, 209, 210, 211, 212, 213, 214, 216, 217, 218, 219, 221, 222, 223, 224, 225, 226, 227, 228, 229, 231, 232, 233, 234, 235, 236, 237, 238, 239, 240, 244, 245, 246, 247, 248, 249, 250, 251, 252, 253, 254, 255, 257, 258, 259, 260, 262, 263, 264, 265, 266, 267, 268, 269, 273, 274, 275, 276, 277, 278, 279, 280, 281, 282, 283, 284, 285, 287, 288, 289, 291, 293, 294, 295, 296, 297, 298, 299, 300, 303, 304, 305, 306, 307, 309, 310, 312, 313, 314, 315, 316, 319, 320, 321, 322, 323, 325, 326, 327, 328, 330, 331, 333, 334, 335, 336, 337, 338, 339, 340, 341, 342, 343, 345, 346, 347, 348, 349, 350, 351, 352, 353, 354, 355, 356, 357, 359, 360, 361, 362, 364, 365, 366, 367, 368, 369, 370, 372, 373, 374, 375, 376, 377, 378, 379, 380, 381, 382, 383, 384, 385, 386, 387, 388, 389, 390, 393, 394, 395, 396, 398, 399, 400, 401, 402, 403, 404, 405, 406, 407, 408, 409, 410, 411, 412, 413, 414, 415, 416, 417, 418, 419, 420, 421, 422, 423, 424, 425, 426, 427, 428, 429, 433, 434, 435, 436, 437, 438, 439, 440, 441, 442, 443, 444, 445, 446, 447, 448, 449, 450, 451, 452, 453, 454, 455, 456, 457, 458, 459, 460, 461, 462, 463, 464, 465, 466, 467, 468, 469, 470, 471, 472, 473, 474, 475, 476, 477, 478, 479, 480, 481, 482, 483, 485, 486, 487, 489, 491, 492, 493, 494, 495, 496, 497, 498, 499, 500, 501, 502, 503, 504, 505, 506, 508, 509, 511, 512, 513, 514, 515, 516, 517, 519, 520, 521, 522, 523, 524, 525, 526, 527, 528, 529, 531, 532, 533, 534, 535, 536, 537, 539, 540, 541, 542, 543, 544, 545, 546, 547, 548, 549, 551, 552, 553, 555, 556, 557, 559, 560, 561, 562, 563, 564, 565, 566, 567, 568, 571, 572, 573, 574, 575, 576, 577, 578, 579, 580, 581, 583, 584, 585, 586, 587, 588, 589, 590, 591, 592, 593, 594, 595, 596, 597, 598]\n"
     ]
    }
   ],
   "source": [
    "print(not_cohort)"
   ]
  },
  {
   "cell_type": "code",
   "execution_count": null,
   "metadata": {},
   "outputs": [],
   "source": []
  },
  {
   "cell_type": "code",
   "execution_count": null,
   "metadata": {},
   "outputs": [],
   "source": []
  },
  {
   "cell_type": "code",
   "execution_count": 385,
   "metadata": {},
   "outputs": [],
   "source": [
    "# pdimp = pd.read_csv('ours/imc_df_count_normalized_1.csv')\n"
   ]
  },
  {
   "cell_type": "code",
   "execution_count": 386,
   "metadata": {},
   "outputs": [],
   "source": [
    "# pdimp = pdimp.iloc[:,1:]"
   ]
  },
  {
   "cell_type": "code",
   "execution_count": 387,
   "metadata": {},
   "outputs": [],
   "source": [
    "# pdimp"
   ]
  },
  {
   "cell_type": "code",
   "execution_count": null,
   "metadata": {},
   "outputs": [],
   "source": []
  },
  {
   "cell_type": "code",
   "execution_count": 388,
   "metadata": {},
   "outputs": [],
   "source": [
    "# t = [6, 10, 11, 28, 48, 63, 67, 76, 79, 81, 95, 96, 107, 118, 122, 138, 166, 173, 221, 225, 241, 243, 264, 290, 365, 388, 389, 394, 430, 431, 435, 452, 484, 494, 514, 527, 528, 533, 538, 555, 563, 577, 582, 590, 592, 598, 599, 610, 614, 625, 656, 715, 735, 760, 764, 779, 780, 781, 801, 822, 824, 856, 860, 882, 889, 917, 940, 944, 945, 948, 952, 958, 973, 974, 986, 988, 1042]"
   ]
  },
  {
   "cell_type": "code",
   "execution_count": 389,
   "metadata": {},
   "outputs": [],
   "source": [
    "# print([item-1 for item in t])"
   ]
  },
  {
   "cell_type": "code",
   "execution_count": 1187,
   "metadata": {},
   "outputs": [],
   "source": [
    "##### "
   ]
  },
  {
   "cell_type": "code",
   "execution_count": null,
   "metadata": {},
   "outputs": [],
   "source": []
  },
  {
   "cell_type": "code",
   "execution_count": null,
   "metadata": {},
   "outputs": [],
   "source": []
  },
  {
   "cell_type": "code",
   "execution_count": null,
   "metadata": {},
   "outputs": [],
   "source": []
  },
  {
   "cell_type": "code",
   "execution_count": null,
   "metadata": {},
   "outputs": [],
   "source": []
  },
  {
   "cell_type": "code",
   "execution_count": null,
   "metadata": {},
   "outputs": [],
   "source": []
  },
  {
   "cell_type": "code",
   "execution_count": null,
   "metadata": {},
   "outputs": [],
   "source": []
  },
  {
   "cell_type": "code",
   "execution_count": null,
   "metadata": {},
   "outputs": [],
   "source": []
  },
  {
   "cell_type": "code",
   "execution_count": null,
   "metadata": {},
   "outputs": [],
   "source": []
  }
 ],
 "metadata": {
  "kernelspec": {
   "display_name": "Python 3",
   "language": "python",
   "name": "python3"
  },
  "language_info": {
   "codemirror_mode": {
    "name": "ipython",
    "version": 3
   },
   "file_extension": ".py",
   "mimetype": "text/x-python",
   "name": "python",
   "nbconvert_exporter": "python",
   "pygments_lexer": "ipython3",
   "version": "3.8.3"
  }
 },
 "nbformat": 4,
 "nbformat_minor": 5
}
