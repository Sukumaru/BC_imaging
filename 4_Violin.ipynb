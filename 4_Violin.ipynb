{
 "cells": [
  {
   "cell_type": "code",
   "execution_count": 1,
   "metadata": {},
   "outputs": [
    {
     "name": "stderr",
     "output_type": "stream",
     "text": [
      "/home/shuzh/.local/lib/python3.7/site-packages/pandas/compat/_optional.py:138: UserWarning: Pandas requires version '2.7.0' or newer of 'numexpr' (version '2.6.9' currently installed).\n",
      "  warnings.warn(msg, UserWarning)\n"
     ]
    }
   ],
   "source": [
    "import numpy as np\n",
    "import pandas as pd\n",
    "import matplotlib.pyplot as plt"
   ]
  },
  {
   "cell_type": "code",
   "execution_count": 2,
   "metadata": {},
   "outputs": [],
   "source": [
    "from tqdm import tqdm"
   ]
  },
  {
   "cell_type": "code",
   "execution_count": 3,
   "metadata": {},
   "outputs": [],
   "source": [
    "data = pd.read_csv('./Pydata/imc_df_259p_64f.csv')"
   ]
  },
  {
   "cell_type": "code",
   "execution_count": 4,
   "metadata": {},
   "outputs": [],
   "source": [
    "#data.columns"
   ]
  },
  {
   "cell_type": "code",
   "execution_count": 5,
   "metadata": {},
   "outputs": [],
   "source": [
    "#col_subset =  ['Unnamed: 0', '1021522Tm169Di EGFR', '1031747Er167Di ECadhe', '112475Gd156Di Estroge', '117792Dy163Di GATA3', '1261726In113Di Histone', '1441101Er168Di Ki67', '174864Nd148Di SMA', '1921755Sm149Di Vimenti', '198883Yb176Di cleaved', '201487Eu151Di cerbB', '207736Tb159Di p53', '234832Lu175Di panCyto', '3111576Nd143Di Cytoker', '312878Gd158Di Progest', '322787Nd150Di cMyc', '3281668Nd142Di Fibrone', '346876Sm147Di Keratin', '3521227Gd155Di Slug', '361077Dy164Di CD20', '378871Yb172Di vWF', '473968La139Di Histone', '651779Pr141Di Cytoker', '6967Gd160Di CD44', '71790Dy162Di CD45', '77877Nd146Di CD68', '8001752Sm152Di CD3epsi', '92964Er166Di Carboni', '971099Nd144Di Cytoker', '98922Yb174Di Cytoker', 'phospho Histone', 'Nd145Di Twist', 'phospho S6', 'phospho mTOR', 'Area']\n",
    "col_subset =  ['1021522Tm169Di EGFR', '1031747Er167Di ECadhe', '112475Gd156Di Estroge', '117792Dy163Di GATA3', '1261726In113Di Histone', '1441101Er168Di Ki67', '174864Nd148Di SMA', '1921755Sm149Di Vimenti', '198883Yb176Di cleaved', '201487Eu151Di cerbB', '207736Tb159Di p53', '234832Lu175Di panCyto', '3111576Nd143Di Cytoker', '312878Gd158Di Progest', '322787Nd150Di cMyc', '3281668Nd142Di Fibrone', '346876Sm147Di Keratin', '3521227Gd155Di Slug', '361077Dy164Di CD20', '378871Yb172Di vWF', '473968La139Di Histone', '651779Pr141Di Cytoker', '6967Gd160Di CD44', '71790Dy162Di CD45', '77877Nd146Di CD68', '8001752Sm152Di CD3epsi', '92964Er166Di Carboni', '971099Nd144Di Cytoker', '98922Yb174Di Cytoker', 'phospho Histone', 'Nd145Di Twist', 'phospho S6', 'phospho mTOR', 'Area']"
   ]
  },
  {
   "cell_type": "code",
   "execution_count": 6,
   "metadata": {},
   "outputs": [],
   "source": [
    "data_subset = data[col_subset]"
   ]
  },
  {
   "cell_type": "code",
   "execution_count": 7,
   "metadata": {},
   "outputs": [],
   "source": [
    "#data_subset"
   ]
  },
  {
   "cell_type": "code",
   "execution_count": 8,
   "metadata": {},
   "outputs": [],
   "source": [
    "se_area = pd.Series(data['Area'])"
   ]
  },
  {
   "cell_type": "code",
   "execution_count": 9,
   "metadata": {},
   "outputs": [
    {
     "data": {
      "text/plain": [
       "0      308787.0\n",
       "1      273574.0\n",
       "2      158931.0\n",
       "3      285638.0\n",
       "4      206768.0\n",
       "         ...   \n",
       "254    279127.0\n",
       "255    253852.0\n",
       "256    209448.0\n",
       "257    119365.0\n",
       "258    399795.0\n",
       "Name: Area, Length: 259, dtype: float64"
      ]
     },
     "execution_count": 9,
     "metadata": {},
     "output_type": "execute_result"
    }
   ],
   "source": [
    "se_area"
   ]
  },
  {
   "cell_type": "code",
   "execution_count": 10,
   "metadata": {},
   "outputs": [],
   "source": [
    "area_normal_df =data_subset.div(se_area, axis = 0)"
   ]
  },
  {
   "cell_type": "code",
   "execution_count": 11,
   "metadata": {},
   "outputs": [],
   "source": [
    "area_normal_dfx =area_normal_df*1000"
   ]
  },
  {
   "cell_type": "raw",
   "metadata": {},
   "source": [
    "['1021522Tm169Di EGFR','1031747Er167Di ECadhe','112475Gd156Di Estroge',\n",
    " '117792Dy163Di GATA3','1261726In113Di Histone','1441101Er168Di Ki67',\n",
    " '174864Nd148Di SMA','1921755Sm149Di Vimenti','198883Yb176Di cleaved',\n",
    " '201487Eu151Di cerbB','207736Tb159Di p53','234832Lu175Di panCyto',\n",
    " '3111576Nd143Di Cytoker','312878Gd158Di Progest','322787Nd150Di cMyc',\n",
    " '3281668Nd142Di Fibrone','346876Sm147Di Keratin','3521227Gd155Di Slug',\n",
    " '361077Dy164Di CD20','378871Yb172Di vWF','473968La139Di Histone',\n",
    " '651779Pr141Di Cytoker','6967Gd160Di CD44','71790Dy162Di CD45',\n",
    " '77877Nd146Di CD68','8001752Sm152Di CD3epsi','92964Er166Di Carboni',\n",
    " '971099Nd144Di Cytoker','98922Yb174Di Cytoker','phospho Histone',\n",
    " 'Nd145Di Twist','phospho S6','phospho mTOR',\n",
    " 'Area']"
   ]
  },
  {
   "cell_type": "raw",
   "metadata": {},
   "source": [
    "#annotations\n",
    "# immune - CD45 pan immune;    CD3 Tcells;             CD20 Bcells;          CD68 Macrophages\n",
    " '71790Dy162Di CD45'     '8001752Sm152Di CD3epsi'  '361077Dy164Di CD20'     '77877Nd146Di CD68'\n",
    "\n",
    "\n",
    "\n",
    "\n",
    "#stromal\n",
    "'174864Nd148Di SMA','1921755Sm149Di Vimenti'\n",
    "\n",
    "# hypoxia - CAIX Carbonic Anhydrase\n",
    "         '92964Er166Di Carboni'\n",
    "\n",
    "\n",
    "#growth\n",
    "'phospho S6','phospho mTOR'\n",
    "\n",
    "# proliferation - Ki67\n",
    "'1441101Er168Di Ki67'\n",
    "\n",
    "#apoptosis - cleaved caspase3\n",
    "'198883Yb176Di cleaved'\n",
    "\n",
    "# er '112475Gd156Di Estroge'\n",
    "# pr '312878Gd158Di Progest'\n",
    " "
   ]
  },
  {
   "cell_type": "code",
   "execution_count": 12,
   "metadata": {},
   "outputs": [],
   "source": [
    "#immune\n",
    "marker_CD45_panimmune = area_normal_dfx['71790Dy162Di CD45'].values\n",
    "marker_CD3_Tcells = area_normal_dfx['8001752Sm152Di CD3epsi'].values\n",
    "marker_CD20_Bcells = area_normal_dfx['361077Dy164Di CD20'].values\n",
    "marker_CD68_Macrophages = area_normal_dfx['77877Nd146Di CD68'].values\n",
    "\n",
    "\n",
    "#stromal\n",
    "marker_SMA = area_normal_dfx['174864Nd148Di SMA'].values\n",
    "marker_Vimentin = area_normal_dfx['1921755Sm149Di Vimenti'].values\n",
    "\n",
    "\n",
    "# hypoxia\n",
    "marker_hypoxia = area_normal_dfx['92964Er166Di Carboni'].values\n",
    "\n",
    "\n",
    "# growth\n",
    "marker_pS6 = area_normal_dfx['phospho S6'].values\n",
    "marker_mTOR= area_normal_dfx['phospho mTOR'].values\n",
    "\n",
    "#proliferation\n",
    "marker_prolif = area_normal_dfx['1441101Er168Di Ki67'].values\n",
    "\n",
    "\n",
    "#apoptosis\n",
    "marker_apop  = area_normal_dfx['198883Yb176Di cleaved'].values\n",
    "\n",
    "\n",
    "#ER PR\n",
    "\n",
    "marker_er = area_normal_dfx['112475Gd156Di Estroge'].values\n",
    "marker_pr = area_normal_dfx['312878Gd158Di Progest'].values\n",
    "\n",
    "\n"
   ]
  },
  {
   "cell_type": "code",
   "execution_count": 13,
   "metadata": {},
   "outputs": [],
   "source": [
    "############ now include clusters indices\n",
    "####new cluster assignments 0-indexed\n",
    "clus_1 = [12, 28, 36, 53, 65, 70, 111, 114, 140, 153, 156, 175, 180, 185, 203, 207, 211, 229, 232, 233, 234, 236, 241]\n",
    "clus_2 = [0, 1, 6, 8, 16, 18, 20, 24, 26, 32, 33, 34, 37, 38, 39, 41, 45, 46, 48, 50, 52, 55, 57, 58, 61, 62, 68, 73, 81, 82, 85, 87, 89, 91, 98, 99, 120, 127, 131, 138, 144, 145, 146, 155, 157, 166, 170, 176, 182, 184, 187, 189, 195, 198, 201, 204, 206, 223, 225, 231, 237, 242, 248, 249, 258]\n",
    "clus_3 = [4, 5, 7, 11, 13, 14, 17, 19, 21, 30, 43, 47, 54, 63, 67, 69, 75, 78, 79, 83, 84, 86, 93, 94, 102, 103, 107, 110, 113, 125, 128, 133, 135, 136, 139, 142, 143, 148, 159, 161, 164, 169, 179, 194, 210, 213, 216, 239, 246, 252, 253]\n",
    "clus_4 = [2, 9, 15, 29, 31, 35, 40, 44, 49, 51, 59, 66, 72, 74, 77, 88, 90, 92, 95, 101, 104, 105, 109, 112, 116, 119, 121, 122, 123, 126, 129, 134, 137, 141, 147, 150, 158, 162, 165, 167, 171, 173, 177, 178, 183, 186, 188, 190, 191, 192, 193, 197, 199, 202, 205, 209, 212, 214, 215, 217, 218, 219, 221, 222, 224, 226, 227, 228, 235, 244, 247, 250, 251, 255, 256, 257]\n",
    "clus_5 = [22, 23, 25, 76, 97, 115, 117, 124, 132, 149, 152, 154, 163, 172, 181, 196, 208, 220, 230, 238, 243, 245, 254]\n",
    "clus_6 = [10, 27, 42, 64, 71, 80, 96, 118, 130, 151, 168, 200, 240]\n",
    "clus_7 = [3,56, 60, 100, 106, 108, 160, 174]\n"
   ]
  },
  {
   "cell_type": "code",
   "execution_count": 14,
   "metadata": {},
   "outputs": [],
   "source": [
    "#biomarker = marker_CD45_panimmune\n",
    "#biomarker = marker_CD3_Tcells\n",
    "#biomarker = marker_CD20_Bcells\n",
    "#biomarker = marker_CD68_Macrophages\n",
    "\n",
    "\n",
    "#biomarker = marker_SMA\n",
    "#biomarker = marker_Vimentin\n",
    "\n",
    "\n",
    "#biomarker = marker_hypoxia\n",
    "#biomarker = marker_prolif\n",
    "#biomarker = marker_apop\n",
    "\n",
    "#### hormone receptor\n",
    "biomarker = np.sum(np.vstack((marker_er,marker_pr)), axis=0)\n",
    "\n",
    "\n",
    "\n",
    "####### mixture growth score\n",
    "#biomarker = np.sum(np.vstack((marker_pS6,marker_mTOR)), axis=0)\n",
    "\n",
    "\n",
    "####### mixture stromal score\n",
    "#biomarker = np.sum(np.vstack((marker_SMA,marker_Vimentin)), axis=0)\n",
    "\n",
    "\n",
    "####### mixture immune score\n",
    "#biomarker = np.sum(np.vstack((marker_CD45_panimmune, marker_CD3_Tcells, marker_CD20_Bcells,marker_CD68_Macrophages)), axis=0)"
   ]
  },
  {
   "cell_type": "code",
   "execution_count": 15,
   "metadata": {},
   "outputs": [],
   "source": [
    "bio_1 = biomarker[clus_1]\n",
    "bio_2 = biomarker[clus_2]\n",
    "bio_3 = biomarker[clus_3]\n",
    "bio_4 = biomarker[clus_4]\n",
    "bio_5 = biomarker[clus_5]\n",
    "bio_6 = biomarker[clus_6]\n",
    "bio_7 = biomarker[clus_7]\n",
    "## combine these different collections into a list\n",
    "data_to_plot = [bio_1, bio_2, bio_3, bio_4, bio_5, bio_6, bio_7]"
   ]
  },
  {
   "cell_type": "code",
   "execution_count": 16,
   "metadata": {},
   "outputs": [],
   "source": [
    "import seaborn as sns\n",
    "#sns.set_style(\"ticks\",{'axes.grid' : True})\n",
    "#sns.color_palette(\"dark\", 7)"
   ]
  },
  {
   "cell_type": "code",
   "execution_count": 17,
   "metadata": {},
   "outputs": [],
   "source": [
    "sns.set(rc={'figure.figsize':(8,5)})"
   ]
  },
  {
   "cell_type": "code",
   "execution_count": 18,
   "metadata": {},
   "outputs": [],
   "source": [
    "#score_name = 'Immune' \n",
    "#score_name = 'Stromal'\n",
    "#score_name = 'Hypoxia'\n",
    "#score_name = 'Proliferation'\n",
    "#score_name = 'Apoptosis'\n",
    "#score_name = 'Growth and Proliferation'\n",
    "#score_name = 'Growth'\n",
    "score_name = 'Hormone Receptor'"
   ]
  },
  {
   "cell_type": "code",
   "execution_count": 19,
   "metadata": {},
   "outputs": [],
   "source": [
    "# “box”, “quartile”, “point”, “stick”,"
   ]
  },
  {
   "cell_type": "code",
   "execution_count": 20,
   "metadata": {},
   "outputs": [
    {
     "data": {
      "text/plain": [
       "Text(0.5, 0, 'Cluster')"
      ]
     },
     "execution_count": 20,
     "metadata": {},
     "output_type": "execute_result"
    },
    {
     "data": {
      "image/png": "[encoded data removed]",
      "text/plain": [
       "<Figure size 576x360 with 1 Axes>"
      ]
     },
     "metadata": {},
     "output_type": "display_data"
    }
   ],
   "source": [
    "sns.set(font_scale = 1.2)\n",
    "ax = sns.violinplot(data=data_to_plot,cut=0,\n",
    "                    #scale='width',\n",
    "                    inner='points')\n",
    "\n",
    "#sns.set_context(\"paper\")\n",
    "#sns.despine(offset=10, trim=True)\n",
    "#ax.set_xticklabels(['Cluster 1','Cluster 2','Cluster 3','Cluster 4','Cluster 5','Cluster 6','Cluster 7'])\n",
    "ax.set_xticklabels(['1','2','3','4','5','6','7'],fontsize=16)\n",
    "ax.set_title(score_name+ ' score for the seven NMF-defined clusters', fontsize=16)\n",
    "ax.set_ylabel(score_name+' Score',fontsize=16)\n",
    "ax.set_xlabel('Cluster',fontsize=16)\n",
    "\n",
    "#sns.despine()\n",
    "#plt.grid()\n",
    "#plt.savefig('fig6_violin/Violin_'+score_name+'_.png', dpi=300, bbox_inches='tight')"
   ]
  },
  {
   "cell_type": "code",
   "execution_count": 21,
   "metadata": {},
   "outputs": [],
   "source": [
    "###### violii plots for derived features/"
   ]
  },
  {
   "cell_type": "code",
   "execution_count": 22,
   "metadata": {},
   "outputs": [],
   "source": [
    "import numpy as np\n",
    "import pandas as pd\n",
    "import time\n",
    "import random\n",
    "import os\n",
    "import matplotlib.pyplot as plt\n",
    "import seaborn as sns\n",
    "sns.set(rc={'figure.figsize':(8,5)})"
   ]
  },
  {
   "cell_type": "code",
   "execution_count": 24,
   "metadata": {},
   "outputs": [],
   "source": [
    "x1 = np.loadtxt(fname=\"Pydata/259p_clinical4.csv\",delimiter=\",\",skiprows=1)\n",
    "x2 = np.loadtxt(fname=\"Pydata/259p_phenotypic27.csv\",delimiter=\",\",skiprows=1)\n",
    "x3 = np.loadtxt(fname=\"Pydata/259p_micro273.csv\",delimiter=\",\",skiprows=1)\n",
    "x4 = np.loadtxt(fname=\"Pydata/259p_tumor105.csv\",delimiter=\",\",skiprows=1)\n"
   ]
  },
  {
   "cell_type": "code",
   "execution_count": 25,
   "metadata": {},
   "outputs": [
    {
     "name": "stdout",
     "output_type": "stream",
     "text": [
      "(259, 27)\n"
     ]
    }
   ],
   "source": [
    "x = x2\n",
    "\n",
    "x = x[:, (x != 0).any(axis=0)] # remove 5 features which are all zero\n",
    "\n",
    "\n",
    "\n",
    "print(x.shape)"
   ]
  },
  {
   "cell_type": "code",
   "execution_count": 26,
   "metadata": {},
   "outputs": [],
   "source": [
    "############ now include clusters indices\n",
    "####new cluster assignments 0-indexed\n",
    "clus_1 = [12, 28, 36, 53, 65, 70, 111, 114, 140, 153, 156, 175, 180, 185, 203, 207, 211, 229, 232, 233, 234, 236, 241]\n",
    "clus_2 = [0, 1, 6, 8, 16, 18, 20, 24, 26, 32, 33, 34, 37, 38, 39, 41, 45, 46, 48, 50, 52, 55, 57, 58, 61, 62, 68, 73, 81, 82, 85, 87, 89, 91, 98, 99, 120, 127, 131, 138, 144, 145, 146, 155, 157, 166, 170, 176, 182, 184, 187, 189, 195, 198, 201, 204, 206, 223, 225, 231, 237, 242, 248, 249, 258]\n",
    "clus_3 = [4, 5, 7, 11, 13, 14, 17, 19, 21, 30, 43, 47, 54, 63, 67, 69, 75, 78, 79, 83, 84, 86, 93, 94, 102, 103, 107, 110, 113, 125, 128, 133, 135, 136, 139, 142, 143, 148, 159, 161, 164, 169, 179, 194, 210, 213, 216, 239, 246, 252, 253]\n",
    "clus_4 = [2, 9, 15, 29, 31, 35, 40, 44, 49, 51, 59, 66, 72, 74, 77, 88, 90, 92, 95, 101, 104, 105, 109, 112, 116, 119, 121, 122, 123, 126, 129, 134, 137, 141, 147, 150, 158, 162, 165, 167, 171, 173, 177, 178, 183, 186, 188, 190, 191, 192, 193, 197, 199, 202, 205, 209, 212, 214, 215, 217, 218, 219, 221, 222, 224, 226, 227, 228, 235, 244, 247, 250, 251, 255, 256, 257]\n",
    "clus_5 = [22, 23, 25, 76, 97, 115, 117, 124, 132, 149, 152, 154, 163, 172, 181, 196, 208, 220, 230, 238, 243, 245, 254]\n",
    "clus_6 = [10, 27, 42, 64, 71, 80, 96, 118, 130, 151, 168, 200, 240]\n",
    "clus_7 = [3,56, 60, 100, 106, 108, 160, 174]\n"
   ]
  },
  {
   "cell_type": "code",
   "execution_count": 30,
   "metadata": {},
   "outputs": [],
   "source": [
    "#### 27 phenotypic features\n",
    "fnames = pd.read_csv('./Pydata/259p_phenotypic27.csv').columns"
   ]
  },
  {
   "cell_type": "code",
   "execution_count": 44,
   "metadata": {},
   "outputs": [],
   "source": [
    "# ###### 273 microenvironment interaction features\n",
    "# temp = pd.read_csv(d_path+\"data/259p_micro273.csv\")\n",
    "# temp = temp.loc[:, (temp != 0).any(axis=0)]\n",
    "# fnames = temp.columns"
   ]
  },
  {
   "cell_type": "code",
   "execution_count": 39,
   "metadata": {},
   "outputs": [],
   "source": [
    "# ######\n",
    "# temp = pd.read_csv(d_path+\"data/259p_tumor105.csv\")\n",
    "# temp = temp.loc[:, (temp != 0).any(axis=0)]\n",
    "# fnames = temp.columns"
   ]
  },
  {
   "cell_type": "code",
   "execution_count": 31,
   "metadata": {},
   "outputs": [
    {
     "data": {
      "text/plain": [
       "Index(['B_Cell_1', 'T_B_Cells', 'T_Cell_1', 'Macrophage_1', 'T_Cell_2',\n",
       "       'Macrophage_2', 'Endothelial', 'Vimentin-hi', 'Small_Circular',\n",
       "       'Small_Elongated', 'Fibronectin-hi', 'Large_Elongated',\n",
       "       'SMA_hi_Vimentin', 'Hypoxic', 'Apoptotic', 'Proliferative',\n",
       "       'p53+_EGFR+', 'Basal_CK', 'CK7+_CKhi_Cadherin', 'CK7+_CK+',\n",
       "       'Epithelial-low', 'CK-low_HR-low', 'CK+_HR-hi', 'CK+_HR+',\n",
       "       'CK_HRlow_p53+', 'Cklow_HR-hi', 'Myoepithelial'],\n",
       "      dtype='object')"
      ]
     },
     "execution_count": 31,
     "metadata": {},
     "output_type": "execute_result"
    }
   ],
   "source": [
    "fnames"
   ]
  },
  {
   "cell_type": "code",
   "execution_count": 35,
   "metadata": {},
   "outputs": [
    {
     "name": "stderr",
     "output_type": "stream",
     "text": [
      "100%|██████████| 27/27 [00:14<00:00,  1.87it/s]\n"
     ]
    },
    {
     "data": {
      "text/plain": [
       "<Figure size 576x360 with 0 Axes>"
      ]
     },
     "metadata": {},
     "output_type": "display_data"
    }
   ],
   "source": [
    "### LOOP\n",
    "for i in tqdm(range(len(fnames))):\n",
    "    biomarker = x[:,i]\n",
    "    bio_1 = biomarker[clus_1]\n",
    "    bio_2 = biomarker[clus_2]\n",
    "    bio_3 = biomarker[clus_3]\n",
    "    bio_4 = biomarker[clus_4]\n",
    "    bio_5 = biomarker[clus_5]\n",
    "    bio_6 = biomarker[clus_6]\n",
    "    bio_7 = biomarker[clus_7]\n",
    "    ## combine these different collections into a list\n",
    "    data_to_plot = [bio_1, bio_2, bio_3, bio_4, bio_5, bio_6, bio_7]\n",
    "    \n",
    "    score_name = fnames[i]\n",
    "    #print(score_name)\n",
    "               \n",
    "    sns.set(font_scale = 1.2)\n",
    "    ax = sns.violinplot(data=data_to_plot,cut=0,\n",
    "                        scale='width',\n",
    "                        inner='points')\n",
    "\n",
    "    #sns.set_context(\"paper\")\n",
    "    #sns.despine(offset=10, trim=True)\n",
    "    ax.set_xticklabels(['1','2','3','4','5','6','7'],fontsize=16)\n",
    "    ax.set_title(score_name+ ' score for the seven NMF-defined clusters', fontsize=16)\n",
    "    ax.set_ylabel(score_name+' Score',fontsize=16)\n",
    "    ax.set_xlabel('Cluster',fontsize=16)\n",
    "\n",
    "    #sns.despine()\n",
    "    #plt.grid()\n",
    "    plt.savefig('./fig6_violin/phen27_1/Violin_'+score_name+'_.png', dpi=300, bbox_inches='tight')\n",
    "    #plt.savefig('fig6_violin/micro268_1/Violin_'+score_name+'_.png', dpi=300, bbox_inches='tight')\n",
    "    #plt.savefig('fig6_violin/tumor105_1/Violin_'+score_name+'_.png', dpi=300, bbox_inches='tight')\n",
    "    plt.clf()"
   ]
  },
  {
   "cell_type": "code",
   "execution_count": null,
   "metadata": {},
   "outputs": [],
   "source": []
  }
 ],
 "metadata": {
  "kernelspec": {
   "display_name": "Python 3",
   "language": "python",
   "name": "python3"
  },
  "language_info": {
   "codemirror_mode": {
    "name": "ipython",
    "version": 3
   },
   "file_extension": ".py",
   "mimetype": "text/x-python",
   "name": "python",
   "nbconvert_exporter": "python",
   "pygments_lexer": "ipython3",
   "version": "3.7.3"
  }
 },
 "nbformat": 4,
 "nbformat_minor": 4
}
