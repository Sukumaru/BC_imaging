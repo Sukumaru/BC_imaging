{
 "cells": [
  {
   "cell_type": "code",
   "execution_count": 2,
   "metadata": {},
   "outputs": [],
   "source": [
    "import dill\n",
    "import numpy as np"
   ]
  },
  {
   "cell_type": "code",
   "execution_count": 3,
   "metadata": {},
   "outputs": [],
   "source": [
    "## feature names\n",
    "f_pheno = ['B_Cell_1','T_B_Cells','T_Cell_1','Macrophage_1','T_Cell_2','Macrophage_2','Endothelial','Vimentin-hi','Small_Circular','Small_Elongated','Fibronectin-hi','Large_Elongated','SMA_hi_Vimentin','Hypoxic','Apoptotic','Proliferative','p53+_EGFR+','Basal_CK','CK7+_CKhi_Cadherin','CK7+_CK+','Epithelial-low','CK-low_HR-low','CK+_HR-hi','CK+_HR+','CK_HRlow_p53+','Cklow_HR-hi','Myoepithelial']\n",
    "f_micro = ['B_Cell___T_B_Cells','B_Cell___T_Cell','B_Cell___Macrophage','B_Cell___T_Cell.1','B_Cell___Macrophage.1','B_Cell___Endothelial','B_Cell___Vimentin-hi','B_Cell___Small_Circular','B_Cell___Small_Elongated','B_Cell___Fibronectin-hi','B_Cell___Large_Elongated','B_Cell___SMA_hi_Vimentin','B_Cell___Hypoxic','B_Cell___Apoptotic','B_Cell___Proliferative','B_Cell___p53+_EGFR+','B_Cell___Basal_CK','B_Cell___CK7+_CKhi_Cadherin','B_Cell___CK7+_CK+','B_Cell___Epithelial-low','B_Cell___CK-low_HR-low','B_Cell___CK+_HR-hi','B_Cell___CK+_HR+','B_Cell___CK_HRlow_p53+','B_Cell___CKlow_HR-hi','B_Cell___Myoepithelial','T_B_Cells___T_Cell','T_B_Cells___Macrophage','T_B_Cells___T_Cell.1','T_B_Cells___Macrophage.1','T_B_Cells___Endothelial','T_B_Cells___Vimentin-hi','T_B_Cells___Small_Circular','T_B_Cells___Small_Elongated','T_B_Cells___Fibronectin-hi','T_B_Cells___Large_Elongated','T_B_Cells___SMA_hi_Vimentin','T_B_Cells___Hypoxic','T_B_Cells___Apoptotic','T_B_Cells___Proliferative','T_B_Cells___p53+_EGFR+','T_B_Cells___Basal_CK','T_B_Cells___CK7+_CKhi_Cadherin','T_B_Cells___CK7+_CK+','T_B_Cells___Epithelial-low','T_B_Cells___CK-low_HR-low','T_B_Cells___CK+_HR-hi','T_B_Cells___CK+_HR+','T_B_Cells___CK_HRlow_p53+','T_B_Cells___CKlow_HR-hi','T_B_Cells___Myoepithelial','T_Cell___Macrophage','T_Cell___T_Cell','T_Cell___Macrophage.1','T_Cell___Endothelial','T_Cell___Vimentin-hi','T_Cell___Small_Circular','T_Cell___Small_Elongated','T_Cell___Fibronectin-hi','T_Cell___Large_Elongated','T_Cell___SMA_hi_Vimentin','T_Cell___Hypoxic','T_Cell___Apoptotic','T_Cell___Proliferative','T_Cell___p53+_EGFR+','T_Cell___Basal_CK','T_Cell___CK7+_CKhi_Cadherin','T_Cell___CK7+_CK+','T_Cell___Epithelial-low','T_Cell___CK-low_HR-low','T_Cell___CK+_HR-hi','T_Cell___CK+_HR+','T_Cell___CK_HRlow_p53+','T_Cell___CKlow_HR-hi','T_Cell___Myoepithelial','Macrophage___T_Cell','Macrophage___Macrophage','Macrophage___Endothelial','Macrophage___Vimentin-hi','Macrophage___Small_Circular','Macrophage___Small_Elongated','Macrophage___Fibronectin-hi','Macrophage___Large_Elongated','Macrophage___SMA_hi_Vimentin','Macrophage___Hypoxic','Macrophage___Apoptotic','Macrophage___Proliferative','Macrophage___p53+_EGFR+','Macrophage___Basal_CK','Macrophage___CK7+_CKhi_Cadherin','Macrophage___CK7+_CK+','Macrophage___Epithelial-low','Macrophage___CK-low_HR-low','Macrophage___CK+_HR-hi','Macrophage___CK+_HR+','Macrophage___CK_HRlow_p53+','Macrophage___CKlow_HR-hi','Macrophage___Myoepithelial','T_Cell___Macrophage.2','T_Cell___Endothelial.1','T_Cell___Vimentin-hi.1','T_Cell___Small_Circular.1','T_Cell___Small_Elongated.1','T_Cell___Fibronectin-hi.1','T_Cell___Large_Elongated.1','T_Cell___SMA_hi_Vimentin.1','T_Cell___Hypoxic.1','T_Cell___Apoptotic.1','T_Cell___Proliferative.1','T_Cell___p53+_EGFR+.1','T_Cell___Basal_CK.1','T_Cell___CK7+_CKhi_Cadherin.1','T_Cell___CK7+_CK+.1','T_Cell___Epithelial-low.1','T_Cell___CK-low_HR-low.1','T_Cell___CK+_HR-hi.1','T_Cell___CK+_HR+.1','T_Cell___CK_HRlow_p53+.1','T_Cell___CKlow_HR-hi.1','T_Cell___Myoepithelial.1','Macrophage___Endothelial.1','Macrophage___Vimentin-hi.1','Macrophage___Small_Circular.1','Macrophage___Small_Elongated.1','Macrophage___Fibronectin-hi.1','Macrophage___SMA_hi_Vimentin.1','Macrophage___Apoptotic.1','Macrophage___Proliferative.1','Macrophage___p53+_EGFR+.1','Macrophage___Basal_CK.1','Macrophage___CK7+_CK+.1','Macrophage___Epithelial-low.1','Macrophage___CK-low_HR-low.1','Macrophage___CK+_HR-hi.1','Macrophage___CK+_HR+.1','Macrophage___CK_HRlow_p53+.1','Macrophage___CKlow_HR-hi.1','Macrophage___Myoepithelial.1','Endothelial___Vimentin-hi','Endothelial___Small_Circular','Endothelial___Small_Elongated','Endothelial___Fibronectin-hi','Endothelial___Large_Elongated','Endothelial___SMA_hi_Vimentin','Endothelial___Hypoxic','Endothelial___Apoptotic','Endothelial___Proliferative','Endothelial___p53+_EGFR+','Endothelial___Basal_CK','Endothelial___CK7+_CKhi_Cadherin','Endothelial___CK7+_CK+','Endothelial___Epithelial-low','Endothelial___CK-low_HR-low','Endothelial___CK+_HR-hi','Endothelial___CK+_HR+','Endothelial___CK_HRlow_p53+','Endothelial___CKlow_HR-hi','Endothelial___Myoepithelial','Vimentin-hi___Small_Circular','Vimentin-hi___Small_Elongated','Vimentin-hi___Fibronectin-hi','Vimentin-hi___Large_Elongated','Vimentin-hi___SMA_hi_Vimentin','Vimentin-hi___Hypoxic','Vimentin-hi___Apoptotic','Vimentin-hi___Proliferative','Vimentin-hi___p53+_EGFR+','Vimentin-hi___Basal_CK','Vimentin-hi___CK7+_CKhi_Cadherin','Vimentin-hi___CK7+_CK+','Vimentin-hi___Epithelial-low','Vimentin-hi___CK-low_HR-low','Vimentin-hi___CK+_HR-hi','Vimentin-hi___CK+_HR+','Vimentin-hi___CK_HRlow_p53+','Vimentin-hi___CKlow_HR-hi','Vimentin-hi___Myoepithelial','Small_Circular___Small_Elongated','Small_Circular___Fibronectin-hi','Small_Circular___Large_Elongated','Small_Circular___SMA_hi_Vimentin','Small_Circular___Hypoxic','Small_Circular___Apoptotic','Small_Circular___Proliferative','Small_Circular___p53+_EGFR+','Small_Circular___Basal_CK','Small_Circular___CK7+_CKhi_Cadherin','Small_Circular___CK7+_CK+','Small_Circular___Epithelial-low','Small_Circular___CK-low_HR-low','Small_Circular___CK+_HR-hi','Small_Circular___CK+_HR+','Small_Circular___CK_HRlow_p53+','Small_Circular___CKlow_HR-hi','Small_Circular___Myoepithelial','Small_Elongated___Fibronectin-hi','Small_Elongated___Large_Elongated','Small_Elongated___SMA_hi_Vimentin','Small_Elongated___Hypoxic','Small_Elongated___Apoptotic','Small_Elongated___Proliferative','Small_Elongated___p53+_EGFR+','Small_Elongated___Basal_CK','Small_Elongated___CK7+_CKhi_Cadherin','Small_Elongated___CK7+_CK+','Small_Elongated___Epithelial-low','Small_Elongated___CK-low_HR-low','Small_Elongated___CK+_HR-hi','Small_Elongated___CK+_HR+','Small_Elongated___CK_HRlow_p53+','Small_Elongated___CKlow_HR-hi','Small_Elongated___Myoepithelial','Fibronectin-hi___Large_Elongated','Fibronectin-hi___SMA_hi_Vimentin','Fibronectin-hi___Hypoxic','Fibronectin-hi___Apoptotic','Fibronectin-hi___Proliferative','Fibronectin-hi___p53+_EGFR+','Fibronectin-hi___Basal_CK','Fibronectin-hi___CK7+_CKhi_Cadherin','Fibronectin-hi___CK7+_CK+','Fibronectin-hi___Epithelial-low','Fibronectin-hi___CK-low_HR-low','Fibronectin-hi___CK+_HR-hi','Fibronectin-hi___CK+_HR+','Fibronectin-hi___CK_HRlow_p53+','Fibronectin-hi___CKlow_HR-hi','Fibronectin-hi___Myoepithelial','Large_Elongated___SMA_hi_Vimentin','Large_Elongated___Hypoxic','Large_Elongated___Apoptotic','Large_Elongated___Proliferative','Large_Elongated___p53+_EGFR+','Large_Elongated___Basal_CK','Large_Elongated___CK7+_CKhi_Cadherin','Large_Elongated___CK7+_CK+','Large_Elongated___Epithelial-low','Large_Elongated___CK-low_HR-low','Large_Elongated___CK+_HR-hi','Large_Elongated___CK+_HR+','Large_Elongated___CK_HRlow_p53+','Large_Elongated___CKlow_HR-hi','SMA_hi_Vimentin___Hypoxic','SMA_hi_Vimentin___Apoptotic','SMA_hi_Vimentin___Proliferative','SMA_hi_Vimentin___p53+_EGFR+','SMA_hi_Vimentin___Basal_CK','SMA_hi_Vimentin___CK7+_CKhi_Cadherin','SMA_hi_Vimentin___CK7+_CK+','SMA_hi_Vimentin___Epithelial-low','SMA_hi_Vimentin___CK-low_HR-low','SMA_hi_Vimentin___CK+_HR-hi','SMA_hi_Vimentin___CK+_HR+','SMA_hi_Vimentin___CK_HRlow_p53+','SMA_hi_Vimentin___CKlow_HR-hi','SMA_hi_Vimentin___Myoepithelial','B_Cell___B_Cell','T_B_Cells___T_B_Cells','T_Cell___T_Cell.1','Macrophage___Macrophage.1','T_Cell___T_Cell.2','Macrophage___Macrophage.2','Endothelial___Endothelial','Vimentin-hi___Vimentin-hi','Small_Circular___Small_Circular','Small_Elongated___Small_Elongated','Fibronectin-hi___Fibronectin-hi','SMA_hi_Vimentin___SMA_hi_Vimentin']\n",
    "f_tumor = ['Hypoxic___Apoptotic','Hypoxic___Proliferative','Hypoxic___p53+_EGFR+','Hypoxic___Basal_CK','Hypoxic___CK7+_CKhi_Cadherin','Hypoxic___CK7+_CK+','Hypoxic___Epithelial-low','Hypoxic___CK-low_HR-low','Hypoxic___CK+_HR-hi','Hypoxic___CK+_HR+','Hypoxic___CK_HRlow_p53+','Hypoxic___CKlow_HR-hi','Hypoxic___Myoepithelial','Apoptotic___Proliferative','Apoptotic___p53+_EGFR+','Apoptotic___Basal_CK','Apoptotic___CK7+_CKhi_Cadherin','Apoptotic___CK7+_CK+','Apoptotic___Epithelial-low','Apoptotic___CK-low_HR-low','Apoptotic___CK+_HR-hi','Apoptotic___CK+_HR+','Apoptotic___CK_HRlow_p53+','Apoptotic___CKlow_HR-hi','Apoptotic___Myoepithelial','Proliferative___p53+_EGFR+','Proliferative___Basal_CK','Proliferative___CK7+_CKhi_Cadherin','Proliferative___CK7+_CK+','Proliferative___Epithelial-low','Proliferative___CK-low_HR-low','Proliferative___CK+_HR-hi','Proliferative___CK+_HR+','Proliferative___CK_HRlow_p53+','Proliferative___CKlow_HR-hi','Proliferative___Myoepithelial','p53+_EGFR+___Basal_CK','p53+_EGFR+___CK7+_CKhi_Cadherin','p53+_EGFR+___CK7+_CK+','p53+_EGFR+___Epithelial-low','p53+_EGFR+___CK-low_HR-low','p53+_EGFR+___CK+_HR-hi','p53+_EGFR+___CK+_HR+','p53+_EGFR+___CK_HRlow_p53+','p53+_EGFR+___CKlow_HR-hi','p53+_EGFR+___Myoepithelial','Basal_CK___CK7+_CKhi_Cadherin','Basal_CK___CK7+_CK+','Basal_CK___Epithelial-low','Basal_CK___CK-low_HR-low','Basal_CK___CK+_HR-hi','Basal_CK___CK+_HR+','Basal_CK___CK_HRlow_p53+','Basal_CK___CKlow_HR-hi','Basal_CK___Myoepithelial','CK7+_CKhi_Cadherin___CK7+_CK+','CK7+_CKhi_Cadherin___Epithelial-low','CK7+_CKhi_Cadherin___CK-low_HR-low','CK7+_CKhi_Cadherin___CK+_HR-hi','CK7+_CKhi_Cadherin___CK+_HR+','CK7+_CKhi_Cadherin___CK_HRlow_p53+','CK7+_CKhi_Cadherin___CKlow_HR-hi','CK7+_CKhi_Cadherin___Myoepithelial','CK7+_CK+___Epithelial-low','CK7+_CK+___CK-low_HR-low','CK7+_CK+___CK+_HR-hi','CK7+_CK+___CK+_HR+','CK7+_CK+___CK_HRlow_p53+','CK7+_CK+___CKlow_HR-hi','CK7+_CK+___Myoepithelial','Epithelial-low___CK-low_HR-low','Epithelial-low___CK+_HR-hi','Epithelial-low___CK+_HR+','Epithelial-low___CK_HRlow_p53+','Epithelial-low___CKlow_HR-hi','Epithelial-low___Myoepithelial','CK-low_HR-low___CK+_HR-hi','CK-low_HR-low___CK+_HR+','CK-low_HR-low___CK_HRlow_p53+','CK-low_HR-low___CKlow_HR-hi','CK-low_HR-low___Myoepithelial','CK+_HR-hi___CK+_HR+','CK+_HR-hi___CK_HRlow_p53+','CK+_HR-hi___CKlow_HR-hi','CK+_HR-hi___Myoepithelial','CK+_HR+___CK_HRlow_p53+','CK+_HR+___CKlow_HR-hi','CK+_HR+___Myoepithelial','CK_HRlow_p53+___CKlow_HR-hi','CK_HRlow_p53+___Myoepithelial','CKlow_HR-hi___Myoepithelial','Hypoxic___Hypoxic','Apoptotic___Apoptotic','Proliferative___Proliferative','p53+_EGFR+___p53+_EGFR+','Basal_CK___Basal_CK','CK7+_CKhi_Cadherin___CK7+_CKhi_Cadherin','CK7+_CK+___CK7+_CK+','Epithelial-low___Epithelial-low','CK-low_HR-low___CK-low_HR-low','CK+_HR-hi___CK+_HR-hi','CK+_HR+___CK+_HR+','CK_HRlow_p53+___CK_HRlow_p53+','CKlow_HR-hi___CKlow_HR-hi','Myoepithelial___Myoepithelial']"
   ]
  },
  {
   "cell_type": "code",
   "execution_count": 4,
   "metadata": {},
   "outputs": [],
   "source": [
    "hid_imp = [7.465, 0.001, 4.767, 0.0, 3.79, 0.0, 0.0, 0.0, 0.001, 0.0, 0.002, 0.001, 0.0, 0.001, 0.0, 21.23, 0.002, 0.0, 0.001, 0.0, 0.001, 0.0, 0.001, 6.57, 0.0, 0.001, 0.0, 0.0, 0.001, 0.0, 0.0, 0.001, 0.0, 0.0]"
   ]
  },
  {
   "cell_type": "code",
   "execution_count": 5,
   "metadata": {},
   "outputs": [
    {
     "name": "stdout",
     "output_type": "stream",
     "text": [
      "hpheno_imp [7.465e+00 1.000e-03 4.767e+00 0.000e+00 3.790e+00 0.000e+00]\n",
      "hmicro_imp [0.000e+00 0.000e+00 1.000e-03 0.000e+00 2.000e-03 1.000e-03 0.000e+00\n",
      " 1.000e-03 0.000e+00 2.123e+01 2.000e-03 0.000e+00 1.000e-03 0.000e+00\n",
      " 1.000e-03 0.000e+00 1.000e-03]\n",
      "htumor_imp [6.57e+00 0.00e+00 1.00e-03 0.00e+00 0.00e+00 1.00e-03 0.00e+00 0.00e+00\n",
      " 1.00e-03 0.00e+00 0.00e+00]\n"
     ]
    }
   ],
   "source": [
    "hpheno_imp = np.asarray(hid_imp[0:6],dtype=np.float32)\n",
    "hmicro_imp = np.asarray(hid_imp[6:23],dtype=np.float32)\n",
    "htumor_imp = np.asarray(hid_imp[23:],dtype=np.float32)\n",
    "print('hpheno_imp',hpheno_imp)\n",
    "print('hmicro_imp',hmicro_imp)\n",
    "print('htumor_imp',htumor_imp)"
   ]
  },
  {
   "cell_type": "code",
   "execution_count": 8,
   "metadata": {},
   "outputs": [
    {
     "name": "stderr",
     "output_type": "stream",
     "text": [
      "WARNING (theano.tensor.blas): Using NumPy C-API based implementation for BLAS functions.\n"
     ]
    }
   ],
   "source": [
    "#file_name = 'BRCA_cindex_pheno_0.672.pkl'\n",
    "#file_name = 'BRCA_cindex_micro_0.675.pkl'\n",
    "file_name = 'BRCA_cindex_tumor_0.708.pkl'\n",
    "\n",
    "f = open(file_name, 'rb')\n",
    "W,b, node_map, input_split, n_samples, x_train, rng = dill.load(f)\n",
    "f.close()\n",
    "    \n",
    "#W_h = list(W)[0] #shape feature x hidden layer size\n",
    "#b_h = list(b)[0] #hidden layer size x 1\n",
    "\n",
    "\n",
    "\n",
    "#Out_h = numpy.dot(data,W_h) + b_h\n",
    "\n"
   ]
  },
  {
   "cell_type": "code",
   "execution_count": 9,
   "metadata": {},
   "outputs": [],
   "source": [
    "weights = list(W)"
   ]
  },
  {
   "cell_type": "code",
   "execution_count": 10,
   "metadata": {},
   "outputs": [],
   "source": [
    "weights = weights[0]"
   ]
  },
  {
   "cell_type": "code",
   "execution_count": 11,
   "metadata": {},
   "outputs": [
    {
     "name": "stdout",
     "output_type": "stream",
     "text": [
      "[[-8.47850396e-02  4.34309145e-03  5.70821340e-03 ... -3.33329729e-03\n",
      "   3.62215674e-03 -1.93928833e-03]\n",
      " [-2.95288241e-02  4.31268398e-04 -1.32599936e-03 ...  3.38926310e-03\n",
      "  -1.37841291e-03 -8.46843871e-05]\n",
      " [ 1.41794753e-02  1.73830882e-03  1.43914064e-03 ... -4.41483100e-03\n",
      "  -2.78115406e-03 -1.86609203e-03]\n",
      " ...\n",
      " [ 8.32672197e-03  3.29398501e-03 -3.29214898e-03 ... -4.20959468e-03\n",
      "   2.39077692e-04 -3.19061624e-03]\n",
      " [ 1.33774078e-01 -4.99752138e-03 -5.44299045e-03 ...  8.49721697e-05\n",
      "   4.42965127e-03  3.36682436e-03]\n",
      " [ 4.57469746e-02  6.95678095e-04  3.70756531e-03 ...  4.71145137e-03\n",
      "  -4.60734799e-03 -3.30060120e-03]]\n",
      "(105, 11)\n"
     ]
    }
   ],
   "source": [
    "print(weights)\n",
    "print(weights.shape)"
   ]
  },
  {
   "cell_type": "code",
   "execution_count": 12,
   "metadata": {},
   "outputs": [],
   "source": [
    "#orig_importance = np.dot(weights,hpheno_imp)\n",
    "#orig_importance = np.dot(weights,hmicro_imp)\n",
    "orig_importance = np.dot(weights,htumor_imp)\n"
   ]
  },
  {
   "cell_type": "code",
   "execution_count": 13,
   "metadata": {},
   "outputs": [
    {
     "data": {
      "text/plain": [
       "array([93, 73, 86,  9, 77])"
      ]
     },
     "execution_count": 13,
     "metadata": {},
     "output_type": "execute_result"
    }
   ],
   "source": [
    "(-orig_importance).argsort()[:5]"
   ]
  },
  {
   "cell_type": "code",
   "execution_count": 14,
   "metadata": {},
   "outputs": [
    {
     "data": {
      "text/plain": [
       "'CK-low_HR-low___CK+_HR+'"
      ]
     },
     "execution_count": 14,
     "metadata": {},
     "output_type": "execute_result"
    }
   ],
   "source": [
    "f_tumor[77]"
   ]
  },
  {
   "cell_type": "code",
   "execution_count": 15,
   "metadata": {},
   "outputs": [
    {
     "name": "stdout",
     "output_type": "stream",
     "text": [
      "1 Hypoxic___Proliferative -0.1939976763112511\n",
      "2 Hypoxic___p53+_EGFR+ 0.0931585633180023\n",
      "3 Hypoxic___Basal_CK 0.3207126971482619\n",
      "4 Hypoxic___CK7+_CKhi_Cadherin 0.7989469908286799\n",
      "5 Hypoxic___CK7+_CK+ 0.9516421112483421\n",
      "6 Hypoxic___Epithelial-low 1.3317827304181382\n",
      "7 Hypoxic___CK-low_HR-low -0.1481163646389912\n",
      "8 Hypoxic___CK+_HR-hi 0.05332175359818489\n",
      "9 Hypoxic___CK+_HR+ 1.567615587579571\n",
      "10 Hypoxic___CK_HRlow_p53+ -0.23877116606883622\n",
      "11 Hypoxic___CKlow_HR-hi 0.6307127704404597\n",
      "12 Hypoxic___Myoepithelial -0.14419254115933372\n",
      "13 Apoptotic___Proliferative -0.1509089677831599\n",
      "14 Apoptotic___p53+_EGFR+ -0.9004170060491117\n",
      "15 Apoptotic___Basal_CK -0.8444953762126797\n",
      "16 Apoptotic___CK7+_CKhi_Cadherin -0.6811364927740583\n",
      "17 Apoptotic___CK7+_CK+ -0.7382588695481196\n",
      "18 Apoptotic___Epithelial-low -0.42036537333804574\n",
      "19 Apoptotic___CK-low_HR-low 0.9893536092156117\n",
      "20 Apoptotic___CK+_HR-hi 0.7450174986287255\n",
      "21 Apoptotic___CK+_HR+ -0.32608723916163446\n",
      "22 Apoptotic___CK_HRlow_p53+ -0.4083809521199474\n",
      "23 Apoptotic___CKlow_HR-hi -0.10031442929284477\n",
      "24 Apoptotic___Myoepithelial 0.5456991679508223\n",
      "25 Proliferative___p53+_EGFR+ 0.19611704524409096\n",
      "26 Proliferative___Basal_CK 1.3856057215706867\n",
      "27 Proliferative___CK7+_CKhi_Cadherin 0.040190590298125946\n",
      "28 Proliferative___CK7+_CK+ -0.38735816906720155\n",
      "29 Proliferative___Epithelial-low 0.9909185947837994\n",
      "30 Proliferative___CK-low_HR-low -1.0253173396142103\n",
      "31 Proliferative___CK+_HR-hi 0.1974188863796526\n",
      "32 Proliferative___CK+_HR+ 0.4070749072563884\n",
      "33 Proliferative___CK_HRlow_p53+ 0.20449731346154498\n",
      "34 Proliferative___CKlow_HR-hi 1.3068721575706317\n",
      "35 Proliferative___Myoepithelial 1.2879945454911659\n",
      "36 p53+_EGFR+___Basal_CK 0.6116185654763916\n",
      "37 p53+_EGFR+___CK7+_CKhi_Cadherin -0.17719052900330956\n",
      "38 p53+_EGFR+___CK7+_CK+ 0.8992593597229341\n",
      "39 p53+_EGFR+___Epithelial-low 0.7339438551457532\n",
      "40 p53+_EGFR+___CK-low_HR-low 0.1673836286985626\n",
      "41 p53+_EGFR+___CK+_HR-hi -0.24708471149879566\n",
      "42 p53+_EGFR+___CK+_HR+ 0.31743257674702413\n",
      "43 p53+_EGFR+___CK_HRlow_p53+ 0.36484590511481535\n",
      "44 p53+_EGFR+___CKlow_HR-hi 0.4089007305428202\n",
      "45 p53+_EGFR+___Myoepithelial 0.8363118165177359\n",
      "46 Basal_CK___CK7+_CKhi_Cadherin 1.4442521995150026\n",
      "47 Basal_CK___CK7+_CK+ -0.07914962556554417\n",
      "48 Basal_CK___Epithelial-low -1.312951042248788\n",
      "49 Basal_CK___CK-low_HR-low -0.9514246277734986\n",
      "50 Basal_CK___CK+_HR-hi -1.4798868978606265\n",
      "51 Basal_CK___CK+_HR+ 0.02453409348809982\n",
      "52 Basal_CK___CK_HRlow_p53+ 0.6212650745768854\n",
      "53 Basal_CK___CKlow_HR-hi 0.008817876405814896\n",
      "54 Basal_CK___Myoepithelial 0.8980034416679747\n",
      "55 CK7+_CKhi_Cadherin___CK7+_CK+ 0.06561696180409536\n",
      "56 CK7+_CKhi_Cadherin___Epithelial-low -0.7123377518161859\n",
      "57 CK7+_CKhi_Cadherin___CK-low_HR-low 0.16831300910558775\n",
      "58 CK7+_CKhi_Cadherin___CK+_HR-hi -0.03866116607200102\n",
      "59 CK7+_CKhi_Cadherin___CK+_HR+ 0.14241748131002663\n",
      "60 CK7+_CKhi_Cadherin___CK_HRlow_p53+ 0.13111048821748242\n",
      "61 CK7+_CKhi_Cadherin___CKlow_HR-hi -0.858082235106314\n",
      "62 CK7+_CKhi_Cadherin___Myoepithelial 0.5156723492165788\n",
      "63 CK7+_CK+___Epithelial-low -2.001265277903205\n",
      "64 CK7+_CK+___CK-low_HR-low 0.12853158535721684\n",
      "65 CK7+_CK+___CK+_HR-hi -0.1721648829552858\n",
      "66 CK7+_CK+___CK+_HR+ 0.1558359076477675\n",
      "67 CK7+_CK+___CK_HRlow_p53+ -1.6150229248948107\n",
      "68 CK7+_CK+___CKlow_HR-hi -0.18357596287717468\n",
      "69 CK7+_CK+___Myoepithelial 0.3951708823093327\n",
      "70 Epithelial-low___CK-low_HR-low 0.3911351311380274\n",
      "71 Epithelial-low___CK+_HR-hi 0.8767947699082868\n",
      "72 Epithelial-low___CK+_HR+ 0.45883930915733845\n",
      "73 Epithelial-low___CK_HRlow_p53+ 1.9280125113377238\n",
      "74 Epithelial-low___CKlow_HR-hi 0.36920473087192723\n",
      "75 Epithelial-low___Myoepithelial 0.6181487766144619\n",
      "76 CK-low_HR-low___CK+_HR-hi 0.37415671084524316\n",
      "77 CK-low_HR-low___CK+_HR+ 1.4741362490807215\n",
      "78 CK-low_HR-low___CK_HRlow_p53+ -1.6939174185393107\n",
      "79 CK-low_HR-low___CKlow_HR-hi 1.1450070032123227\n",
      "80 CK-low_HR-low___Myoepithelial -0.43776891139941776\n",
      "81 CK+_HR-hi___CK+_HR+ -1.256172297759738\n",
      "82 CK+_HR-hi___CK_HRlow_p53+ -0.7838071670656145\n",
      "83 CK+_HR-hi___CKlow_HR-hi 1.0675590190865438\n",
      "84 CK+_HR-hi___Myoepithelial 0.4679817062038864\n",
      "85 CK+_HR+___CK_HRlow_p53+ -3.361652908812083\n",
      "86 CK+_HR+___CKlow_HR-hi 1.572634510220767\n",
      "87 CK+_HR+___Myoepithelial 1.2792540944787614\n",
      "88 CK_HRlow_p53+___CKlow_HR-hi 0.5013424851384896\n",
      "89 CK_HRlow_p53+___Myoepithelial -0.10817007921549625\n",
      "90 CKlow_HR-hi___Myoepithelial 0.18128589964058361\n",
      "91 Hypoxic___Hypoxic 0.36294889069422065\n",
      "92 Apoptotic___Apoptotic -0.7133122075360648\n",
      "93 Proliferative___Proliferative 2.7355104821364358\n",
      "94 p53+_EGFR+___p53+_EGFR+ 0.43916091403298635\n",
      "95 Basal_CK___Basal_CK 0.26404664588827587\n",
      "96 CK7+_CKhi_Cadherin___CK7+_CKhi_Cadherin -0.3973664843819173\n",
      "97 CK7+_CK+___CK7+_CK+ -1.5723008440037405\n",
      "98 Epithelial-low___Epithelial-low 1.2675900637644641\n",
      "99 CK-low_HR-low___CK-low_HR-low 1.0196376758775048\n",
      "100 CK+_HR-hi___CK+_HR-hi -0.4904335180485855\n",
      "101 CK+_HR+___CK+_HR+ 0.4064903866282078\n",
      "102 CK_HRlow_p53+___CK_HRlow_p53+ 0.054694570263879756\n",
      "103 CKlow_HR-hi___CKlow_HR-hi 0.8788865846205046\n",
      "104 Myoepithelial___Myoepithelial 0.30056934062924423\n"
     ]
    },
    {
     "ename": "IndexError",
     "evalue": "list index out of range",
     "output_type": "error",
     "traceback": [
      "\u001b[0;31m---------------------------------------------------------------------------\u001b[0m",
      "\u001b[0;31mIndexError\u001b[0m                                Traceback (most recent call last)",
      "\u001b[0;32m<ipython-input-15-b63f6d76434a>\u001b[0m in \u001b[0;36m<module>\u001b[0;34m\u001b[0m\n\u001b[1;32m      2\u001b[0m     \u001b[0;31m#print(i,f_pheno[i],orig_importance[i])\u001b[0m\u001b[0;34m\u001b[0m\u001b[0;34m\u001b[0m\u001b[0;34m\u001b[0m\u001b[0m\n\u001b[1;32m      3\u001b[0m     \u001b[0;31m#print(i,f_micro[i],orig_importance[i])\u001b[0m\u001b[0;34m\u001b[0m\u001b[0;34m\u001b[0m\u001b[0;34m\u001b[0m\u001b[0m\n\u001b[0;32m----> 4\u001b[0;31m     \u001b[0mprint\u001b[0m\u001b[0;34m(\u001b[0m\u001b[0mi\u001b[0m\u001b[0;34m,\u001b[0m\u001b[0mf_tumor\u001b[0m\u001b[0;34m[\u001b[0m\u001b[0mi\u001b[0m\u001b[0;34m]\u001b[0m\u001b[0;34m,\u001b[0m\u001b[0morig_importance\u001b[0m\u001b[0;34m[\u001b[0m\u001b[0mi\u001b[0m\u001b[0;34m]\u001b[0m\u001b[0;34m)\u001b[0m\u001b[0;34m\u001b[0m\u001b[0;34m\u001b[0m\u001b[0m\n\u001b[0m",
      "\u001b[0;31mIndexError\u001b[0m: list index out of range"
     ]
    }
   ],
   "source": [
    "for i in range(1,len(orig_importance)+1):\n",
    "    #print(i,f_pheno[i],orig_importance[i])\n",
    "    #print(i,f_micro[i],orig_importance[i])\n",
    "    print(i,f_tumor[i],orig_importance[i])"
   ]
  },
  {
   "cell_type": "code",
   "execution_count": 16,
   "metadata": {},
   "outputs": [],
   "source": [
    "import numpy as np"
   ]
  },
  {
   "cell_type": "code",
   "execution_count": 17,
   "metadata": {},
   "outputs": [],
   "source": [
    "l = [-0.0053, 0.1615, 0.0447, 0.3254, -0.0099, -0.0975, 0.0843, -0.206, 0.043, -0.1415, -0.0093, -0.1606, -0.0688, 0.0827, 0.0372, -0.0791, -0.0667, 0.0378, 0.0458, 0.1001, -0.1379, -0.1009, 0.0634, 0.1293, 0.055, 0.064, -0.026]\n"
   ]
  },
  {
   "cell_type": "code",
   "execution_count": 18,
   "metadata": {},
   "outputs": [],
   "source": [
    "a = min(l)\n",
    "b = max(l)"
   ]
  },
  {
   "cell_type": "code",
   "execution_count": 19,
   "metadata": {},
   "outputs": [
    {
     "data": {
      "text/plain": [
       "(-0.206, 0.3254)"
      ]
     },
     "execution_count": 19,
     "metadata": {},
     "output_type": "execute_result"
    }
   ],
   "source": [
    "a,b"
   ]
  },
  {
   "cell_type": "code",
   "execution_count": 20,
   "metadata": {},
   "outputs": [],
   "source": [
    "arr = np.asarray(l)"
   ]
  },
  {
   "cell_type": "code",
   "execution_count": 21,
   "metadata": {},
   "outputs": [],
   "source": [
    "arr = (arr - a)/(b-a)"
   ]
  },
  {
   "cell_type": "code",
   "execution_count": 22,
   "metadata": {},
   "outputs": [
    {
     "data": {
      "text/plain": [
       "[0.3777,\n",
       " 0.6916,\n",
       " 0.4718,\n",
       " 1.0,\n",
       " 0.369,\n",
       " 0.2042,\n",
       " 0.5463,\n",
       " 0.0,\n",
       " 0.4686,\n",
       " 0.1214,\n",
       " 0.3702,\n",
       " 0.0854,\n",
       " 0.2582,\n",
       " 0.5433,\n",
       " 0.4577,\n",
       " 0.2388,\n",
       " 0.2621,\n",
       " 0.4588,\n",
       " 0.4738,\n",
       " 0.576,\n",
       " 0.1282,\n",
       " 0.1978,\n",
       " 0.507,\n",
       " 0.631,\n",
       " 0.4912,\n",
       " 0.5081,\n",
       " 0.3387]"
      ]
     },
     "execution_count": 22,
     "metadata": {},
     "output_type": "execute_result"
    }
   ],
   "source": [
    "np.round(arr,4).tolist()"
   ]
  }
 ],
 "metadata": {
  "kernelspec": {
   "display_name": "Python 3",
   "language": "python",
   "name": "python3"
  },
  "language_info": {
   "codemirror_mode": {
    "name": "ipython",
    "version": 3
   },
   "file_extension": ".py",
   "mimetype": "text/x-python",
   "name": "python",
   "nbconvert_exporter": "python",
   "pygments_lexer": "ipython3",
   "version": "3.7.3"
  }
 },
 "nbformat": 4,
 "nbformat_minor": 4
}
