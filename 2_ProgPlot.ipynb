{
 "cells": [
  {
   "cell_type": "markdown",
   "metadata": {},
   "source": [
    "## Prognosis Plot Result"
   ]
  },
  {
   "cell_type": "code",
   "execution_count": 1,
   "metadata": {},
   "outputs": [
    {
     "name": "stderr",
     "output_type": "stream",
     "text": [
      "/home/shuzh/.local/lib/python3.7/site-packages/pandas/compat/_optional.py:138: UserWarning: Pandas requires version '2.7.0' or newer of 'numexpr' (version '2.6.9' currently installed).\n",
      "  warnings.warn(msg, UserWarning)\n"
     ]
    }
   ],
   "source": [
    "import matplotlib.pyplot as plt\n",
    "import numpy as np\n",
    "import seaborn as sns"
   ]
  },
  {
   "cell_type": "code",
   "execution_count": 2,
   "metadata": {},
   "outputs": [],
   "source": [
    "import matplotlib.patches as mpatches"
   ]
  },
  {
   "cell_type": "code",
   "execution_count": 3,
   "metadata": {},
   "outputs": [],
   "source": [
    "np.random.seed(0)"
   ]
  },
  {
   "cell_type": "code",
   "execution_count": 4,
   "metadata": {},
   "outputs": [],
   "source": [
    "labels = ['I','II','III','IV','V','VI','VII','VIII','IX','X','XI','XII']"
   ]
  },
  {
   "cell_type": "code",
   "execution_count": 5,
   "metadata": {},
   "outputs": [],
   "source": [
    "means = [0.63,0.6299,0.6466,0.6834,0.6576,0.6784,0.6916,0.6782,0.8206,0.8006,0.8337,0.8391]\n",
    "std   = [0.06,0.0514,0.0509,0.0584,0.0599,0.0465,0.029,0.0425,0.0615,0.0622,0.0551,0.0565]"
   ]
  },
  {
   "cell_type": "code",
   "execution_count": 6,
   "metadata": {},
   "outputs": [],
   "source": [
    "# for i in range(len(means)):\n",
    "#     globals()['arr_'+str(i+1)] = list(np.random.normal(means[i], std[i], 30))"
   ]
  },
  {
   "cell_type": "code",
   "execution_count": 7,
   "metadata": {},
   "outputs": [],
   "source": [
    "# plt.style.use('seaborn-ticks')\n",
    "# #['Solarize_Light2',\n",
    "# '_classic_test_patch', \n",
    "# 'bmh', \n",
    "# 'classic',\n",
    "# 'dark_background',\n",
    "# 'fast', \n",
    "# 'fivethirtyeight', \n",
    "# 'ggplot', 'grayscale',\n",
    "# 'seaborn', \n",
    "# 'seaborn-bright', \n",
    "# 'seaborn-colorblind',\n",
    "# 'seaborn-dark', \n",
    "# 'seaborn-dark-palette',\n",
    "# 'seaborn-darkgrid', \n",
    "# 'seaborn-deep', \n",
    "# 'seaborn-muted', \n",
    "# 'seaborn-notebook', \n",
    "# 'seaborn-paper',\n",
    "# 'seaborn-pastel', \n",
    "# 'seaborn-poster',\n",
    "# 'seaborn-talk', \n",
    "# 'seaborn-ticks',\n",
    "# 'seaborn-white',\n",
    "# 'seaborn-whitegrid', \n",
    "# 'tableau-colorblind10']\n",
    "\n",
    "#plt.style.use('ggplot')\n",
    "plt.style.use('bmh')"
   ]
  },
  {
   "cell_type": "code",
   "execution_count": 8,
   "metadata": {},
   "outputs": [
    {
     "name": "stderr",
     "output_type": "stream",
     "text": [
      "/sw/med/lab/garmire/modules/anaconda3/2019.03/lib/python3.7/site-packages/matplotlib/font_manager.py:1241: UserWarning: findfont: Font family ['Arial'] not found. Falling back to DejaVu Sans.\n",
      "  (prop.get_family(), self.defaultFamily[fontext]))\n",
      "/sw/med/lab/garmire/modules/anaconda3/2019.03/lib/python3.7/site-packages/matplotlib/font_manager.py:1241: UserWarning: findfont: Font family ['Arial'] not found. Falling back to DejaVu Sans.\n",
      "  (prop.get_family(), self.defaultFamily[fontext]))\n",
      "/sw/med/lab/garmire/modules/anaconda3/2019.03/lib/python3.7/site-packages/matplotlib/font_manager.py:1241: UserWarning: findfont: Font family ['Arial'] not found. Falling back to DejaVu Sans.\n",
      "  (prop.get_family(), self.defaultFamily[fontext]))\n"
     ]
    },
    {
     "data": {
      "image/png": "[encoded data removed]",
      "text/plain": [
       "<Figure size 576x432 with 1 Axes>"
      ]
     },
     "metadata": {
      "needs_background": "light"
     },
     "output_type": "display_data"
    }
   ],
   "source": [
    "plt.rc('font', family='Arial')\n",
    "fig, ax = plt.subplots(1, figsize=(8,6), sharey=False)\n",
    "\n",
    "x = np.arange(len(labels))  # the label locations\n",
    "width = 0.50  # the width of the bars\n",
    "\n",
    "color_list = ['#003f5c','#bc5090','#bc5090','#bc5090','#bc5090','#bc5090','#bc5090','#bc5090','#ffa600','#ffa600','#ffa600','#ffa600']\n",
    "baseline = mpatches.Patch(color='#003f5c', label='Baseline CoxPH')\n",
    "one_stage = mpatches.Patch(color='#bc5090', label='Cox-nnet-v2')\n",
    "two_stage = mpatches.Patch(color='#ffa600', label='Two-Stage Cox-nnet-v2')\n",
    "\n",
    "\n",
    "# Concordance\n",
    "rects1 = ax.bar(x, means, width, color=color_list, alpha=0.8, yerr=std, capsize=5, align='center')\n",
    "\n",
    "ax.set_ylim([0.5,0.80])\n",
    "ax.set_yticks(np.arange(0.5, 1.01, 0.05))\n",
    "ax.set_ylabel('Test Set - Concordance Index', fontsize=14, fontweight='bold')\n",
    "ax.set_xlabel('Feature Set', fontsize=14, fontweight='bold')\n",
    "ax.tick_params(axis=\"x\", labelsize=12)\n",
    "ax.set_xticks(np.arange(len(labels)))\n",
    "ax.set_xticklabels(labels)\n",
    "ax.tick_params(axis=\"y\", labelsize=12) \n",
    "ax.grid(linestyle='-', linewidth=0.5)\n",
    "#ax.legend(ncol=1, fontsize=12)\n",
    "#plt.legend(rects1[:3], ['Baseline CoxPH', 'Cox-nnet-v2','Two-Stage Cox-nnet-v2'])\n",
    "plt.legend(handles=[baseline,one_stage,two_stage],fontsize=14,loc=2,shadow=True)\n",
    "\n",
    "plt.tight_layout()\n",
    "plt.savefig('c-index-comparison_new.png', dpi=500)"
   ]
  }
 ],
 "metadata": {
  "kernelspec": {
   "display_name": "Python 3",
   "language": "python",
   "name": "python3"
  },
  "language_info": {
   "codemirror_mode": {
    "name": "ipython",
    "version": 3
   },
   "file_extension": ".py",
   "mimetype": "text/x-python",
   "name": "python",
   "nbconvert_exporter": "python",
   "pygments_lexer": "ipython3",
   "version": "3.7.3"
  }
 },
 "nbformat": 4,
 "nbformat_minor": 4
}
